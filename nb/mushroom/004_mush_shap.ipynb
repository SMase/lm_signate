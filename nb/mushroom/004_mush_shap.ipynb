{
 "cells": [
  {
   "cell_type": "markdown",
   "metadata": {
    "id": "xuMgmGZpRJyV"
   },
   "source": [
    "[![Open In Colab](https://colab.research.google.com/assets/colab-badge.svg)](https://colab.research.google.com/github/SMase/lm_signate/blob/main/nb/mushroom/004_mush_shap.ipynb)"
   ]
  },
  {
   "cell_type": "code",
   "execution_count": null,
   "metadata": {},
   "outputs": [],
   "source": [
    "# !nvidia-smi"
   ]
  },
  {
   "cell_type": "markdown",
   "metadata": {
    "id": "keFDiV5WMN3C"
   },
   "source": [
    "# Config"
   ]
  },
  {
   "cell_type": "code",
   "execution_count": 1,
   "metadata": {
    "executionInfo": {
     "elapsed": 211,
     "status": "ok",
     "timestamp": 1638695531482,
     "user": {
      "displayName": "SHOGO MASE",
      "photoUrl": "https://lh3.googleusercontent.com/a/default-user=s64",
      "userId": "03778749233417098240"
     },
     "user_tz": -540
    },
    "id": "gfM68SnXMQsu"
   },
   "outputs": [],
   "source": [
    "# LightGBM Baseline\n",
    "class Config:\n",
    "    name_v1 = \"lgb\"\n",
    "    model_params = dict(metric='auc',\n",
    "                        objective=\"binary\", \n",
    "                        )\n",
    "    fit_params = dict(early_stopping_rounds=100, \n",
    "                      verbose_eval=100)\n",
    "    \n",
    "\n",
    "    n_fold = 5 \n",
    "    seeds = [2021]\n",
    "    target_col = \"Y\"\n",
    "    submit = False\n",
    "    debug = False"
   ]
  },
  {
   "cell_type": "markdown",
   "metadata": {
    "id": "oky4hskoMYgE"
   },
   "source": [
    "# SetUp"
   ]
  },
  {
   "cell_type": "code",
   "execution_count": 2,
   "metadata": {
    "executionInfo": {
     "elapsed": 339,
     "status": "ok",
     "timestamp": 1638695533387,
     "user": {
      "displayName": "SHOGO MASE",
      "photoUrl": "https://lh3.googleusercontent.com/a/default-user=s64",
      "userId": "03778749233417098240"
     },
     "user_tz": -540
    },
    "id": "t_2c9heqOvlj"
   },
   "outputs": [],
   "source": [
    "COMP = \"signate\"\n",
    "COMP_NAME = \"mushroom\"\n",
    "COMP_ID = 105\n",
    "EXP = str(4).zfill(3)"
   ]
  },
  {
   "cell_type": "code",
   "execution_count": 3,
   "metadata": {
    "colab": {
     "base_uri": "https://localhost:8080/"
    },
    "executionInfo": {
     "elapsed": 9690,
     "status": "ok",
     "timestamp": 1638695544151,
     "user": {
      "displayName": "SHOGO MASE",
      "photoUrl": "https://lh3.googleusercontent.com/a/default-user=s64",
      "userId": "03778749233417098240"
     },
     "user_tz": -540
    },
    "id": "5gZ8Y4aOMQwq",
    "outputId": "ad42787d-9fb9-43c9-d6c3-404861e787cf"
   },
   "outputs": [
    {
     "name": "stderr",
     "output_type": "stream",
     "text": [
      "/usr/local/lib/python3.7/dist-packages/requests/__init__.py:91: RequestsDependencyWarning: urllib3 (1.26.7) or chardet (3.0.4) doesn't match a supported version!\n",
      "  RequestsDependencyWarning)\n"
     ]
    },
    {
     "name": "stdout",
     "output_type": "stream",
     "text": [
      "Drive already mounted at /content/drive; to attempt to forcibly remount, call drive.mount(\"/content/drive\", force_remount=True).\n"
     ]
    }
   ],
   "source": [
    "import os\n",
    "import shutil\n",
    "from requests import get\n",
    "\n",
    "from google.colab import drive, files\n",
    "drive.mount('/content/drive')\n",
    "\n",
    "!pip install --quiet signate\n",
    "!pip install --quiet shap\n",
    "!pip install --quiet optuna\n",
    "\n",
    "os.makedirs(\"/root/.signate\", exist_ok=True)  # API token 用のディレクトリを作成\n",
    "token_path = f\"/content/drive/MyDrive/{COMP}/signate.json\"\n",
    "shutil.copy(token_path, \"/root/.signate\")  # tokenをコピー\n",
    "\n",
    "DRIVE = f\"/content/drive/MyDrive/{COMP}/{COMP_NAME}\" # Drive のパス\n",
    "INPUT = os.path.join(DRIVE, \"input\")\n",
    "OUTPUT = os.path.join(DRIVE, \"output\")\n",
    "OUTPUT_EXP = os.path.join(OUTPUT, EXP)\n",
    "OUTPUT_EXP_MODEL = os.path.join(OUTPUT_EXP, \"model\")\n",
    "OUTPUT_EXP_PREDS = os.path.join(OUTPUT_EXP, \"preds\")\n",
    "OUTPUT_EXP_FIG = os.path.join(OUTPUT_EXP, \"fig\")\n",
    "OUTPUT_EXP_FEATS = os.path.join(OUTPUT_EXP, \"features\")\n",
    "\n",
    "SUBMISSION = os.path.join(DRIVE, \"submission\")\n",
    "\n",
    "if not os.path.isdir(INPUT):  # 初回時にのみデータをINPUTフォルダにロード\n",
    "    os.makedirs(INPUT, exist_ok=True)\n",
    "    !signate download --competition-id=$COMP_ID --path=$INPUT\n",
    "\n",
    "# 実験ごとのフォルダを作成\n",
    "dirs = [INPUT, OUTPUT, OUTPUT_EXP, SUBMISSION, OUTPUT_EXP_MODEL, OUTPUT_EXP_PREDS, OUTPUT_EXP_FIG, OUTPUT_EXP_FEATS]\n",
    "for d in dirs:\n",
    "    os.makedirs(d, exist_ok=True)"
   ]
  },
  {
   "cell_type": "markdown",
   "metadata": {
    "id": "3977XFh-MM2E"
   },
   "source": [
    "# Library"
   ]
  },
  {
   "cell_type": "code",
   "execution_count": 4,
   "metadata": {
    "executionInfo": {
     "elapsed": 1816,
     "status": "ok",
     "timestamp": 1638695571710,
     "user": {
      "displayName": "SHOGO MASE",
      "photoUrl": "https://lh3.googleusercontent.com/a/default-user=s64",
      "userId": "03778749233417098240"
     },
     "user_tz": -540
    },
    "id": "y7xCpHrccoAy"
   },
   "outputs": [],
   "source": [
    "import logging\n",
    "import datetime\n",
    "import warnings\n",
    "\n",
    "import joblib\n",
    "import pandas as pd\n",
    "import numpy as np\n",
    "import matplotlib.pyplot as plt\n",
    "import seaborn as sns\n",
    "\n",
    "from tqdm import tqdm\n",
    "from sklearn.utils import class_weight\n",
    "from sklearn.model_selection import StratifiedKFold, train_test_split\n",
    "from sklearn.metrics import confusion_matrix, roc_auc_score\n",
    "from sklearn.decomposition import TruncatedSVD, PCA\n",
    "from scipy.optimize import minimize, minimize_scalar\n",
    "\n",
    "import shap\n",
    "import optuna.integration.lightgbm as lgb\n",
    "from lightgbm import LGBMModel\n",
    "\n",
    "from sklearn.preprocessing import OneHotEncoder \n",
    "import os, gc\n",
    "%cp -R $INPUT ."
   ]
  },
  {
   "cell_type": "markdown",
   "metadata": {
    "id": "3EgkJZKDVgUQ"
   },
   "source": [
    "# Util"
   ]
  },
  {
   "cell_type": "code",
   "execution_count": 5,
   "metadata": {
    "executionInfo": {
     "elapsed": 218,
     "status": "ok",
     "timestamp": 1638695574480,
     "user": {
      "displayName": "SHOGO MASE",
      "photoUrl": "https://lh3.googleusercontent.com/a/default-user=s64",
      "userId": "03778749233417098240"
     },
     "user_tz": -540
    },
    "id": "b62DmLUYIwHZ"
   },
   "outputs": [],
   "source": [
    "class Logger:\n",
    "    \"\"\"log を残す用のクラス\"\"\"\n",
    "    def __init__(self, path):\n",
    "        self.general_logger = logging.getLogger(path)\n",
    "        stream_handler = logging.StreamHandler()\n",
    "        file_general_handler = logging.FileHandler(os.path.join(path, 'Experiment.log'))\n",
    "        if len(self.general_logger.handlers) == 0:\n",
    "            self.general_logger.addHandler(stream_handler)\n",
    "            self.general_logger.addHandler(file_general_handler)\n",
    "            self.general_logger.setLevel(logging.INFO)\n",
    "\n",
    "    def info(self, message):\n",
    "        # display time\n",
    "        self.general_logger.info('[{}] - {}'.format(self.now_string(), message))\n",
    "\n",
    "    @staticmethod\n",
    "    def now_string():\n",
    "        return str(datetime.datetime.now().strftime('%Y-%m-%d %H:%M:%S'))\n",
    "\n",
    "class Util:\n",
    "    \"\"\"pkl保存&load\"\"\"\n",
    "    @classmethod\n",
    "    def dump(cls, value, path):\n",
    "        joblib.dump(value, path, compress=True)\n",
    "\n",
    "    @classmethod\n",
    "    def load(cls, path):\n",
    "        return joblib.load(path)\n",
    "\n",
    "class TunerCVCheckpointCallback(object):\n",
    "    \"\"\"Optuna の LightGBMTunerCV から学習済みモデルを取り出すためのコールバック\"\"\"\n",
    "\n",
    "    def __init__(self):\n",
    "        # オンメモリでモデルを記録しておく辞書\n",
    "        self.cv_boosters = {}\n",
    "\n",
    "    @staticmethod\n",
    "    def params_to_hash(params):\n",
    "        \"\"\"パラメータを元に辞書のキーとなるハッシュを計算する\"\"\"\n",
    "        params_hash = hash(frozenset(params.items()))\n",
    "        return params_hash\n",
    "\n",
    "    def get_trained_model(self, params):\n",
    "        \"\"\"パラメータをキーとして学習済みモデルを取り出す\"\"\"\n",
    "        params_hash = self.params_to_hash(params)\n",
    "        return self.cv_boosters[params_hash]\n",
    "\n",
    "    def __call__(self, env):\n",
    "        \"\"\"LightGBM の各ラウンドで呼ばれるコールバック\"\"\"\n",
    "        # 学習に使うパラメータをハッシュ値に変換する\n",
    "        params_hash = self.params_to_hash(env.params)\n",
    "        # 初登場のパラメータならモデルへの参照を保持する\n",
    "        if params_hash not in self.cv_boosters:\n",
    "            self.cv_boosters[params_hash] = env.model"
   ]
  },
  {
   "cell_type": "code",
   "execution_count": 6,
   "metadata": {
    "executionInfo": {
     "elapsed": 189,
     "status": "ok",
     "timestamp": 1638695576212,
     "user": {
      "displayName": "SHOGO MASE",
      "photoUrl": "https://lh3.googleusercontent.com/a/default-user=s64",
      "userId": "03778749233417098240"
     },
     "user_tz": -540
    },
    "id": "P6qB3x_KVWCp"
   },
   "outputs": [],
   "source": [
    "warnings.filterwarnings(\"ignore\")  # ignore warnings\n",
    "logger = Logger(OUTPUT_EXP)  # set logger "
   ]
  },
  {
   "cell_type": "markdown",
   "metadata": {
    "id": "-P4DLiO1WOtl"
   },
   "source": [
    "# Preprocessing"
   ]
  },
  {
   "cell_type": "code",
   "execution_count": 42,
   "metadata": {
    "executionInfo": {
     "elapsed": 198,
     "status": "ok",
     "timestamp": 1638700194973,
     "user": {
      "displayName": "SHOGO MASE",
      "photoUrl": "https://lh3.googleusercontent.com/a/default-user=s64",
      "userId": "03778749233417098240"
     },
     "user_tz": -540
    },
    "id": "2RlhpveAVWF7"
   },
   "outputs": [],
   "source": [
    "def get_baseline_features(train_test_df, features):\n",
    "  # 目的変数変換\n",
    "  target_mapping = {\n",
    "      \"p\": 0,\n",
    "      \"e\": 1\n",
    "  }\n",
    "  train_test_df.loc[:, Config.target_col] = train_test_df[Config.target_col].map(target_mapping)\n",
    "\n",
    "  print(train_test_df)\n",
    "  # 欠損値一括NONE補完\n",
    "  for col in features:\n",
    "    train_test_df.loc[:, col] = train_test_df[col].astype(str).fillna(\"NONE\")\n",
    "\n",
    "  print(train_test_df)\n",
    "\n",
    "  return train_test_df\n",
    "\n",
    "\n",
    "def preprocess(train, test):\n",
    "    \"\"\"前処理の実行関数\"\"\"\n",
    "    train[\"is_train\"] = True\n",
    "    test[\"is_train\"] = False\n",
    "    train_test_df = pd.concat([train, test]).reset_index(drop=True)\n",
    "    # 特徴量選択\n",
    "    features = [f for f in train_test_df.columns if f not in [\"id\", Config.target_col, \"is_train\"]]\n",
    "\n",
    "    funcs = [get_baseline_features,]\n",
    "\n",
    "    output = []\n",
    "    for func in funcs:\n",
    "      filepath = os.path.join(OUTPUT_EXP_FEATS, f\"{func.__name__}.pkl\")\n",
    "      if os.path.isfile(filepath):\n",
    "        _df = Util.load(filepath)\n",
    "      else:\n",
    "        _df = func(train_test_df, features)  # 作った特徴量は保存\n",
    "        Util.dump(_df, filepath)\n",
    "      output.append(_df)\n",
    "    output = pd.concat(output, axis=1)\n",
    "    \n",
    "    # OneHotエンコーダ\n",
    "    ohe = OneHotEncoder()\n",
    "    ohe.fit(output[features])\n",
    "    # print([(f\"{f}_{c}\" for c in cs) for f, cs in zip(features, ohe.categories_)])\n",
    "    # 学習、検証、テスト用データ作成\n",
    "    train_X = ohe.transform(output[output[\"is_train\"] == True][features])\n",
    "    train_Y = output[output[\"is_train\"] == True][Config.target_col]\n",
    "    test_X = ohe.transform(output[output[\"is_train\"] == False][features])\n",
    "\n",
    "    columns = sum([[f\"{f}_{c}\" for c in cs] for f, cs in zip(features, ohe.categories_)], [])\n",
    "\n",
    "    return train_X, train_Y, test_X, columns "
   ]
  },
  {
   "cell_type": "markdown",
   "metadata": {
    "id": "yMCKpqh8aUuF"
   },
   "source": [
    "# Funcs"
   ]
  },
  {
   "cell_type": "code",
   "execution_count": null,
   "metadata": {
    "id": "jNWFb1izVWLe"
   },
   "outputs": [],
   "source": [
    "class LGBM:\n",
    "    \"\"\"LGBMModelのラッパー\"\"\"\n",
    "    def __init__(self):\n",
    "        self.model = None\n",
    "\n",
    "    def build(self):\n",
    "        self.model = LGBMModel(**Config.model_params)\n",
    "    \n",
    "    def fit(self, tr_x, tr_y, va_x, va_y):\n",
    "        self.model.fit(tr_x, tr_y, eval_set=[(va_x, va_y)], **Config.fit_params)\n",
    "    \n",
    "    def predict(self, x):\n",
    "        preds = self.model.predict(x)\n",
    "        return preds\n",
    "\n",
    "    def save(self, filepath):\n",
    "        Util.dump(self.model, filepath)\n",
    "    \n",
    "    def load(self, filepath):\n",
    "        self.model = Util.load(filepath)\n",
    "\n",
    "\n",
    "\n",
    "def skf(train, n_splits, random_state):\n",
    "    \"\"\"層化KFoldのインデックスのリストを作成\"\"\"\n",
    "    skf = StratifiedKFold(n_splits=n_splits, random_state=random_state, shuffle=True)\n",
    "    return list(skf.split(train, train[Config.target_col]))\n",
    "\n",
    "\n",
    "def metrics(y_true, y_pred):\n",
    "    \"\"\"fbeta(beta=7)の閾値最適化評価関数\"\"\"\n",
    "    bt = opt_fbeta_threshold(y_true, y_pred)\n",
    "    print(f\"bt:{bt}\")\n",
    "    score = fbeta_score(y_true, y_pred >= bt, beta=7)\n",
    "    return score\n",
    "\n",
    "\n",
    "def tree_importance(X, y, Model, cv):\n",
    "    \"\"\"importance を取得\"\"\"\n",
    "    feature_importance_df = pd.DataFrame()\n",
    "    for i, (tr_idx, va_idx) in enumerate(cv):\n",
    "        tr_x, va_x = X.values[tr_idx], X.values[va_idx]\n",
    "        tr_y, va_y = y.values[tr_idx], y.values[va_idx]\n",
    "\n",
    "        est = Model()\n",
    "        est.build()\n",
    "\n",
    "        est.fit(tr_x, tr_y, va_x, va_y) \n",
    "        _df = pd.DataFrame()\n",
    "        _df['feature_importance'] = est.model.feature_importances_\n",
    "        _df['column'] = X.columns\n",
    "        _df['fold'] = i + 1\n",
    "        feature_importance_df = pd.concat([feature_importance_df, _df], axis=0, ignore_index=True)\n",
    "\n",
    "    order = feature_importance_df.groupby('column') \\\n",
    "                .sum()[['feature_importance']] \\\n",
    "                .sort_values('feature_importance', ascending=False).index[:50]\n",
    "    fig, ax = plt.subplots(figsize=(12, max(4, len(order) * .2)))\n",
    "    sns.boxenplot(data=feature_importance_df, y='column', x='feature_importance', order=order, ax=ax,\n",
    "                  palette='viridis')\n",
    "    fig.tight_layout()\n",
    "    ax.grid()\n",
    "    ax.set_title('feature importance')\n",
    "    fig.tight_layout()\n",
    "    return fig, feature_importance_df\n",
    "\n",
    "\n",
    "def visualize_confusion_matrix(\n",
    "        y_true,\n",
    "        pred_label,\n",
    "        height=.6,\n",
    "        labels=None):\n",
    "    \"\"\"混合行列をプロット\"\"\"\n",
    "    conf = confusion_matrix(y_true=y_true,\n",
    "                            y_pred=pred_label,\n",
    "                            normalize='true')\n",
    "\n",
    "    n_labels = len(conf)\n",
    "    size = n_labels * height\n",
    "    fig, ax = plt.subplots(figsize=(size * 4, size * 3))\n",
    "    sns.heatmap(conf, cmap='Blues', ax=ax, annot=True, fmt='.2f')\n",
    "    ax.set_ylabel('Label')\n",
    "    ax.set_xlabel('Predict')\n",
    "\n",
    "    if labels is not None:\n",
    "        ax.set_yticklabels(labels)\n",
    "        ax.set_xticklabels(labels)\n",
    "        ax.tick_params('y', labelrotation=0)\n",
    "        ax.tick_params('x', labelrotation=90)\n",
    "\n",
    "    plt.show()\n",
    "    return fig"
   ]
  },
  {
   "cell_type": "markdown",
   "metadata": {
    "id": "QbJ29-jGMS-c"
   },
   "source": [
    "## データ読み込み"
   ]
  },
  {
   "cell_type": "code",
   "execution_count": 43,
   "metadata": {
    "colab": {
     "base_uri": "https://localhost:8080/"
    },
    "executionInfo": {
     "elapsed": 37725,
     "status": "ok",
     "timestamp": 1638700263724,
     "user": {
      "displayName": "SHOGO MASE",
      "photoUrl": "https://lh3.googleusercontent.com/a/default-user=s64",
      "userId": "03778749233417098240"
     },
     "user_tz": -540
    },
    "id": "7wiN2N4wHJnY",
    "outputId": "5eb2f0ae-a6a8-420d-9acb-6d0a76877fd2"
   },
   "outputs": [
    {
     "name": "stderr",
     "output_type": "stream",
     "text": [
      "\u001b[32m[I 2021-12-05 10:30:28,158]\u001b[0m A new study created in memory with name: no-name-b7225959-77a3-456d-8f15-3a2bca991ff7\u001b[0m\n"
     ]
    },
    {
     "name": "stdout",
     "output_type": "stream",
     "text": [
      "# ============= # Preprocess # ============= #\n",
      "(4062, 117)\n"
     ]
    },
    {
     "name": "stderr",
     "output_type": "stream",
     "text": [
      "\n",
      "  0%|          | 0/7 [00:00<?, ?it/s]\u001b[A\n",
      "feature_fraction, val_score: -inf:   0%|          | 0/7 [00:00<?, ?it/s]\u001b[A\n",
      "feature_fraction, val_score: 1.000000:   0%|          | 0/7 [00:00<?, ?it/s]\u001b[A\n",
      "feature_fraction, val_score: 1.000000:  14%|#4        | 1/7 [00:00<00:02,  2.26it/s]\u001b[A\u001b[32m[I 2021-12-05 10:30:28,622]\u001b[0m Trial 0 finished with value: 1.0 and parameters: {'feature_fraction': 0.4}. Best is trial 0 with value: 1.0.\u001b[0m\n",
      "\n",
      "feature_fraction, val_score: 1.000000:  14%|#4        | 1/7 [00:00<00:02,  2.26it/s]\u001b[A"
     ]
    },
    {
     "name": "stdout",
     "output_type": "stream",
     "text": [
      "[100]\tcv_agg's auc: 1 + 0\n"
     ]
    },
    {
     "name": "stderr",
     "output_type": "stream",
     "text": [
      "\n",
      "feature_fraction, val_score: 1.000000:  14%|#4        | 1/7 [00:00<00:02,  2.26it/s]\u001b[A\n",
      "feature_fraction, val_score: 1.000000:  29%|##8       | 2/7 [00:00<00:02,  2.15it/s]\u001b[A\u001b[32m[I 2021-12-05 10:30:29,100]\u001b[0m Trial 1 finished with value: 1.0 and parameters: {'feature_fraction': 0.6}. Best is trial 0 with value: 1.0.\u001b[0m\n",
      "\n",
      "feature_fraction, val_score: 1.000000:  29%|##8       | 2/7 [00:00<00:02,  2.15it/s]\u001b[A"
     ]
    },
    {
     "name": "stdout",
     "output_type": "stream",
     "text": [
      "[100]\tcv_agg's auc: 1 + 0\n"
     ]
    },
    {
     "name": "stderr",
     "output_type": "stream",
     "text": [
      "\n",
      "feature_fraction, val_score: 1.000000:  29%|##8       | 2/7 [00:01<00:02,  2.15it/s]\u001b[A\n",
      "feature_fraction, val_score: 1.000000:  43%|####2     | 3/7 [00:01<00:01,  2.14it/s]\u001b[A\u001b[32m[I 2021-12-05 10:30:29,574]\u001b[0m Trial 2 finished with value: 1.0 and parameters: {'feature_fraction': 0.7}. Best is trial 0 with value: 1.0.\u001b[0m\n",
      "\n",
      "feature_fraction, val_score: 1.000000:  43%|####2     | 3/7 [00:01<00:01,  2.14it/s]\u001b[A"
     ]
    },
    {
     "name": "stdout",
     "output_type": "stream",
     "text": [
      "[100]\tcv_agg's auc: 1 + 0\n"
     ]
    },
    {
     "name": "stderr",
     "output_type": "stream",
     "text": [
      "\n",
      "feature_fraction, val_score: 1.000000:  43%|####2     | 3/7 [00:01<00:01,  2.14it/s]\u001b[A\n",
      "feature_fraction, val_score: 1.000000:  57%|#####7    | 4/7 [00:01<00:01,  2.22it/s]\u001b[A\u001b[32m[I 2021-12-05 10:30:29,996]\u001b[0m Trial 3 finished with value: 1.0 and parameters: {'feature_fraction': 0.5}. Best is trial 0 with value: 1.0.\u001b[0m\n",
      "\n",
      "feature_fraction, val_score: 1.000000:  57%|#####7    | 4/7 [00:01<00:01,  2.22it/s]\u001b[A"
     ]
    },
    {
     "name": "stdout",
     "output_type": "stream",
     "text": [
      "[100]\tcv_agg's auc: 1 + 0\n"
     ]
    },
    {
     "name": "stderr",
     "output_type": "stream",
     "text": [
      "\n",
      "feature_fraction, val_score: 1.000000:  57%|#####7    | 4/7 [00:02<00:01,  2.22it/s]\u001b[A\n",
      "feature_fraction, val_score: 1.000000:  71%|#######1  | 5/7 [00:02<00:00,  2.17it/s]\u001b[A\u001b[32m[I 2021-12-05 10:30:30,473]\u001b[0m Trial 4 finished with value: 1.0 and parameters: {'feature_fraction': 0.8}. Best is trial 0 with value: 1.0.\u001b[0m\n",
      "\n",
      "feature_fraction, val_score: 1.000000:  71%|#######1  | 5/7 [00:02<00:00,  2.17it/s]\u001b[A"
     ]
    },
    {
     "name": "stdout",
     "output_type": "stream",
     "text": [
      "[100]\tcv_agg's auc: 1 + 0\n"
     ]
    },
    {
     "name": "stderr",
     "output_type": "stream",
     "text": [
      "\n",
      "feature_fraction, val_score: 1.000000:  71%|#######1  | 5/7 [00:02<00:00,  2.17it/s]\u001b[A\n",
      "feature_fraction, val_score: 1.000000:  86%|########5 | 6/7 [00:02<00:00,  2.06it/s]\u001b[A\u001b[32m[I 2021-12-05 10:30:31,005]\u001b[0m Trial 5 finished with value: 1.0 and parameters: {'feature_fraction': 0.8999999999999999}. Best is trial 0 with value: 1.0.\u001b[0m\n",
      "\n",
      "feature_fraction, val_score: 1.000000:  86%|########5 | 6/7 [00:02<00:00,  2.06it/s]\u001b[A"
     ]
    },
    {
     "name": "stdout",
     "output_type": "stream",
     "text": [
      "[100]\tcv_agg's auc: 1 + 0\n"
     ]
    },
    {
     "name": "stderr",
     "output_type": "stream",
     "text": [
      "\n",
      "feature_fraction, val_score: 1.000000:  86%|########5 | 6/7 [00:03<00:00,  2.06it/s]\u001b[A\n",
      "feature_fraction, val_score: 1.000000: 100%|##########| 7/7 [00:03<00:00,  1.96it/s]\u001b[A\u001b[32m[I 2021-12-05 10:30:31,570]\u001b[0m Trial 6 finished with value: 1.0 and parameters: {'feature_fraction': 1.0}. Best is trial 0 with value: 1.0.\u001b[0m\n",
      "feature_fraction, val_score: 1.000000: 100%|##########| 7/7 [00:03<00:00,  2.05it/s]\n"
     ]
    },
    {
     "name": "stdout",
     "output_type": "stream",
     "text": [
      "[100]\tcv_agg's auc: 1 + 0\n"
     ]
    },
    {
     "name": "stderr",
     "output_type": "stream",
     "text": [
      "\n",
      "  0%|          | 0/20 [00:00<?, ?it/s]\u001b[A\n",
      "num_leaves, val_score: 1.000000:   0%|          | 0/20 [00:00<?, ?it/s]\u001b[A\n",
      "num_leaves, val_score: 1.000000:   0%|          | 0/20 [00:00<?, ?it/s]\u001b[A\n",
      "num_leaves, val_score: 1.000000:   5%|5         | 1/20 [00:00<00:14,  1.33it/s]\u001b[A\u001b[32m[I 2021-12-05 10:30:32,351]\u001b[0m Trial 7 finished with value: 1.0 and parameters: {'num_leaves': 207}. Best is trial 7 with value: 1.0.\u001b[0m\n",
      "\n",
      "num_leaves, val_score: 1.000000:   5%|5         | 1/20 [00:00<00:14,  1.33it/s]\u001b[A"
     ]
    },
    {
     "name": "stdout",
     "output_type": "stream",
     "text": [
      "[100]\tcv_agg's auc: 1 + 0\n"
     ]
    },
    {
     "name": "stderr",
     "output_type": "stream",
     "text": [
      "\n",
      "num_leaves, val_score: 1.000000:   5%|5         | 1/20 [00:01<00:14,  1.33it/s]\u001b[A\n",
      "num_leaves, val_score: 1.000000:  10%|#         | 2/20 [00:01<00:13,  1.32it/s]\u001b[A\u001b[32m[I 2021-12-05 10:30:33,119]\u001b[0m Trial 8 finished with value: 1.0 and parameters: {'num_leaves': 230}. Best is trial 7 with value: 1.0.\u001b[0m\n",
      "\n",
      "num_leaves, val_score: 1.000000:  10%|#         | 2/20 [00:01<00:13,  1.32it/s]\u001b[A"
     ]
    },
    {
     "name": "stdout",
     "output_type": "stream",
     "text": [
      "[100]\tcv_agg's auc: 1 + 0\n"
     ]
    },
    {
     "name": "stderr",
     "output_type": "stream",
     "text": [
      "\n",
      "num_leaves, val_score: 1.000000:  10%|#         | 2/20 [00:02<00:13,  1.32it/s]\u001b[A\n",
      "num_leaves, val_score: 1.000000:  15%|#5        | 3/20 [00:02<00:11,  1.48it/s]\u001b[A\u001b[32m[I 2021-12-05 10:30:33,689]\u001b[0m Trial 9 finished with value: 1.0 and parameters: {'num_leaves': 77}. Best is trial 7 with value: 1.0.\u001b[0m\n",
      "\n",
      "num_leaves, val_score: 1.000000:  15%|#5        | 3/20 [00:02<00:11,  1.48it/s]\u001b[A"
     ]
    },
    {
     "name": "stdout",
     "output_type": "stream",
     "text": [
      "[100]\tcv_agg's auc: 1 + 0\n"
     ]
    },
    {
     "name": "stderr",
     "output_type": "stream",
     "text": [
      "\n",
      "num_leaves, val_score: 1.000000:  15%|#5        | 3/20 [00:02<00:11,  1.48it/s]\u001b[A\n",
      "num_leaves, val_score: 1.000000:  20%|##        | 4/20 [00:02<00:11,  1.44it/s]\u001b[A\u001b[32m[I 2021-12-05 10:30:34,409]\u001b[0m Trial 10 finished with value: 1.0 and parameters: {'num_leaves': 120}. Best is trial 7 with value: 1.0.\u001b[0m\n",
      "\n",
      "num_leaves, val_score: 1.000000:  20%|##        | 4/20 [00:02<00:11,  1.44it/s]\u001b[A"
     ]
    },
    {
     "name": "stdout",
     "output_type": "stream",
     "text": [
      "[100]\tcv_agg's auc: 1 + 0\n"
     ]
    },
    {
     "name": "stderr",
     "output_type": "stream",
     "text": [
      "\n",
      "num_leaves, val_score: 1.000000:  20%|##        | 4/20 [00:03<00:11,  1.44it/s]\u001b[A\n",
      "num_leaves, val_score: 1.000000:  25%|##5       | 5/20 [00:03<00:10,  1.40it/s]\u001b[A\u001b[32m[I 2021-12-05 10:30:35,163]\u001b[0m Trial 11 finished with value: 1.0 and parameters: {'num_leaves': 225}. Best is trial 7 with value: 1.0.\u001b[0m\n",
      "\n",
      "num_leaves, val_score: 1.000000:  25%|##5       | 5/20 [00:03<00:10,  1.40it/s]\u001b[A"
     ]
    },
    {
     "name": "stdout",
     "output_type": "stream",
     "text": [
      "[100]\tcv_agg's auc: 1 + 0\n"
     ]
    },
    {
     "name": "stderr",
     "output_type": "stream",
     "text": [
      "\n",
      "num_leaves, val_score: 1.000000:  25%|##5       | 5/20 [00:04<00:10,  1.40it/s]\u001b[A\n",
      "num_leaves, val_score: 1.000000:  30%|###       | 6/20 [00:04<00:09,  1.47it/s]\u001b[A\u001b[32m[I 2021-12-05 10:30:35,782]\u001b[0m Trial 12 finished with value: 1.0 and parameters: {'num_leaves': 87}. Best is trial 7 with value: 1.0.\u001b[0m\n",
      "\n",
      "num_leaves, val_score: 1.000000:  30%|###       | 6/20 [00:04<00:09,  1.47it/s]\u001b[A"
     ]
    },
    {
     "name": "stdout",
     "output_type": "stream",
     "text": [
      "[100]\tcv_agg's auc: 1 + 0\n"
     ]
    },
    {
     "name": "stderr",
     "output_type": "stream",
     "text": [
      "\n",
      "num_leaves, val_score: 1.000000:  30%|###       | 6/20 [00:04<00:09,  1.47it/s]\u001b[A\n",
      "num_leaves, val_score: 1.000000:  35%|###5      | 7/20 [00:04<00:09,  1.44it/s]\u001b[A\u001b[32m[I 2021-12-05 10:30:36,504]\u001b[0m Trial 13 finished with value: 1.0 and parameters: {'num_leaves': 167}. Best is trial 7 with value: 1.0.\u001b[0m\n",
      "\n",
      "num_leaves, val_score: 1.000000:  35%|###5      | 7/20 [00:04<00:09,  1.44it/s]\u001b[A"
     ]
    },
    {
     "name": "stdout",
     "output_type": "stream",
     "text": [
      "[100]\tcv_agg's auc: 1 + 0\n"
     ]
    },
    {
     "name": "stderr",
     "output_type": "stream",
     "text": [
      "\n",
      "num_leaves, val_score: 1.000000:  35%|###5      | 7/20 [00:05<00:09,  1.44it/s]\u001b[A\n",
      "num_leaves, val_score: 1.000000:  40%|####      | 8/20 [00:05<00:07,  1.57it/s]\u001b[A\u001b[32m[I 2021-12-05 10:30:37,018]\u001b[0m Trial 14 finished with value: 1.0 and parameters: {'num_leaves': 48}. Best is trial 7 with value: 1.0.\u001b[0m\n",
      "\n",
      "num_leaves, val_score: 1.000000:  40%|####      | 8/20 [00:05<00:07,  1.57it/s]\u001b[A"
     ]
    },
    {
     "name": "stdout",
     "output_type": "stream",
     "text": [
      "[100]\tcv_agg's auc: 1 + 0\n"
     ]
    },
    {
     "name": "stderr",
     "output_type": "stream",
     "text": [
      "\n",
      "num_leaves, val_score: 1.000000:  40%|####      | 8/20 [00:06<00:07,  1.57it/s]\u001b[A\n",
      "num_leaves, val_score: 1.000000:  45%|####5     | 9/20 [00:06<00:07,  1.50it/s]\u001b[A\u001b[32m[I 2021-12-05 10:30:37,746]\u001b[0m Trial 15 finished with value: 1.0 and parameters: {'num_leaves': 232}. Best is trial 7 with value: 1.0.\u001b[0m\n",
      "\n",
      "num_leaves, val_score: 1.000000:  45%|####5     | 9/20 [00:06<00:07,  1.50it/s]\u001b[A"
     ]
    },
    {
     "name": "stdout",
     "output_type": "stream",
     "text": [
      "[100]\tcv_agg's auc: 1 + 0\n"
     ]
    },
    {
     "name": "stderr",
     "output_type": "stream",
     "text": [
      "\n",
      "num_leaves, val_score: 1.000000:  45%|####5     | 9/20 [00:06<00:07,  1.50it/s]\u001b[A\n",
      "num_leaves, val_score: 1.000000:  50%|#####     | 10/20 [00:06<00:06,  1.59it/s]\u001b[A\u001b[32m[I 2021-12-05 10:30:38,291]\u001b[0m Trial 16 finished with value: 1.0 and parameters: {'num_leaves': 59}. Best is trial 7 with value: 1.0.\u001b[0m\n",
      "\n",
      "num_leaves, val_score: 1.000000:  50%|#####     | 10/20 [00:06<00:06,  1.59it/s]\u001b[A"
     ]
    },
    {
     "name": "stdout",
     "output_type": "stream",
     "text": [
      "[100]\tcv_agg's auc: 1 + 0\n"
     ]
    },
    {
     "name": "stderr",
     "output_type": "stream",
     "text": [
      "\n",
      "num_leaves, val_score: 1.000000:  50%|#####     | 10/20 [00:07<00:06,  1.59it/s]\u001b[A\n",
      "num_leaves, val_score: 1.000000:  55%|#####5    | 11/20 [00:07<00:06,  1.49it/s]\u001b[A\u001b[32m[I 2021-12-05 10:30:39,052]\u001b[0m Trial 17 finished with value: 1.0 and parameters: {'num_leaves': 155}. Best is trial 7 with value: 1.0.\u001b[0m\n",
      "\n",
      "num_leaves, val_score: 1.000000:  55%|#####5    | 11/20 [00:07<00:06,  1.49it/s]\u001b[A"
     ]
    },
    {
     "name": "stdout",
     "output_type": "stream",
     "text": [
      "[100]\tcv_agg's auc: 1 + 0\n"
     ]
    },
    {
     "name": "stderr",
     "output_type": "stream",
     "text": [
      "\n",
      "num_leaves, val_score: 1.000000:  55%|#####5    | 11/20 [00:08<00:06,  1.49it/s]\u001b[A\n",
      "num_leaves, val_score: 1.000000:  60%|######    | 12/20 [00:08<00:05,  1.45it/s]\u001b[A\u001b[32m[I 2021-12-05 10:30:39,788]\u001b[0m Trial 18 finished with value: 1.0 and parameters: {'num_leaves': 252}. Best is trial 7 with value: 1.0.\u001b[0m\n",
      "\n",
      "num_leaves, val_score: 1.000000:  60%|######    | 12/20 [00:08<00:05,  1.45it/s]\u001b[A"
     ]
    },
    {
     "name": "stdout",
     "output_type": "stream",
     "text": [
      "[100]\tcv_agg's auc: 1 + 0\n"
     ]
    },
    {
     "name": "stderr",
     "output_type": "stream",
     "text": [
      "\n",
      "num_leaves, val_score: 1.000000:  60%|######    | 12/20 [00:08<00:05,  1.45it/s]\u001b[A\n",
      "num_leaves, val_score: 1.000000:  65%|######5   | 13/20 [00:08<00:04,  1.41it/s]\u001b[A\u001b[32m[I 2021-12-05 10:30:40,548]\u001b[0m Trial 19 finished with value: 1.0 and parameters: {'num_leaves': 197}. Best is trial 7 with value: 1.0.\u001b[0m\n",
      "\n",
      "num_leaves, val_score: 1.000000:  65%|######5   | 13/20 [00:08<00:04,  1.41it/s]\u001b[A"
     ]
    },
    {
     "name": "stdout",
     "output_type": "stream",
     "text": [
      "[100]\tcv_agg's auc: 1 + 0\n"
     ]
    },
    {
     "name": "stderr",
     "output_type": "stream",
     "text": [
      "\n",
      "num_leaves, val_score: 1.000000:  65%|######5   | 13/20 [00:09<00:04,  1.41it/s]\u001b[A\n",
      "num_leaves, val_score: 1.000000:  70%|#######   | 14/20 [00:09<00:03,  1.66it/s]\u001b[A\u001b[32m[I 2021-12-05 10:30:40,905]\u001b[0m Trial 20 finished with value: 1.0 and parameters: {'num_leaves': 7}. Best is trial 7 with value: 1.0.\u001b[0m\n",
      "\n",
      "num_leaves, val_score: 1.000000:  70%|#######   | 14/20 [00:09<00:03,  1.66it/s]\u001b[A"
     ]
    },
    {
     "name": "stdout",
     "output_type": "stream",
     "text": [
      "[100]\tcv_agg's auc: 1 + 0\n"
     ]
    },
    {
     "name": "stderr",
     "output_type": "stream",
     "text": [
      "\n",
      "num_leaves, val_score: 1.000000:  70%|#######   | 14/20 [00:10<00:03,  1.66it/s]\u001b[A\n",
      "num_leaves, val_score: 1.000000:  75%|#######5  | 15/20 [00:10<00:03,  1.54it/s]\u001b[A\u001b[32m[I 2021-12-05 10:30:41,656]\u001b[0m Trial 21 finished with value: 1.0 and parameters: {'num_leaves': 193}. Best is trial 7 with value: 1.0.\u001b[0m\n",
      "\n",
      "num_leaves, val_score: 1.000000:  75%|#######5  | 15/20 [00:10<00:03,  1.54it/s]\u001b[A"
     ]
    },
    {
     "name": "stdout",
     "output_type": "stream",
     "text": [
      "[100]\tcv_agg's auc: 1 + 0\n"
     ]
    },
    {
     "name": "stderr",
     "output_type": "stream",
     "text": [
      "\n",
      "num_leaves, val_score: 1.000000:  75%|#######5  | 15/20 [00:10<00:03,  1.54it/s]\u001b[A\n",
      "num_leaves, val_score: 1.000000:  80%|########  | 16/20 [00:10<00:02,  1.47it/s]\u001b[A\u001b[32m[I 2021-12-05 10:30:42,419]\u001b[0m Trial 22 finished with value: 1.0 and parameters: {'num_leaves': 203}. Best is trial 7 with value: 1.0.\u001b[0m\n",
      "\n",
      "num_leaves, val_score: 1.000000:  80%|########  | 16/20 [00:10<00:02,  1.47it/s]\u001b[A"
     ]
    },
    {
     "name": "stdout",
     "output_type": "stream",
     "text": [
      "[100]\tcv_agg's auc: 1 + 0\n"
     ]
    },
    {
     "name": "stderr",
     "output_type": "stream",
     "text": [
      "\n",
      "num_leaves, val_score: 1.000000:  80%|########  | 16/20 [00:11<00:02,  1.47it/s]\u001b[A\n",
      "num_leaves, val_score: 1.000000:  85%|########5 | 17/20 [00:11<00:02,  1.41it/s]\u001b[A\u001b[32m[I 2021-12-05 10:30:43,197]\u001b[0m Trial 23 finished with value: 1.0 and parameters: {'num_leaves': 253}. Best is trial 7 with value: 1.0.\u001b[0m\n",
      "\n",
      "num_leaves, val_score: 1.000000:  85%|########5 | 17/20 [00:11<00:02,  1.41it/s]\u001b[A"
     ]
    },
    {
     "name": "stdout",
     "output_type": "stream",
     "text": [
      "[100]\tcv_agg's auc: 1 + 0\n"
     ]
    },
    {
     "name": "stderr",
     "output_type": "stream",
     "text": [
      "\n",
      "num_leaves, val_score: 1.000000:  85%|########5 | 17/20 [00:12<00:02,  1.41it/s]\u001b[A\n",
      "num_leaves, val_score: 1.000000:  90%|######### | 18/20 [00:12<00:01,  1.39it/s]\u001b[A\u001b[32m[I 2021-12-05 10:30:43,934]\u001b[0m Trial 24 finished with value: 1.0 and parameters: {'num_leaves': 175}. Best is trial 7 with value: 1.0.\u001b[0m\n",
      "\n",
      "num_leaves, val_score: 1.000000:  90%|######### | 18/20 [00:12<00:01,  1.39it/s]\u001b[A"
     ]
    },
    {
     "name": "stdout",
     "output_type": "stream",
     "text": [
      "[100]\tcv_agg's auc: 1 + 0\n"
     ]
    },
    {
     "name": "stderr",
     "output_type": "stream",
     "text": [
      "\n",
      "num_leaves, val_score: 1.000000:  90%|######### | 18/20 [00:13<00:01,  1.39it/s]\u001b[A\n",
      "num_leaves, val_score: 1.000000:  95%|#########5| 19/20 [00:13<00:00,  1.38it/s]\u001b[A\u001b[32m[I 2021-12-05 10:30:44,676]\u001b[0m Trial 25 finished with value: 1.0 and parameters: {'num_leaves': 131}. Best is trial 7 with value: 1.0.\u001b[0m\n",
      "\n",
      "num_leaves, val_score: 1.000000:  95%|#########5| 19/20 [00:13<00:00,  1.38it/s]\u001b[A"
     ]
    },
    {
     "name": "stdout",
     "output_type": "stream",
     "text": [
      "[100]\tcv_agg's auc: 1 + 0\n"
     ]
    },
    {
     "name": "stderr",
     "output_type": "stream",
     "text": [
      "\n",
      "num_leaves, val_score: 1.000000:  95%|#########5| 19/20 [00:13<00:00,  1.38it/s]\u001b[A\n",
      "num_leaves, val_score: 1.000000: 100%|##########| 20/20 [00:13<00:00,  1.35it/s]\u001b[A\u001b[32m[I 2021-12-05 10:30:45,460]\u001b[0m Trial 26 finished with value: 1.0 and parameters: {'num_leaves': 244}. Best is trial 7 with value: 1.0.\u001b[0m\n",
      "num_leaves, val_score: 1.000000: 100%|##########| 20/20 [00:13<00:00,  1.44it/s]\n"
     ]
    },
    {
     "name": "stdout",
     "output_type": "stream",
     "text": [
      "[100]\tcv_agg's auc: 1 + 0\n"
     ]
    },
    {
     "name": "stderr",
     "output_type": "stream",
     "text": [
      "\n",
      "  0%|          | 0/10 [00:00<?, ?it/s]\u001b[A\n",
      "bagging, val_score: 1.000000:   0%|          | 0/10 [00:00<?, ?it/s]\u001b[A"
     ]
    },
    {
     "name": "stdout",
     "output_type": "stream",
     "text": [
      "[100]\tcv_agg's auc: 1 + 0\n"
     ]
    },
    {
     "name": "stderr",
     "output_type": "stream",
     "text": [
      "\n",
      "bagging, val_score: 1.000000:   0%|          | 0/10 [00:00<?, ?it/s]\u001b[A\n",
      "bagging, val_score: 1.000000:  10%|#         | 1/10 [00:00<00:05,  1.67it/s]\u001b[A\u001b[32m[I 2021-12-05 10:30:46,096]\u001b[0m Trial 27 finished with value: 1.0 and parameters: {'bagging_fraction': 0.7849010638900762, 'bagging_freq': 2}. Best is trial 27 with value: 1.0.\u001b[0m\n",
      "\n",
      "bagging, val_score: 1.000000:  10%|#         | 1/10 [00:00<00:05,  1.67it/s]\u001b[A\n",
      "bagging, val_score: 1.000000:  10%|#         | 1/10 [00:01<00:05,  1.67it/s]\u001b[A\n",
      "bagging, val_score: 1.000000:  20%|##        | 2/10 [00:01<00:04,  1.87it/s]\u001b[A\u001b[32m[I 2021-12-05 10:30:46,586]\u001b[0m Trial 28 finished with value: 1.0 and parameters: {'bagging_fraction': 0.9685999705969348, 'bagging_freq': 7}. Best is trial 27 with value: 1.0.\u001b[0m\n",
      "\n",
      "bagging, val_score: 1.000000:  20%|##        | 2/10 [00:01<00:04,  1.87it/s]\u001b[A"
     ]
    },
    {
     "name": "stdout",
     "output_type": "stream",
     "text": [
      "[100]\tcv_agg's auc: 1 + 0\n",
      "[100]\tcv_agg's auc: 1 + 0\n"
     ]
    },
    {
     "name": "stderr",
     "output_type": "stream",
     "text": [
      "\n",
      "bagging, val_score: 1.000000:  20%|##        | 2/10 [00:01<00:04,  1.87it/s]\u001b[A\n",
      "bagging, val_score: 1.000000:  30%|###       | 3/10 [00:01<00:03,  1.76it/s]\u001b[A\u001b[32m[I 2021-12-05 10:30:47,194]\u001b[0m Trial 29 finished with value: 1.0 and parameters: {'bagging_fraction': 0.5843621835740501, 'bagging_freq': 5}. Best is trial 27 with value: 1.0.\u001b[0m\n",
      "\n",
      "bagging, val_score: 1.000000:  30%|###       | 3/10 [00:01<00:03,  1.76it/s]\u001b[A\n",
      "bagging, val_score: 1.000000:  30%|###       | 3/10 [00:02<00:03,  1.76it/s]\u001b[A\n",
      "bagging, val_score: 1.000000:  40%|####      | 4/10 [00:02<00:03,  1.75it/s]\u001b[A"
     ]
    },
    {
     "name": "stdout",
     "output_type": "stream",
     "text": [
      "[100]\tcv_agg's auc: 1 + 0\n"
     ]
    },
    {
     "name": "stderr",
     "output_type": "stream",
     "text": [
      "\u001b[32m[I 2021-12-05 10:30:47,768]\u001b[0m Trial 30 finished with value: 1.0 and parameters: {'bagging_fraction': 0.8494418913415611, 'bagging_freq': 2}. Best is trial 27 with value: 1.0.\u001b[0m\n",
      "\n",
      "bagging, val_score: 1.000000:  40%|####      | 4/10 [00:02<00:03,  1.75it/s]\u001b[A\n",
      "bagging, val_score: 1.000000:  40%|####      | 4/10 [00:02<00:03,  1.75it/s]\u001b[A\n",
      "bagging, val_score: 1.000000:  50%|#####     | 5/10 [00:02<00:02,  1.82it/s]\u001b[A\u001b[32m[I 2021-12-05 10:30:48,281]\u001b[0m Trial 31 finished with value: 1.0 and parameters: {'bagging_fraction': 0.9886266412085001, 'bagging_freq': 5}. Best is trial 27 with value: 1.0.\u001b[0m\n",
      "\n",
      "bagging, val_score: 1.000000:  50%|#####     | 5/10 [00:02<00:02,  1.82it/s]\u001b[A"
     ]
    },
    {
     "name": "stdout",
     "output_type": "stream",
     "text": [
      "[100]\tcv_agg's auc: 1 + 0\n"
     ]
    },
    {
     "name": "stderr",
     "output_type": "stream",
     "text": [
      "\n",
      "bagging, val_score: 1.000000:  50%|#####     | 5/10 [00:03<00:02,  1.82it/s]\u001b[A\n",
      "bagging, val_score: 1.000000:  60%|######    | 6/10 [00:03<00:02,  1.87it/s]\u001b[A\u001b[32m[I 2021-12-05 10:30:48,786]\u001b[0m Trial 32 finished with value: 1.0 and parameters: {'bagging_fraction': 0.9365649651258117, 'bagging_freq': 7}. Best is trial 27 with value: 1.0.\u001b[0m\n",
      "\n",
      "bagging, val_score: 1.000000:  60%|######    | 6/10 [00:03<00:02,  1.87it/s]\u001b[A"
     ]
    },
    {
     "name": "stdout",
     "output_type": "stream",
     "text": [
      "[100]\tcv_agg's auc: 1 + 0\n",
      "[100]\tcv_agg's auc: 1 + 0\n"
     ]
    },
    {
     "name": "stderr",
     "output_type": "stream",
     "text": [
      "\n",
      "bagging, val_score: 1.000000:  60%|######    | 6/10 [00:03<00:02,  1.87it/s]\u001b[A\n",
      "bagging, val_score: 1.000000:  70%|#######   | 7/10 [00:03<00:01,  1.75it/s]\u001b[A\u001b[32m[I 2021-12-05 10:30:49,431]\u001b[0m Trial 33 finished with value: 1.0 and parameters: {'bagging_fraction': 0.7811916872437331, 'bagging_freq': 3}. Best is trial 27 with value: 1.0.\u001b[0m\n",
      "\n",
      "bagging, val_score: 1.000000:  70%|#######   | 7/10 [00:03<00:01,  1.75it/s]\u001b[A"
     ]
    },
    {
     "name": "stdout",
     "output_type": "stream",
     "text": [
      "[100]\tcv_agg's auc: 1 + 0\n"
     ]
    },
    {
     "name": "stderr",
     "output_type": "stream",
     "text": [
      "\n",
      "bagging, val_score: 1.000000:  70%|#######   | 7/10 [00:04<00:01,  1.75it/s]\u001b[A\n",
      "bagging, val_score: 1.000000:  80%|########  | 8/10 [00:04<00:01,  1.77it/s]\u001b[A\u001b[32m[I 2021-12-05 10:30:49,977]\u001b[0m Trial 34 finished with value: 1.0 and parameters: {'bagging_fraction': 0.5129167358872534, 'bagging_freq': 1}. Best is trial 27 with value: 1.0.\u001b[0m\n",
      "\n",
      "bagging, val_score: 1.000000:  80%|########  | 8/10 [00:04<00:01,  1.77it/s]\u001b[A"
     ]
    },
    {
     "name": "stdout",
     "output_type": "stream",
     "text": [
      "[100]\tcv_agg's auc: 1 + 0\n"
     ]
    },
    {
     "name": "stderr",
     "output_type": "stream",
     "text": [
      "\n",
      "bagging, val_score: 1.000000:  80%|########  | 8/10 [00:05<00:01,  1.77it/s]\u001b[A\n",
      "bagging, val_score: 1.000000:  90%|######### | 9/10 [00:05<00:00,  1.73it/s]\u001b[A\u001b[32m[I 2021-12-05 10:30:50,588]\u001b[0m Trial 35 finished with value: 1.0 and parameters: {'bagging_fraction': 0.6372964014464298, 'bagging_freq': 7}. Best is trial 27 with value: 1.0.\u001b[0m\n",
      "\n",
      "bagging, val_score: 1.000000:  90%|######### | 9/10 [00:05<00:00,  1.73it/s]\u001b[A"
     ]
    },
    {
     "name": "stdout",
     "output_type": "stream",
     "text": [
      "[100]\tcv_agg's auc: 1 + 0\n"
     ]
    },
    {
     "name": "stderr",
     "output_type": "stream",
     "text": [
      "\n",
      "bagging, val_score: 1.000000:  90%|######### | 9/10 [00:05<00:00,  1.73it/s]\u001b[A\n",
      "bagging, val_score: 1.000000: 100%|##########| 10/10 [00:05<00:00,  1.70it/s]\u001b[A\u001b[32m[I 2021-12-05 10:30:51,196]\u001b[0m Trial 36 finished with value: 1.0 and parameters: {'bagging_fraction': 0.484326100991754, 'bagging_freq': 4}. Best is trial 27 with value: 1.0.\u001b[0m\n",
      "bagging, val_score: 1.000000: 100%|##########| 10/10 [00:05<00:00,  1.75it/s]\n",
      "\n",
      "  0%|          | 0/3 [00:00<?, ?it/s]\u001b[A\n",
      "feature_fraction_stage2, val_score: 1.000000:   0%|          | 0/3 [00:00<?, ?it/s]\u001b[A\n",
      "feature_fraction_stage2, val_score: 1.000000:   0%|          | 0/3 [00:00<?, ?it/s]\u001b[A\n",
      "feature_fraction_stage2, val_score: 1.000000:  33%|###3      | 1/3 [00:00<00:00,  2.49it/s]\u001b[A\u001b[32m[I 2021-12-05 10:30:51,628]\u001b[0m Trial 37 finished with value: 1.0 and parameters: {'feature_fraction': 0.48000000000000004}. Best is trial 37 with value: 1.0.\u001b[0m\n",
      "\n",
      "feature_fraction_stage2, val_score: 1.000000:  33%|###3      | 1/3 [00:00<00:00,  2.49it/s]\u001b[A"
     ]
    },
    {
     "name": "stdout",
     "output_type": "stream",
     "text": [
      "[100]\tcv_agg's auc: 1 + 0\n"
     ]
    },
    {
     "name": "stderr",
     "output_type": "stream",
     "text": [
      "\n",
      "feature_fraction_stage2, val_score: 1.000000:  33%|###3      | 1/3 [00:00<00:00,  2.49it/s]\u001b[A\n",
      "feature_fraction_stage2, val_score: 1.000000:  67%|######6   | 2/3 [00:00<00:00,  2.53it/s]\u001b[A\u001b[32m[I 2021-12-05 10:30:52,014]\u001b[0m Trial 38 finished with value: 1.0 and parameters: {'feature_fraction': 0.41600000000000004}. Best is trial 37 with value: 1.0.\u001b[0m\n",
      "\n",
      "feature_fraction_stage2, val_score: 1.000000:  67%|######6   | 2/3 [00:00<00:00,  2.53it/s]\u001b[A"
     ]
    },
    {
     "name": "stdout",
     "output_type": "stream",
     "text": [
      "[100]\tcv_agg's auc: 1 + 0\n"
     ]
    },
    {
     "name": "stderr",
     "output_type": "stream",
     "text": [
      "\n",
      "feature_fraction_stage2, val_score: 1.000000:  67%|######6   | 2/3 [00:01<00:00,  2.53it/s]\u001b[A\n",
      "feature_fraction_stage2, val_score: 1.000000: 100%|##########| 3/3 [00:01<00:00,  2.52it/s]\u001b[A\u001b[32m[I 2021-12-05 10:30:52,418]\u001b[0m Trial 39 finished with value: 1.0 and parameters: {'feature_fraction': 0.44800000000000006}. Best is trial 37 with value: 1.0.\u001b[0m\n",
      "feature_fraction_stage2, val_score: 1.000000: 100%|##########| 3/3 [00:01<00:00,  2.49it/s]\n"
     ]
    },
    {
     "name": "stdout",
     "output_type": "stream",
     "text": [
      "[100]\tcv_agg's auc: 1 + 0\n"
     ]
    },
    {
     "name": "stderr",
     "output_type": "stream",
     "text": [
      "\n",
      "  0%|          | 0/20 [00:00<?, ?it/s]\u001b[A\n",
      "regularization_factors, val_score: 1.000000:   0%|          | 0/20 [00:00<?, ?it/s]\u001b[A\n",
      "regularization_factors, val_score: 1.000000:   0%|          | 0/20 [00:00<?, ?it/s]\u001b[A\n",
      "regularization_factors, val_score: 1.000000:   5%|5         | 1/20 [00:00<00:08,  2.14it/s]\u001b[A\u001b[32m[I 2021-12-05 10:30:52,911]\u001b[0m Trial 40 finished with value: 1.0 and parameters: {'lambda_l1': 0.00011063893686683654, 'lambda_l2': 0.19028403587044251}. Best is trial 40 with value: 1.0.\u001b[0m\n",
      "\n",
      "regularization_factors, val_score: 1.000000:   5%|5         | 1/20 [00:00<00:08,  2.14it/s]\u001b[A"
     ]
    },
    {
     "name": "stdout",
     "output_type": "stream",
     "text": [
      "[100]\tcv_agg's auc: 1 + 0\n"
     ]
    },
    {
     "name": "stderr",
     "output_type": "stream",
     "text": [
      "\n",
      "regularization_factors, val_score: 1.000000:   5%|5         | 1/20 [00:00<00:08,  2.14it/s]\u001b[A\n",
      "regularization_factors, val_score: 1.000000:  10%|#         | 2/20 [00:00<00:08,  2.10it/s]\u001b[A\u001b[32m[I 2021-12-05 10:30:53,395]\u001b[0m Trial 41 finished with value: 1.0 and parameters: {'lambda_l1': 0.007915624472050584, 'lambda_l2': 0.06474639318783129}. Best is trial 40 with value: 1.0.\u001b[0m\n",
      "\n",
      "regularization_factors, val_score: 1.000000:  10%|#         | 2/20 [00:00<00:08,  2.10it/s]\u001b[A"
     ]
    },
    {
     "name": "stdout",
     "output_type": "stream",
     "text": [
      "[100]\tcv_agg's auc: 1 + 0\n"
     ]
    },
    {
     "name": "stderr",
     "output_type": "stream",
     "text": [
      "\n",
      "regularization_factors, val_score: 1.000000:  10%|#         | 2/20 [00:01<00:08,  2.10it/s]\u001b[A\n",
      "regularization_factors, val_score: 1.000000:  15%|#5        | 3/20 [00:01<00:08,  2.08it/s]\u001b[A\u001b[32m[I 2021-12-05 10:30:53,875]\u001b[0m Trial 42 finished with value: 1.0 and parameters: {'lambda_l1': 3.4946133743967365e-05, 'lambda_l2': 0.1315701557750787}. Best is trial 40 with value: 1.0.\u001b[0m\n",
      "\n",
      "regularization_factors, val_score: 1.000000:  15%|#5        | 3/20 [00:01<00:08,  2.08it/s]\u001b[A"
     ]
    },
    {
     "name": "stdout",
     "output_type": "stream",
     "text": [
      "[100]\tcv_agg's auc: 1 + 0\n"
     ]
    },
    {
     "name": "stderr",
     "output_type": "stream",
     "text": [
      "\n",
      "regularization_factors, val_score: 1.000000:  15%|#5        | 3/20 [00:01<00:08,  2.08it/s]\u001b[A\n",
      "regularization_factors, val_score: 1.000000:  20%|##        | 4/20 [00:01<00:07,  2.02it/s]\u001b[A\u001b[32m[I 2021-12-05 10:30:54,391]\u001b[0m Trial 43 finished with value: 1.0 and parameters: {'lambda_l1': 1.6285181159291935e-08, 'lambda_l2': 0.002814905555874848}. Best is trial 40 with value: 1.0.\u001b[0m\n",
      "\n",
      "regularization_factors, val_score: 1.000000:  20%|##        | 4/20 [00:01<00:07,  2.02it/s]\u001b[A"
     ]
    },
    {
     "name": "stdout",
     "output_type": "stream",
     "text": [
      "[100]\tcv_agg's auc: 1 + 0\n"
     ]
    },
    {
     "name": "stderr",
     "output_type": "stream",
     "text": [
      "\n",
      "regularization_factors, val_score: 1.000000:  20%|##        | 4/20 [00:02<00:07,  2.02it/s]\u001b[A\n",
      "regularization_factors, val_score: 1.000000:  25%|##5       | 5/20 [00:02<00:07,  2.04it/s]\u001b[A\u001b[32m[I 2021-12-05 10:30:54,888]\u001b[0m Trial 44 finished with value: 1.0 and parameters: {'lambda_l1': 0.00031126248982365557, 'lambda_l2': 0.002447662308536985}. Best is trial 40 with value: 1.0.\u001b[0m\n",
      "\n",
      "regularization_factors, val_score: 1.000000:  25%|##5       | 5/20 [00:02<00:07,  2.04it/s]\u001b[A"
     ]
    },
    {
     "name": "stdout",
     "output_type": "stream",
     "text": [
      "[100]\tcv_agg's auc: 1 + 0\n"
     ]
    },
    {
     "name": "stderr",
     "output_type": "stream",
     "text": [
      "\n",
      "regularization_factors, val_score: 1.000000:  25%|##5       | 5/20 [00:02<00:07,  2.04it/s]\u001b[A\n",
      "regularization_factors, val_score: 1.000000:  30%|###       | 6/20 [00:02<00:06,  2.07it/s]\u001b[A\u001b[32m[I 2021-12-05 10:30:55,347]\u001b[0m Trial 45 finished with value: 1.0 and parameters: {'lambda_l1': 0.15392336327200112, 'lambda_l2': 9.45208526264773e-06}. Best is trial 40 with value: 1.0.\u001b[0m\n",
      "\n",
      "regularization_factors, val_score: 1.000000:  30%|###       | 6/20 [00:02<00:06,  2.07it/s]\u001b[A"
     ]
    },
    {
     "name": "stdout",
     "output_type": "stream",
     "text": [
      "[100]\tcv_agg's auc: 1 + 0\n"
     ]
    },
    {
     "name": "stderr",
     "output_type": "stream",
     "text": [
      "\n",
      "regularization_factors, val_score: 1.000000:  30%|###       | 6/20 [00:03<00:06,  2.07it/s]\u001b[A\n",
      "regularization_factors, val_score: 1.000000:  35%|###5      | 7/20 [00:03<00:06,  2.06it/s]\u001b[A\u001b[32m[I 2021-12-05 10:30:55,837]\u001b[0m Trial 46 finished with value: 1.0 and parameters: {'lambda_l1': 1.7206606480864635e-05, 'lambda_l2': 1.0231516039794037e-05}. Best is trial 40 with value: 1.0.\u001b[0m\n",
      "\n",
      "regularization_factors, val_score: 1.000000:  35%|###5      | 7/20 [00:03<00:06,  2.06it/s]\u001b[A"
     ]
    },
    {
     "name": "stdout",
     "output_type": "stream",
     "text": [
      "[100]\tcv_agg's auc: 1 + 0\n",
      "[100]\tcv_agg's auc: 0.99998 + 1.60534e-05\n"
     ]
    },
    {
     "name": "stderr",
     "output_type": "stream",
     "text": [
      "\n",
      "regularization_factors, val_score: 1.000000:  35%|###5      | 7/20 [00:04<00:06,  2.06it/s]\u001b[A\n",
      "regularization_factors, val_score: 1.000000:  40%|####      | 8/20 [00:04<00:06,  1.77it/s]\u001b[A\u001b[32m[I 2021-12-05 10:30:56,569]\u001b[0m Trial 47 finished with value: 1.0 and parameters: {'lambda_l1': 0.0001651889773623271, 'lambda_l2': 8.980755246201316}. Best is trial 40 with value: 1.0.\u001b[0m\n",
      "\n",
      "regularization_factors, val_score: 1.000000:  40%|####      | 8/20 [00:04<00:06,  1.77it/s]\u001b[A"
     ]
    },
    {
     "name": "stdout",
     "output_type": "stream",
     "text": [
      "[200]\tcv_agg's auc: 1 + 0\n"
     ]
    },
    {
     "name": "stderr",
     "output_type": "stream",
     "text": [
      "\n",
      "regularization_factors, val_score: 1.000000:  40%|####      | 8/20 [00:04<00:06,  1.77it/s]\u001b[A\n",
      "regularization_factors, val_score: 1.000000:  45%|####5     | 9/20 [00:04<00:05,  1.84it/s]\u001b[A\u001b[32m[I 2021-12-05 10:30:57,072]\u001b[0m Trial 48 finished with value: 1.0 and parameters: {'lambda_l1': 0.0005609723484524287, 'lambda_l2': 2.617225513816711e-07}. Best is trial 40 with value: 1.0.\u001b[0m\n",
      "\n",
      "regularization_factors, val_score: 1.000000:  45%|####5     | 9/20 [00:04<00:05,  1.84it/s]\u001b[A"
     ]
    },
    {
     "name": "stdout",
     "output_type": "stream",
     "text": [
      "[100]\tcv_agg's auc: 1 + 0\n"
     ]
    },
    {
     "name": "stderr",
     "output_type": "stream",
     "text": [
      "\n",
      "regularization_factors, val_score: 1.000000:  45%|####5     | 9/20 [00:05<00:05,  1.84it/s]\u001b[A\n",
      "regularization_factors, val_score: 1.000000:  50%|#####     | 10/20 [00:05<00:05,  1.87it/s]\u001b[A\u001b[32m[I 2021-12-05 10:30:57,579]\u001b[0m Trial 49 finished with value: 1.0 and parameters: {'lambda_l1': 6.84004981455725e-08, 'lambda_l2': 0.1149359429657205}. Best is trial 40 with value: 1.0.\u001b[0m\n",
      "\n",
      "regularization_factors, val_score: 1.000000:  50%|#####     | 10/20 [00:05<00:05,  1.87it/s]\u001b[A"
     ]
    },
    {
     "name": "stdout",
     "output_type": "stream",
     "text": [
      "[100]\tcv_agg's auc: 1 + 0\n",
      "[100]\tcv_agg's auc: 0.999798 + 0.000254991\n",
      "[200]\tcv_agg's auc: 0.999843 + 0.000196766\n"
     ]
    },
    {
     "name": "stderr",
     "output_type": "stream",
     "text": [
      "\n",
      "regularization_factors, val_score: 1.000000:  50%|#####     | 10/20 [00:05<00:05,  1.87it/s]\u001b[A\n",
      "regularization_factors, val_score: 1.000000:  55%|#####5    | 11/20 [00:05<00:05,  1.58it/s]\u001b[A\u001b[32m[I 2021-12-05 10:30:58,431]\u001b[0m Trial 50 finished with value: 0.9998427099330862 and parameters: {'lambda_l1': 3.0096322945987164, 'lambda_l2': 4.65029092898836}. Best is trial 40 with value: 1.0.\u001b[0m\n",
      "\n",
      "regularization_factors, val_score: 1.000000:  55%|#####5    | 11/20 [00:06<00:05,  1.58it/s]\u001b[A\n",
      "regularization_factors, val_score: 1.000000:  55%|#####5    | 11/20 [00:06<00:05,  1.58it/s]\u001b[A\n",
      "regularization_factors, val_score: 1.000000:  60%|######    | 12/20 [00:06<00:04,  1.70it/s]\u001b[A\u001b[32m[I 2021-12-05 10:30:58,918]\u001b[0m Trial 51 finished with value: 1.0 and parameters: {'lambda_l1': 0.017981550544023225, 'lambda_l2': 0.11254447969357925}. Best is trial 40 with value: 1.0.\u001b[0m\n",
      "\n",
      "regularization_factors, val_score: 1.000000:  60%|######    | 12/20 [00:06<00:04,  1.70it/s]\u001b[A"
     ]
    },
    {
     "name": "stdout",
     "output_type": "stream",
     "text": [
      "[100]\tcv_agg's auc: 1 + 0\n"
     ]
    },
    {
     "name": "stderr",
     "output_type": "stream",
     "text": [
      "\n",
      "regularization_factors, val_score: 1.000000:  60%|######    | 12/20 [00:06<00:04,  1.70it/s]\u001b[A\n",
      "regularization_factors, val_score: 1.000000:  65%|######5   | 13/20 [00:06<00:03,  1.77it/s]\u001b[A\u001b[32m[I 2021-12-05 10:30:59,437]\u001b[0m Trial 52 finished with value: 1.0 and parameters: {'lambda_l1': 0.011776967237368144, 'lambda_l2': 0.00843855768132265}. Best is trial 40 with value: 1.0.\u001b[0m\n",
      "\n",
      "regularization_factors, val_score: 1.000000:  65%|######5   | 13/20 [00:07<00:03,  1.77it/s]\u001b[A"
     ]
    },
    {
     "name": "stdout",
     "output_type": "stream",
     "text": [
      "[100]\tcv_agg's auc: 1 + 0\n"
     ]
    },
    {
     "name": "stderr",
     "output_type": "stream",
     "text": [
      "\n",
      "regularization_factors, val_score: 1.000000:  65%|######5   | 13/20 [00:07<00:03,  1.77it/s]\u001b[A\n",
      "regularization_factors, val_score: 1.000000:  70%|#######   | 14/20 [00:07<00:03,  1.84it/s]\u001b[A\u001b[32m[I 2021-12-05 10:30:59,925]\u001b[0m Trial 53 finished with value: 1.0 and parameters: {'lambda_l1': 1.6411744386374224e-06, 'lambda_l2': 0.00011994560848764645}. Best is trial 40 with value: 1.0.\u001b[0m\n",
      "\n",
      "regularization_factors, val_score: 1.000000:  70%|#######   | 14/20 [00:07<00:03,  1.84it/s]\u001b[A"
     ]
    },
    {
     "name": "stdout",
     "output_type": "stream",
     "text": [
      "[100]\tcv_agg's auc: 1 + 0\n"
     ]
    },
    {
     "name": "stderr",
     "output_type": "stream",
     "text": [
      "\n",
      "regularization_factors, val_score: 1.000000:  70%|#######   | 14/20 [00:08<00:03,  1.84it/s]\u001b[A\n",
      "regularization_factors, val_score: 1.000000:  75%|#######5  | 15/20 [00:08<00:02,  1.82it/s]\u001b[A\u001b[32m[I 2021-12-05 10:31:00,493]\u001b[0m Trial 54 finished with value: 1.0 and parameters: {'lambda_l1': 0.010845593128889563, 'lambda_l2': 0.9614183152207427}. Best is trial 40 with value: 1.0.\u001b[0m\n",
      "\n",
      "regularization_factors, val_score: 1.000000:  75%|#######5  | 15/20 [00:08<00:02,  1.82it/s]\u001b[A"
     ]
    },
    {
     "name": "stdout",
     "output_type": "stream",
     "text": [
      "[100]\tcv_agg's auc: 1 + 0\n"
     ]
    },
    {
     "name": "stderr",
     "output_type": "stream",
     "text": [
      "\n",
      "regularization_factors, val_score: 1.000000:  75%|#######5  | 15/20 [00:08<00:02,  1.82it/s]\u001b[A\n",
      "regularization_factors, val_score: 1.000000:  80%|########  | 16/20 [00:08<00:02,  1.88it/s]\u001b[A\u001b[32m[I 2021-12-05 10:31:00,978]\u001b[0m Trial 55 finished with value: 1.0 and parameters: {'lambda_l1': 1.0002499193660399e-06, 'lambda_l2': 0.02214037670108985}. Best is trial 40 with value: 1.0.\u001b[0m\n",
      "\n",
      "regularization_factors, val_score: 1.000000:  80%|########  | 16/20 [00:08<00:02,  1.88it/s]\u001b[A"
     ]
    },
    {
     "name": "stdout",
     "output_type": "stream",
     "text": [
      "[100]\tcv_agg's auc: 1 + 0\n"
     ]
    },
    {
     "name": "stderr",
     "output_type": "stream",
     "text": [
      "\n",
      "regularization_factors, val_score: 1.000000:  80%|########  | 16/20 [00:09<00:02,  1.88it/s]\u001b[A\n",
      "regularization_factors, val_score: 1.000000:  85%|########5 | 17/20 [00:09<00:01,  1.87it/s]\u001b[A\u001b[32m[I 2021-12-05 10:31:01,518]\u001b[0m Trial 56 finished with value: 1.0 and parameters: {'lambda_l1': 0.8010267756342763, 'lambda_l2': 0.0005203914757285668}. Best is trial 40 with value: 1.0.\u001b[0m\n",
      "\n",
      "regularization_factors, val_score: 1.000000:  85%|########5 | 17/20 [00:09<00:01,  1.87it/s]\u001b[A"
     ]
    },
    {
     "name": "stdout",
     "output_type": "stream",
     "text": [
      "[100]\tcv_agg's auc: 1 + 0\n"
     ]
    },
    {
     "name": "stderr",
     "output_type": "stream",
     "text": [
      "\n",
      "regularization_factors, val_score: 1.000000:  85%|########5 | 17/20 [00:09<00:01,  1.87it/s]\u001b[A\n"
     ]
    },
    {
     "name": "stdout",
     "output_type": "stream",
     "text": [
      "[100]\tcv_agg's auc: 1 + 0\n"
     ]
    },
    {
     "name": "stderr",
     "output_type": "stream",
     "text": [
      "regularization_factors, val_score: 1.000000:  90%|######### | 18/20 [00:09<00:01,  1.85it/s]\u001b[A\u001b[32m[I 2021-12-05 10:31:02,074]\u001b[0m Trial 57 finished with value: 1.0 and parameters: {'lambda_l1': 0.0010711780867920127, 'lambda_l2': 1.4612853474256908}. Best is trial 40 with value: 1.0.\u001b[0m\n",
      "\n",
      "regularization_factors, val_score: 1.000000:  90%|######### | 18/20 [00:09<00:01,  1.85it/s]\u001b[A\n",
      "regularization_factors, val_score: 1.000000:  90%|######### | 18/20 [00:10<00:01,  1.85it/s]\u001b[A\n",
      "regularization_factors, val_score: 1.000000:  95%|#########5| 19/20 [00:10<00:00,  1.89it/s]\u001b[A\u001b[32m[I 2021-12-05 10:31:02,573]\u001b[0m Trial 58 finished with value: 1.0 and parameters: {'lambda_l1': 7.206377085296357e-07, 'lambda_l2': 5.12277395952774e-08}. Best is trial 40 with value: 1.0.\u001b[0m\n",
      "\n",
      "regularization_factors, val_score: 1.000000:  95%|#########5| 19/20 [00:10<00:00,  1.89it/s]\u001b[A"
     ]
    },
    {
     "name": "stdout",
     "output_type": "stream",
     "text": [
      "[100]\tcv_agg's auc: 1 + 0\n",
      "[100]\tcv_agg's auc: 0.999987 + 1.555e-05\n"
     ]
    },
    {
     "name": "stderr",
     "output_type": "stream",
     "text": [
      "\n",
      "regularization_factors, val_score: 1.000000:  95%|#########5| 19/20 [00:10<00:00,  1.89it/s]\u001b[A\n",
      "regularization_factors, val_score: 1.000000: 100%|##########| 20/20 [00:10<00:00,  1.82it/s]\u001b[A\u001b[32m[I 2021-12-05 10:31:03,170]\u001b[0m Trial 59 finished with value: 0.9999876206891781 and parameters: {'lambda_l1': 2.0287976807002357, 'lambda_l2': 0.00022785077117320373}. Best is trial 40 with value: 1.0.\u001b[0m\n",
      "regularization_factors, val_score: 1.000000: 100%|##########| 20/20 [00:10<00:00,  1.86it/s]\n"
     ]
    },
    {
     "name": "stdout",
     "output_type": "stream",
     "text": [
      "[200]\tcv_agg's auc: 0.999988 + 1.59872e-05\n"
     ]
    },
    {
     "name": "stderr",
     "output_type": "stream",
     "text": [
      "\n",
      "  0%|          | 0/5 [00:00<?, ?it/s]\u001b[A\n",
      "min_data_in_leaf, val_score: 1.000000:   0%|          | 0/5 [00:00<?, ?it/s]\u001b[A"
     ]
    },
    {
     "name": "stdout",
     "output_type": "stream",
     "text": [
      "[100]\tcv_agg's auc: 1 + 0\n"
     ]
    },
    {
     "name": "stderr",
     "output_type": "stream",
     "text": [
      "\n",
      "min_data_in_leaf, val_score: 1.000000:   0%|          | 0/5 [00:00<?, ?it/s]\u001b[A\n",
      "min_data_in_leaf, val_score: 1.000000:  20%|##        | 1/5 [00:00<00:02,  1.55it/s]\u001b[A\u001b[32m[I 2021-12-05 10:31:03,840]\u001b[0m Trial 60 finished with value: 1.0 and parameters: {'min_child_samples': 100}. Best is trial 60 with value: 1.0.\u001b[0m\n",
      "\n",
      "min_data_in_leaf, val_score: 1.000000:  20%|##        | 1/5 [00:00<00:02,  1.55it/s]\u001b[A\n",
      "min_data_in_leaf, val_score: 1.000000:  20%|##        | 1/5 [00:01<00:02,  1.55it/s]\u001b[A\n",
      "min_data_in_leaf, val_score: 1.000000:  40%|####      | 2/5 [00:01<00:01,  1.87it/s]\u001b[A\u001b[32m[I 2021-12-05 10:31:04,307]\u001b[0m Trial 61 finished with value: 1.0 and parameters: {'min_child_samples': 25}. Best is trial 60 with value: 1.0.\u001b[0m\n",
      "\n",
      "min_data_in_leaf, val_score: 1.000000:  40%|####      | 2/5 [00:01<00:01,  1.87it/s]\u001b[A"
     ]
    },
    {
     "name": "stdout",
     "output_type": "stream",
     "text": [
      "[100]\tcv_agg's auc: 1 + 0\n"
     ]
    },
    {
     "name": "stderr",
     "output_type": "stream",
     "text": [
      "\n",
      "min_data_in_leaf, val_score: 1.000000:  40%|####      | 2/5 [00:01<00:01,  1.87it/s]\u001b[A\n",
      "min_data_in_leaf, val_score: 1.000000:  60%|######    | 3/5 [00:01<00:00,  2.12it/s]\u001b[A\u001b[32m[I 2021-12-05 10:31:04,699]\u001b[0m Trial 62 finished with value: 1.0 and parameters: {'min_child_samples': 10}. Best is trial 60 with value: 1.0.\u001b[0m\n",
      "\n",
      "min_data_in_leaf, val_score: 1.000000:  60%|######    | 3/5 [00:01<00:00,  2.12it/s]\u001b[A"
     ]
    },
    {
     "name": "stdout",
     "output_type": "stream",
     "text": [
      "[100]\tcv_agg's auc: 1 + 0\n",
      "[100]\tcv_agg's auc: 1 + 0\n"
     ]
    },
    {
     "name": "stderr",
     "output_type": "stream",
     "text": [
      "\n",
      "min_data_in_leaf, val_score: 1.000000:  60%|######    | 3/5 [00:02<00:00,  2.12it/s]\u001b[A\n",
      "min_data_in_leaf, val_score: 1.000000:  80%|########  | 4/5 [00:02<00:00,  1.96it/s]\u001b[A\u001b[32m[I 2021-12-05 10:31:05,266]\u001b[0m Trial 63 finished with value: 1.0 and parameters: {'min_child_samples': 50}. Best is trial 60 with value: 1.0.\u001b[0m\n",
      "\n",
      "min_data_in_leaf, val_score: 1.000000:  80%|########  | 4/5 [00:02<00:00,  1.96it/s]\u001b[A\n",
      "min_data_in_leaf, val_score: 1.000000:  80%|########  | 4/5 [00:02<00:00,  1.96it/s]\u001b[A\n",
      "min_data_in_leaf, val_score: 1.000000: 100%|##########| 5/5 [00:02<00:00,  2.15it/s]\u001b[A\u001b[32m[I 2021-12-05 10:31:05,658]\u001b[0m Trial 64 finished with value: 1.0 and parameters: {'min_child_samples': 5}. Best is trial 60 with value: 1.0.\u001b[0m\n",
      "min_data_in_leaf, val_score: 1.000000: 100%|##########| 5/5 [00:02<00:00,  2.02it/s]"
     ]
    },
    {
     "name": "stdout",
     "output_type": "stream",
     "text": [
      "[100]\tcv_agg's auc: 1 + 0\n"
     ]
    },
    {
     "name": "stderr",
     "output_type": "stream",
     "text": [
      "\n"
     ]
    }
   ],
   "source": [
    "# データセットマージ\n",
    "train_df = pd.read_csv(\"./input/train.tsv\", sep=\"\\t\")\n",
    "test_df = pd.read_csv(\"./input/test.tsv\", sep=\"\\t\")\n",
    "\n",
    "if Config.debug:\n",
    "    train_df = train_df.sample(1000, random_state=Config.seeds[0]).reset_index(drop=True)\n",
    "    test_df = test_df.sample(1000, random_state=Config.seeds[0]).reset_index(drop=True)\n",
    "\n",
    "# preprocess\n",
    "print(\"# ============= # Preprocess # ============= #\")\n",
    "train_x, train_y, test_x, feature_columns = preprocess(train_df, test_df)\n",
    "print(train_x.shape)\n",
    "\n",
    "# LightGBM用のデータセットに変換\n",
    "train_val = lgb.Dataset(train_x, train_y)\n",
    "\n",
    "# 学習済みモデルへの参照を保持するためのコールバック\n",
    "checkpoint_cb = TunerCVCheckpointCallback()\n",
    "callbacks = [\n",
    "    checkpoint_cb,\n",
    "]\n",
    "# クロスバリデーションによるハイパーパラメータの探索 3fold\n",
    "tuner = lgb.LightGBMTunerCV(Config.model_params, train_val, early_stopping_rounds=100, \n",
    "                      verbose_eval=100, folds=StratifiedKFold(n_splits=3), callbacks=callbacks,)\n",
    "# ハイパーパラメータ探索の実行\n",
    "tuner.run()\n",
    "\n",
    "\n",
    "\n",
    "# feature importace \n",
    "# print(\"# ============= # Importance # ============= #\")\n",
    "# fig, _df = tree_importance(X=train_x, y=train_y, Model=LGBM,\n",
    "#                            cv=skf(n_splits=3,\n",
    "#                                   random_state=Config.seeds[0]))\n",
    "# fig.savefig(os.path.join(OUTPUT_EXP_FIG, \"importance.png\"), dpi=300)\n",
    "\n",
    "\n"
   ]
  },
  {
   "cell_type": "code",
   "execution_count": 41,
   "metadata": {
    "colab": {
     "base_uri": "https://localhost:8080/"
    },
    "executionInfo": {
     "elapsed": 221,
     "status": "ok",
     "timestamp": 1638700145237,
     "user": {
      "displayName": "SHOGO MASE",
      "photoUrl": "https://lh3.googleusercontent.com/a/default-user=s64",
      "userId": "03778749233417098240"
     },
     "user_tz": -540
    },
    "id": "QZTPEqA-H9qN",
    "outputId": "27eb6edf-bdc7-4a70-fa00-1230548a4eac"
   },
   "outputs": [
    {
     "data": {
      "text/plain": [
       "117"
      ]
     },
     "execution_count": 41,
     "metadata": {},
     "output_type": "execute_result"
    }
   ],
   "source": [
    "len(sum([[f\"{f}_{c}\" for c in cs] for f, cs in zip(features, categorys)], []))"
   ]
  },
  {
   "cell_type": "code",
   "execution_count": 32,
   "metadata": {
    "colab": {
     "base_uri": "https://localhost:8080/"
    },
    "executionInfo": {
     "elapsed": 207,
     "status": "ok",
     "timestamp": 1638699873750,
     "user": {
      "displayName": "SHOGO MASE",
      "photoUrl": "https://lh3.googleusercontent.com/a/default-user=s64",
      "userId": "03778749233417098240"
     },
     "user_tz": -540
    },
    "id": "yf_aMbBSH6B-",
    "outputId": "d6e631c4-108f-413d-8f7c-92fbd788de2b"
   },
   "outputs": [
    {
     "data": {
      "text/plain": [
       "['cap-shape',\n",
       " 'cap-surface',\n",
       " 'cap-color',\n",
       " 'bruises',\n",
       " 'odor',\n",
       " 'gill-attachment',\n",
       " 'gill-spacing',\n",
       " 'gill-size',\n",
       " 'gill-color',\n",
       " 'stalk-shape',\n",
       " 'stalk-root',\n",
       " 'stalk-surface-above-ring',\n",
       " 'stalk-surface-below-ring',\n",
       " 'stalk-color-above-ring',\n",
       " 'stalk-color-below-ring',\n",
       " 'veil-type',\n",
       " 'veil-color',\n",
       " 'ring-number',\n",
       " 'ring-type',\n",
       " 'spore-print-color',\n",
       " 'population',\n",
       " 'habitat']"
      ]
     },
     "execution_count": 32,
     "metadata": {},
     "output_type": "execute_result"
    }
   ],
   "source": [
    "features"
   ]
  },
  {
   "cell_type": "code",
   "execution_count": 12,
   "metadata": {
    "colab": {
     "base_uri": "https://localhost:8080/"
    },
    "executionInfo": {
     "elapsed": 229,
     "status": "ok",
     "timestamp": 1638695986422,
     "user": {
      "displayName": "SHOGO MASE",
      "photoUrl": "https://lh3.googleusercontent.com/a/default-user=s64",
      "userId": "03778749233417098240"
     },
     "user_tz": -540
    },
    "id": "hNIh8ltb31sV",
    "outputId": "f180c34e-a802-40a0-b90a-97f89b1dcc2a"
   },
   "outputs": [
    {
     "name": "stdout",
     "output_type": "stream",
     "text": [
      "  Params: \n",
      "    metric: auc\n",
      "    objective: binary\n",
      "    feature_pre_filter: False\n",
      "    lambda_l1: 0.0\n",
      "    lambda_l2: 0.0\n",
      "    num_leaves: 31\n",
      "    feature_fraction: 0.8999999999999999\n",
      "    bagging_fraction: 1.0\n",
      "    bagging_freq: 0\n",
      "    min_child_samples: 20\n"
     ]
    },
    {
     "data": {
      "text/plain": [
       "[<lightgbm.basic.Booster at 0x7f415fe2ef10>,\n",
       " <lightgbm.basic.Booster at 0x7f415fe2edd0>,\n",
       " <lightgbm.basic.Booster at 0x7f415fe2e990>]"
      ]
     },
     "execution_count": 12,
     "metadata": {},
     "output_type": "execute_result"
    }
   ],
   "source": [
    "# サーチしたパラメータの表示\n",
    "best_params = tuner.best_params\n",
    "\n",
    "print(\"  Params: \")\n",
    "for key, value in best_params.items():\n",
    "    print(\"    {}: {}\".format(key, value))\n",
    "\n",
    "# 最も良かったパラメータをキーにして学習済みモデルを取り出す\n",
    "cv_booster = checkpoint_cb.get_trained_model(tuner.best_params)\n",
    "cv_booster.boosters"
   ]
  },
  {
   "cell_type": "code",
   "execution_count": 44,
   "metadata": {
    "colab": {
     "base_uri": "https://localhost:8080/",
     "height": 518
    },
    "executionInfo": {
     "elapsed": 1229,
     "status": "ok",
     "timestamp": 1638700356657,
     "user": {
      "displayName": "SHOGO MASE",
      "photoUrl": "https://lh3.googleusercontent.com/a/default-user=s64",
      "userId": "03778749233417098240"
     },
     "user_tz": -540
    },
    "id": "ImCPw3qp77y3",
    "outputId": "78f64fab-8f6f-4f6c-9331-a0bda2973c5d"
   },
   "outputs": [
    {
     "name": "stderr",
     "output_type": "stream",
     "text": [
      "num_leaves, val_score: 1.000000:  65%|######5   | 13/20 [21:12<11:25, 97.87s/it]\n"
     ]
    },
    {
     "data": {
      "image/png": "[encoded data removed]",
      "text/plain": [
       "<Figure size 576x576 with 1 Axes>"
      ]
     },
     "metadata": {
      "needs_background": "light"
     },
     "output_type": "display_data"
    }
   ],
   "source": [
    "raw_importances = cv_booster.feature_importance(importance_type='gain')\n",
    "feature_name = feature_columns\n",
    "importance_df = pd.DataFrame(data=raw_importances,\n",
    "                              columns=feature_name)\n",
    "# 平均値でソートする\n",
    "sorted_indices = importance_df.mean(axis=0).sort_values(ascending=False).index\n",
    "sorted_importance_df = importance_df.loc[:, sorted_indices]\n",
    "# 上位をプロットする\n",
    "PLOT_TOP_N = 20\n",
    "plot_cols = sorted_importance_df.columns[:PLOT_TOP_N]\n",
    "_, ax = plt.subplots(figsize=(8, 8))\n",
    "ax.grid()\n",
    "ax.set_xscale('log')\n",
    "ax.set_ylabel('Feature')\n",
    "ax.set_xlabel('Importance')\n",
    "sns.boxplot(data=sorted_importance_df[plot_cols],\n",
    "                orient='h',\n",
    "                ax=ax)\n",
    "plt.show()"
   ]
  },
  {
   "cell_type": "code",
   "execution_count": 45,
   "metadata": {
    "colab": {
     "base_uri": "https://localhost:8080/"
    },
    "executionInfo": {
     "elapsed": 224,
     "status": "ok",
     "timestamp": 1638700819582,
     "user": {
      "displayName": "SHOGO MASE",
      "photoUrl": "https://lh3.googleusercontent.com/a/default-user=s64",
      "userId": "03778749233417098240"
     },
     "user_tz": -540
    },
    "id": "j5FPD06JK-4V",
    "outputId": "84763eed-7ae3-4621-9a2c-4e15cb545753"
   },
   "outputs": [
    {
     "data": {
      "text/plain": [
       "array([0, 1, 1, ..., 1, 0, 1])"
      ]
     },
     "execution_count": 45,
     "metadata": {},
     "output_type": "execute_result"
    }
   ],
   "source": [
    "# Averaging でホールドアウト検証データを予測する\n",
    "y_pred_proba_list = cv_booster.predict(test_x, num_iteration=cv_booster.best_iteration)\n",
    "y_pred_proba_avg = np.array(y_pred_proba_list).mean(axis=0)\n",
    "y_pred = np.where(y_pred_proba_avg > 0.5, 1, 0)\n",
    "y_pred"
   ]
  },
  {
   "cell_type": "code",
   "execution_count": null,
   "metadata": {
    "id": "r9KbCr7nK_IX"
   },
   "outputs": [],
   "source": []
  },
  {
   "cell_type": "code",
   "execution_count": null,
   "metadata": {
    "id": "sLwG_4kqK_Ly"
   },
   "outputs": [],
   "source": []
  },
  {
   "cell_type": "code",
   "execution_count": 13,
   "metadata": {
    "colab": {
     "base_uri": "https://localhost:8080/"
    },
    "executionInfo": {
     "elapsed": 237,
     "status": "ok",
     "timestamp": 1638696008456,
     "user": {
      "displayName": "SHOGO MASE",
      "photoUrl": "https://lh3.googleusercontent.com/a/default-user=s64",
      "userId": "03778749233417098240"
     },
     "user_tz": -540
    },
    "id": "Qob1ReU15IJ1",
    "outputId": "1c382898-c21c-4f5e-e93d-5355ec148442"
   },
   "outputs": [
    {
     "data": {
      "text/plain": [
       "['_Booster__attr',\n",
       " '_Booster__boost',\n",
       " '_Booster__get_eval_info',\n",
       " '_Booster__higher_better_inner_eval',\n",
       " '_Booster__init_predictor',\n",
       " '_Booster__inner_eval',\n",
       " '_Booster__inner_predict',\n",
       " '_Booster__inner_predict_buffer',\n",
       " '_Booster__is_predicted_cur_iter',\n",
       " '_Booster__name_inner_eval',\n",
       " '_Booster__need_reload_eval_info',\n",
       " '_Booster__num_class',\n",
       " '_Booster__num_dataset',\n",
       " '_Booster__num_inner_eval',\n",
       " '_Booster__set_objective_to_none',\n",
       " '_Booster__train_data_name',\n",
       " '__class__',\n",
       " '__copy__',\n",
       " '__deepcopy__',\n",
       " '__del__',\n",
       " '__delattr__',\n",
       " '__dict__',\n",
       " '__dir__',\n",
       " '__doc__',\n",
       " '__eq__',\n",
       " '__format__',\n",
       " '__ge__',\n",
       " '__getattribute__',\n",
       " '__getstate__',\n",
       " '__gt__',\n",
       " '__hash__',\n",
       " '__init__',\n",
       " '__init_subclass__',\n",
       " '__le__',\n",
       " '__lt__',\n",
       " '__module__',\n",
       " '__ne__',\n",
       " '__new__',\n",
       " '__reduce__',\n",
       " '__reduce_ex__',\n",
       " '__repr__',\n",
       " '__setattr__',\n",
       " '__setstate__',\n",
       " '__sizeof__',\n",
       " '__str__',\n",
       " '__subclasshook__',\n",
       " '__weakref__',\n",
       " '_free_buffer',\n",
       " '_to_predictor',\n",
       " 'add_valid',\n",
       " 'attr',\n",
       " 'best_iteration',\n",
       " 'best_score',\n",
       " 'current_iteration',\n",
       " 'dump_model',\n",
       " 'eval',\n",
       " 'eval_train',\n",
       " 'eval_valid',\n",
       " 'feature_importance',\n",
       " 'feature_name',\n",
       " 'free_dataset',\n",
       " 'free_network',\n",
       " 'get_leaf_output',\n",
       " 'handle',\n",
       " 'model_from_string',\n",
       " 'model_to_string',\n",
       " 'name_valid_sets',\n",
       " 'network',\n",
       " 'num_feature',\n",
       " 'num_model_per_iteration',\n",
       " 'num_trees',\n",
       " 'pandas_categorical',\n",
       " 'params',\n",
       " 'predict',\n",
       " 'refit',\n",
       " 'reset_parameter',\n",
       " 'rollback_one_iter',\n",
       " 'save_model',\n",
       " 'set_attr',\n",
       " 'set_network',\n",
       " 'set_train_data_name',\n",
       " 'shuffle_models',\n",
       " 'train_set',\n",
       " 'update',\n",
       " 'valid_sets']"
      ]
     },
     "execution_count": 13,
     "metadata": {},
     "output_type": "execute_result"
    }
   ],
   "source": [
    "feature_importance_df = pd.DataFrame()\n",
    "  for i, (tr_idx, va_idx) in enumerate(cv):\n",
    "      tr_x, va_x = X.values[tr_idx], X.values[va_idx]\n",
    "      tr_y, va_y = y.values[tr_idx], y.values[va_idx]\n",
    "\n",
    "      est = Model()\n",
    "      est.build()\n",
    "\n",
    "      est.fit(tr_x, tr_y, va_x, va_y) \n",
    "      _df = pd.DataFrame()\n",
    "      _df['feature_importance'] = est.model.feature_importances_\n",
    "      _df['column'] = X.columns\n",
    "      _df['fold'] = i + 1\n",
    "      feature_importance_df = pd.concat([feature_importance_df, _df], axis=0, ignore_index=True)\n",
    "\n",
    "  order = feature_importance_df.groupby('column') \\\n",
    "              .sum()[['feature_importance']] \\\n",
    "              .sort_values('feature_importance', ascending=False).index[:50]\n",
    "  fig, ax = plt.subplots(figsize=(12, max(4, len(order) * .2)))\n",
    "  sns.boxenplot(data=feature_importance_df, y='column', x='feature_importance', order=order, ax=ax,\n",
    "                palette='viridis')\n",
    "  fig.tight_layout()\n",
    "  ax.grid()\n",
    "  ax.set_title('feature importance')\n",
    "  fig.tight_layout()"
   ]
  },
  {
   "cell_type": "code",
   "execution_count": 14,
   "metadata": {
    "colab": {
     "base_uri": "https://localhost:8080/"
    },
    "executionInfo": {
     "elapsed": 241,
     "status": "ok",
     "timestamp": 1638696225542,
     "user": {
      "displayName": "SHOGO MASE",
      "photoUrl": "https://lh3.googleusercontent.com/a/default-user=s64",
      "userId": "03778749233417098240"
     },
     "user_tz": -540
    },
    "id": "maqvE0PT5-eT",
    "outputId": "011467df-b015-4af6-a730-3e4ea1d27e2b"
   },
   "outputs": [
    {
     "data": {
      "text/plain": [
       "array([ 39,   0,  89,   9,   0,  69,  54,   0, 104,  57,  47,   0,  25,\n",
       "        36,  85,  44,   0,   0, 145,  63, 132,  32,  41,  85, 125,  18,\n",
       "         0,  98,  99,   1,   3,  15,  13, 121,  23, 112,  40,  38,  13,\n",
       "        56,   0,   1,   0,   0,  18,   0,   0, 113,   1,  84,  31,  64,\n",
       "        66,  58,   7,   9,   2,  82,   7,   0,  31,  26,  29,  84,   0,\n",
       "         0,   4,   0,   0,   0,   1,  29,   0,   0,   0,   6,   0,  34,\n",
       "         0,   8,  18,   0,   0,  13,   2,   1,   0,   0,  71,   9,  16,\n",
       "         0,   0,   0,  20,   0,   9,  21,  41,   0,   0,   0,  96,   0,\n",
       "         3,  46,  65,  61, 137,  18,  67, 107,  28,  46,  42,  53,   4])"
      ]
     },
     "execution_count": 14,
     "metadata": {},
     "output_type": "execute_result"
    }
   ],
   "source": [
    "cv_booster.boosters[0].feature_importance()\n"
   ]
  },
  {
   "cell_type": "code",
   "execution_count": null,
   "metadata": {
    "id": "meQOtibQ5IM-"
   },
   "outputs": [],
   "source": []
  },
  {
   "cell_type": "code",
   "execution_count": null,
   "metadata": {
    "id": "4Q7OLOdL5IO-"
   },
   "outputs": [],
   "source": []
  },
  {
   "cell_type": "code",
   "execution_count": null,
   "metadata": {
    "id": "_xT_AX0w5ISf"
   },
   "outputs": [],
   "source": []
  },
  {
   "cell_type": "code",
   "execution_count": null,
   "metadata": {
    "id": "2gACkj725IY9"
   },
   "outputs": [],
   "source": []
  },
  {
   "cell_type": "code",
   "execution_count": null,
   "metadata": {
    "id": "-MVu6uop5Ids"
   },
   "outputs": [],
   "source": []
  },
  {
   "cell_type": "code",
   "execution_count": null,
   "metadata": {
    "id": "ISXMD4x8ua1s"
   },
   "outputs": [],
   "source": [
    "def run():\n",
    "  \n",
    "\n",
    "\n",
    "\n",
    "\n",
    "\n",
    "  train_df[\"is_train\"] = True\n",
    "  test_df[\"is_train\"] = False\n",
    "  train_test_df = pd.concat([train_df, test_df])\n",
    "\n",
    "  # 目的変数変換\n",
    "  target_mapping = {\n",
    "      \"p\": 0,\n",
    "      \"e\": 1\n",
    "  }\n",
    "  train_test_df.loc[:, \"Y\"] = train_test_df.Y.map(target_mapping)\n",
    "\n",
    "  # 特徴量選択\n",
    "  features = [f for f in train_df.columns if f not in [\"id\", \"Y\", \"is_train\"]]\n",
    "  # 欠損値一括NONE補完\n",
    "  for col in features:\n",
    "    train_test_df.loc[:, col] = train_test_df[col].astype(str).fillna(\"NONE\")\n",
    "\n",
    "  # OneHotエンコーダ\n",
    "  ohe = preprocessing.OneHotEncoder()\n",
    "  ohe.fit(train_test_df[features])\n",
    "  # 学習、検証、テスト用データ作成\n",
    "  X = ohe.transform(train_test_df[train_test_df[\"is_train\"] == True][features])\n",
    "  y = train_test_df[train_test_df[\"is_train\"] == True].Y\n",
    "  X_trainval, X_test, y_trainval, y_test = train_test_split(X, y, random_state=0)\n",
    "\n",
    "  # 提出用データ作成\n",
    "  X_train_submit = ohe.transform(train_test_df[train_test_df[\"is_train\"] == False][features])\n",
    "\n",
    "  # LightGBM用のデータセットに変換\n",
    "  trainval = lgb.Dataset(X_trainval, y_trainval)\n",
    "\n",
    "  # ハイパーパラメータサーチ&モデル構築\n",
    "  params = {'objective': 'binary', 'metric': 'auc', 'random_seed':0, 'verbosity': -1, 'verbose_eval': 100, 'early_stopping_rounds': 100} \n",
    "\n",
    "  # 学習済みモデルへの参照を保持するためのコールバック\n",
    "  checkpoint_cb = TunerCVCheckpointCallback()\n",
    "  callbacks = [\n",
    "      checkpoint_cb,\n",
    "  ]\n",
    "  # クロスバリデーションによるハイパーパラメータの探索 3fold\n",
    "  tuner = lgb.LightGBMTunerCV(params, trainval, folds=StratifiedKFold(n_splits=3), callbacks=callbacks,)\n",
    "\n",
    "  # ハイパーパラメータ探索の実行\n",
    "  tuner.run()\n",
    "\n",
    "  # サーチしたパラメータの表示\n",
    "  best_params = tuner.best_params\n",
    "\n",
    "  print(\"  Params: \")\n",
    "  for key, value in best_params.items():\n",
    "      print(\"    {}: {}\".format(key, value))\n",
    "\n",
    "  # 最も良かったパラメータをキーにして学習済みモデルを取り出す\n",
    "  cv_booster = checkpoint_cb.get_trained_model(tuner.best_params)\n",
    "  # Averaging でホールドアウト検証データを予測する\n",
    "  y_pred_proba_list = cv_booster.predict(X_test, num_iteration=cv_booster.best_iteration)\n",
    "  y_pred_proba_avg = np.array(y_pred_proba_list).mean(axis=0)\n",
    "  y_pred = np.where(y_pred_proba_avg > 0.5, 1, 0)\n",
    "  \n",
    "  \n",
    "\n"
   ]
  },
  {
   "cell_type": "code",
   "execution_count": null,
   "metadata": {
    "colab": {
     "base_uri": "https://localhost:8080/"
    },
    "executionInfo": {
     "elapsed": 4869,
     "status": "ok",
     "timestamp": 1637804676896,
     "user": {
      "displayName": "SHOGO MASE",
      "photoUrl": "https://lh3.googleusercontent.com/a/default-user=s64",
      "userId": "03778749233417098240"
     },
     "user_tz": -540
    },
    "id": "8E6tAnXHwmvp",
    "outputId": "e4f849cc-f230-42fa-8e18-4524b5391c5d"
   },
   "outputs": [
    {
     "name": "stdout",
     "output_type": "stream",
     "text": [
      "Requirement already satisfied: heamy in /usr/local/lib/python3.7/dist-packages (0.0.7)\n",
      "Collecting rgf-python\n",
      "  Downloading rgf_python-3.11.0-py3-none-manylinux1_x86_64.whl (757 kB)\n",
      "\u001b[K     |████████████████████████████████| 757 kB 4.2 MB/s \n",
      "\u001b[?25hRequirement already satisfied: scikit-learn>=0.17.0 in /usr/local/lib/python3.7/dist-packages (from heamy) (1.0.1)\n",
      "Requirement already satisfied: numpy>=1.7.0 in /usr/local/lib/python3.7/dist-packages (from heamy) (1.19.5)\n",
      "Requirement already satisfied: six>=1.10.0 in /usr/local/lib/python3.7/dist-packages (from heamy) (1.15.0)\n",
      "Requirement already satisfied: pandas>=0.17.0 in /usr/local/lib/python3.7/dist-packages (from heamy) (1.1.5)\n",
      "Requirement already satisfied: scipy>=0.16.0 in /usr/local/lib/python3.7/dist-packages (from heamy) (1.4.1)\n",
      "Requirement already satisfied: pytz>=2017.2 in /usr/local/lib/python3.7/dist-packages (from pandas>=0.17.0->heamy) (2018.9)\n",
      "Requirement already satisfied: python-dateutil>=2.7.3 in /usr/local/lib/python3.7/dist-packages (from pandas>=0.17.0->heamy) (2.8.2)\n",
      "Requirement already satisfied: threadpoolctl>=2.0.0 in /usr/local/lib/python3.7/dist-packages (from scikit-learn>=0.17.0->heamy) (3.0.0)\n",
      "Requirement already satisfied: joblib>=0.11 in /usr/local/lib/python3.7/dist-packages (from scikit-learn>=0.17.0->heamy) (1.1.0)\n",
      "Installing collected packages: rgf-python\n",
      "Successfully installed rgf-python-3.11.0\n"
     ]
    }
   ],
   "source": [
    "!pip install heamy rgf-python"
   ]
  },
  {
   "cell_type": "code",
   "execution_count": null,
   "metadata": {
    "id": "_n0zzwtbGIZF"
   },
   "outputs": [],
   "source": []
  },
  {
   "cell_type": "code",
   "execution_count": null,
   "metadata": {
    "id": "KciwjYvKGIcT"
   },
   "outputs": [],
   "source": []
  },
  {
   "cell_type": "code",
   "execution_count": null,
   "metadata": {
    "id": "wPISXmz1GIe1"
   },
   "outputs": [],
   "source": []
  },
  {
   "cell_type": "code",
   "execution_count": null,
   "metadata": {
    "id": "xT-CTdUEGIhc"
   },
   "outputs": [],
   "source": []
  },
  {
   "cell_type": "code",
   "execution_count": null,
   "metadata": {
    "id": "CEr6ohRHGIj1"
   },
   "outputs": [],
   "source": []
  },
  {
   "cell_type": "code",
   "execution_count": null,
   "metadata": {
    "id": "fwkZE4rzGIml"
   },
   "outputs": [],
   "source": []
  },
  {
   "cell_type": "code",
   "execution_count": null,
   "metadata": {
    "id": "RKJ2RSBGGIpc"
   },
   "outputs": [],
   "source": []
  },
  {
   "cell_type": "code",
   "execution_count": null,
   "metadata": {
    "id": "Zs7M2os2GIr5"
   },
   "outputs": [],
   "source": []
  },
  {
   "cell_type": "code",
   "execution_count": null,
   "metadata": {
    "id": "0owlGzr3GIuU"
   },
   "outputs": [],
   "source": []
  },
  {
   "cell_type": "code",
   "execution_count": null,
   "metadata": {
    "colab": {
     "base_uri": "https://localhost:8080/"
    },
    "executionInfo": {
     "elapsed": 2474,
     "status": "ok",
     "timestamp": 1637804946201,
     "user": {
      "displayName": "SHOGO MASE",
      "photoUrl": "https://lh3.googleusercontent.com/a/default-user=s64",
      "userId": "03778749233417098240"
     },
     "user_tz": -540
    },
    "id": "PrBl0k06xojr",
    "outputId": "7f5a5d95-08a5-46e3-dc89-b27cdef2152c"
   },
   "outputs": [
    {
     "name": "stderr",
     "output_type": "stream",
     "text": [
      "Early stopping is not available in dart mode\n"
     ]
    },
    {
     "name": "stdout",
     "output_type": "stream",
     "text": [
      "[20]\tTrain's binary_logloss: 0.49518\tTest's binary_logloss: 0.579783\n",
      "[40]\tTrain's binary_logloss: 0.435369\tTest's binary_logloss: 0.55247\n",
      "[60]\tTrain's binary_logloss: 0.421776\tTest's binary_logloss: 0.540012\n",
      "[80]\tTrain's binary_logloss: 0.404662\tTest's binary_logloss: 0.534448\n",
      "[100]\tTrain's binary_logloss: 0.397211\tTest's binary_logloss: 0.529029\n",
      "[120]\tTrain's binary_logloss: 0.389344\tTest's binary_logloss: 0.526207\n",
      "[140]\tTrain's binary_logloss: 0.378392\tTest's binary_logloss: 0.521964\n",
      "[160]\tTrain's binary_logloss: 0.380276\tTest's binary_logloss: 0.519935\n",
      "[180]\tTrain's binary_logloss: 0.35897\tTest's binary_logloss: 0.520683\n",
      "[200]\tTrain's binary_logloss: 0.343356\tTest's binary_logloss: 0.51865\n",
      "[220]\tTrain's binary_logloss: 0.334065\tTest's binary_logloss: 0.5181\n",
      "[240]\tTrain's binary_logloss: 0.323543\tTest's binary_logloss: 0.522225\n",
      "[260]\tTrain's binary_logloss: 0.31655\tTest's binary_logloss: 0.525441\n",
      "[280]\tTrain's binary_logloss: 0.310028\tTest's binary_logloss: 0.5293\n",
      "[300]\tTrain's binary_logloss: 0.305101\tTest's binary_logloss: 0.528515\n",
      "[320]\tTrain's binary_logloss: 0.299545\tTest's binary_logloss: 0.530796\n",
      "[340]\tTrain's binary_logloss: 0.295847\tTest's binary_logloss: 0.530605\n",
      "[360]\tTrain's binary_logloss: 0.300037\tTest's binary_logloss: 0.529702\n",
      "[380]\tTrain's binary_logloss: 0.295252\tTest's binary_logloss: 0.530859\n",
      "[400]\tTrain's binary_logloss: 0.288647\tTest's binary_logloss: 0.534421\n",
      "[420]\tTrain's binary_logloss: 0.284728\tTest's binary_logloss: 0.536753\n",
      "[440]\tTrain's binary_logloss: 0.279029\tTest's binary_logloss: 0.538795\n",
      "[460]\tTrain's binary_logloss: 0.276457\tTest's binary_logloss: 0.53975\n",
      "[480]\tTrain's binary_logloss: 0.268103\tTest's binary_logloss: 0.546094\n",
      "[500]\tTrain's binary_logloss: 0.267278\tTest's binary_logloss: 0.542606\n"
     ]
    }
   ],
   "source": [
    "import lightgbm as lgbm\n",
    "from sklearn.model_selection import train_test_split\n",
    "\n",
    "X_train, X_valid, y_train, y_valid = train_test_split(df['X_train'], df['y_train'], test_size=0.2, random_state=0)\n",
    "\n",
    "train_dataset = lgbm.Dataset(data=X_train, label=y_train, free_raw_data=False)\n",
    "test_dataset = lgbm.Dataset(data=X_valid, label=y_valid, free_raw_data=False)\n",
    "final_train_dataset = lgbm.Dataset(data=df['X_train'], label=df['y_train'], free_raw_data=False)\n",
    "\n",
    "lgbm_params = {\n",
    "    'boosting': 'dart', \n",
    "    'application': 'binary',\n",
    "    'learning_rate': 0.05,\n",
    "    'min_data_in_leaf': 20,\n",
    "    'feature_fraction': 0.7,\n",
    "    'num_leaves': 41,\n",
    "    'metric': 'binary_logloss',\n",
    "    'drop_rate': 0.15\n",
    "}\n",
    "\n",
    "evaluation_results = {}\n",
    "clf = lgbm.train(train_set=train_dataset,\n",
    "                 params=lgbm_params,\n",
    "                 valid_sets=[train_dataset, test_dataset], \n",
    "                 valid_names=['Train', 'Test'],\n",
    "                 evals_result=evaluation_results,\n",
    "                 num_boost_round=500,\n",
    "                 early_stopping_rounds=100,\n",
    "                 verbose_eval=20\n",
    "                )\n",
    "                \n",
    "clf_final = lgbm.train(train_set=final_train_dataset,\n",
    "                      params=lgbm_params,\n",
    "                      num_boost_round=500,\n",
    "                      verbose_eval=0\n",
    "                      )\n",
    "\n",
    "y_pred = np.round(clf_final.predict(df['X_test'])).astype(int)\n",
    "\n",
    "passengerId = pd.read_csv(\"./raw/test.tsv\", sep=\"\\t\")['id']\n",
    "dataframe = pd.DataFrame({'id': passengerId, 'survived': y_pred})\n",
    "\n",
    "dataframe.to_csv('submission_single_lgbm_model.csv', index=False)"
   ]
  },
  {
   "cell_type": "code",
   "execution_count": null,
   "metadata": {
    "id": "vC-cFVgrxonJ"
   },
   "outputs": [],
   "source": []
  },
  {
   "cell_type": "code",
   "execution_count": null,
   "metadata": {
    "id": "0f2oXAOzwkeH"
   },
   "outputs": [],
   "source": [
    "from heamy.dataset import Dataset\n",
    "from heamy.estimator import Regressor, Classifier\n",
    "from heamy.pipeline import ModelsPipeline\n",
    "\n",
    "from rgf.sklearn import RGFClassifier\n",
    "from sklearn.neighbors import KNeighborsClassifier\n",
    "from sklearn.linear_model import LogisticRegression\n",
    "from sklearn.ensemble import RandomForestClassifier, ExtraTreesClassifier"
   ]
  },
  {
   "cell_type": "code",
   "execution_count": null,
   "metadata": {
    "id": "BgKdwHC6xgRT"
   },
   "outputs": [],
   "source": [
    "ds = Dataset(preprocessor=first_dataset, use_cache=False)\n",
    "et_params = {'n_estimators': 100, 'max_features': 0.5, 'max_depth': 18, 'min_samples_leaf': 4, 'n_jobs': -1}\n",
    "rf_params = {'n_estimators': 125, 'max_features': 0.2, 'max_depth': 25, 'min_samples_leaf': 4, 'n_jobs': -1}\n",
    "rgf_params = {'algorithm': 'RGF_Sib', 'loss': 'Log'}"
   ]
  },
  {
   "cell_type": "code",
   "execution_count": null,
   "metadata": {
    "id": "JSV0GyV1xgT_"
   },
   "outputs": [],
   "source": [
    "from keras.layers import Dense\n",
    "from keras.models import Sequential\n",
    "\n",
    "def NuralNetClassifier(X_train, y_train, X_test, y_test=None):\n",
    "    input_dim = X_train.shape[1]\n",
    "    \n",
    "    model = Sequential()\n",
    "    model.add(Dense(12, input_dim=input_dim, activation='relu'))\n",
    "    model.add(Dense(6, activation='relu'))\n",
    "    model.add(Dense(1, activation='sigmoid'))\n",
    "    model.compile(loss='binary_crossentropy', optimizer='adam', metrics=['accuracy'])\n",
    "    model.fit(X_train, y_train, epochs=30, batch_size=10, verbose=0)\n",
    "    y_pred = np.ravel(model.predict(X_test))\n",
    "    \n",
    "    return y_pred"
   ]
  },
  {
   "cell_type": "code",
   "execution_count": null,
   "metadata": {
    "id": "p9SDtVMIua8v"
   },
   "outputs": [],
   "source": [
    "def LightGBMClassifier(X_train, y_train, X_test, y_test=None):\n",
    "    lgbm_params = {\n",
    "        'boosting': 'dart', \n",
    "        'application': 'binary',\n",
    "        'learning_rate': 0.05,\n",
    "        'min_data_in_leaf': 20,\n",
    "        'feature_fraction': 0.7,\n",
    "        'num_leaves': 41,\n",
    "        'metric': 'binary_logloss',\n",
    "        'drop_rate': 0.15\n",
    "    }\n",
    "    \n",
    "    X_train, X_valid, y_train, y_valid = train_test_split(X_train, y_train, test_size=0.2, random_state=0)\n",
    "    train_dataset = lgbm.Dataset(data=X_train, label=y_train, free_raw_data=False)\n",
    "    test_dataset = lgbm.Dataset(data=X_valid, label=y_valid, free_raw_data=False)\n",
    "    \n",
    "    final_train_dataset = lgbm.Dataset(data=X_train, label=y_train, free_raw_data=False)\n",
    "    \n",
    "    evaluation_results = {}\n",
    "    \n",
    "    clf = lgbm.train(train_set=train_dataset,\n",
    "                     params=lgbm_params,\n",
    "                     valid_sets=[train_dataset, test_dataset], \n",
    "                     valid_names=['Train', 'Test'],\n",
    "                     evals_result=evaluation_results,\n",
    "                     num_boost_round=500,\n",
    "                     early_stopping_rounds=100,\n",
    "                     verbose_eval=0\n",
    "                    )\n",
    "    \n",
    "    clf_final = lgbm.train(train_set=final_train_dataset,\n",
    "                          params=lgbm_params,\n",
    "                          num_boost_round=500,\n",
    "                          verbose_eval=0\n",
    "                          )\n",
    "\n",
    "    y_pred = clf_final.predict(X_test)\n",
    "\n",
    "    \n",
    "    return y_pred"
   ]
  },
  {
   "cell_type": "code",
   "execution_count": null,
   "metadata": {
    "id": "zj2sTMmtua_a"
   },
   "outputs": [],
   "source": [
    "pipeline = ModelsPipeline(\n",
    "    Classifier(estimator=LightGBMClassifier, dataset=ds, use_cache=False),\n",
    "    Classifier(estimator=NuralNetClassifier, dataset=ds, use_cache=False),\n",
    "    Classifier(estimator=RGFClassifier, dataset=ds, use_cache=False, parameters=rgf_params),\n",
    "    Classifier(estimator=ExtraTreesClassifier, dataset=ds, use_cache=False, parameters=et_params),\n",
    "    Classifier(estimator=RandomForestClassifier, dataset=ds, use_cache=False, parameters=rf_params),\n",
    "    Classifier(estimator=LogisticRegression, dataset=ds, use_cache=False),\n",
    "    Classifier(estimator=KNeighborsClassifier, dataset=ds, use_cache=False)\n",
    ")"
   ]
  },
  {
   "cell_type": "code",
   "execution_count": null,
   "metadata": {
    "colab": {
     "base_uri": "https://localhost:8080/"
    },
    "executionInfo": {
     "elapsed": 76610,
     "status": "ok",
     "timestamp": 1637805333835,
     "user": {
      "displayName": "SHOGO MASE",
      "photoUrl": "https://lh3.googleusercontent.com/a/default-user=s64",
      "userId": "03778749233417098240"
     },
     "user_tz": -540
    },
    "id": "4E1ATIaZubDN",
    "outputId": "c82a5641-b081-4db8-dc00-2466f5c129c1"
   },
   "outputs": [
    {
     "name": "stderr",
     "output_type": "stream",
     "text": [
      "Early stopping is not available in dart mode\n"
     ]
    },
    {
     "name": "stdout",
     "output_type": "stream",
     "text": [
      "WARNING:tensorflow:5 out of the last 9 calls to <function Model.make_predict_function.<locals>.predict_function at 0x7fc220c38560> triggered tf.function retracing. Tracing is expensive and the excessive number of tracings could be due to (1) creating @tf.function repeatedly in a loop, (2) passing tensors with different shapes, (3) passing Python objects instead of tensors. For (1), please define your @tf.function outside of the loop. For (2), @tf.function has experimental_relax_shapes=True option that relaxes argument shapes that can avoid unnecessary retracing. For (3), please refer to https://www.tensorflow.org/guide/function#controlling_retracing and https://www.tensorflow.org/api_docs/python/tf/function for  more details.\n",
      "WARNING:tensorflow:6 out of the last 11 calls to <function Model.make_predict_function.<locals>.predict_function at 0x7fc220aa94d0> triggered tf.function retracing. Tracing is expensive and the excessive number of tracings could be due to (1) creating @tf.function repeatedly in a loop, (2) passing tensors with different shapes, (3) passing Python objects instead of tensors. For (1), please define your @tf.function outside of the loop. For (2), @tf.function has experimental_relax_shapes=True option that relaxes argument shapes that can avoid unnecessary retracing. For (3), please refer to https://www.tensorflow.org/guide/function#controlling_retracing and https://www.tensorflow.org/api_docs/python/tf/function for  more details.\n"
     ]
    }
   ],
   "source": [
    "stack_ds = pipeline.stack(k=10, seed=0, add_diff=False, full_test=True)\n",
    "stacker = Classifier(dataset=stack_ds, estimator=LogisticRegression, use_cache=False)\n",
    "y_pred = stacker.predict()\n",
    "dataframe = pd.DataFrame({'id': pd.read_csv(\"./raw/test.tsv\", sep=\"\\t\")['id'], 'survived': np.round(y_pred).astype(int)})\n",
    "dataframe.to_csv('submission_heamy_single_stacking_model.csv', index=False)"
   ]
  },
  {
   "cell_type": "code",
   "execution_count": null,
   "metadata": {
    "id": "MX7jADTbubE6"
   },
   "outputs": [],
   "source": []
  },
  {
   "cell_type": "code",
   "execution_count": null,
   "metadata": {
    "colab": {
     "base_uri": "https://localhost:8080/"
    },
    "executionInfo": {
     "elapsed": 12291,
     "status": "ok",
     "timestamp": 1637805519882,
     "user": {
      "displayName": "SHOGO MASE",
      "photoUrl": "https://lh3.googleusercontent.com/a/default-user=s64",
      "userId": "03778749233417098240"
     },
     "user_tz": -540
    },
    "id": "C_4aeBfyubHJ",
    "outputId": "684621f5-2231-4fb3-a306-48b298117e3e"
   },
   "outputs": [
    {
     "name": "stderr",
     "output_type": "stream",
     "text": [
      "Early stopping is not available in dart mode\n"
     ]
    },
    {
     "name": "stdout",
     "output_type": "stream",
     "text": [
      "Best Score (log_loss): 0.47271785347006845\n",
      "Best Weights: [0.49289792 0.50710208]\n"
     ]
    },
    {
     "name": "stderr",
     "output_type": "stream",
     "text": [
      "Early stopping is not available in dart mode\n"
     ]
    }
   ],
   "source": [
    "from sklearn.metrics import log_loss\n",
    "\n",
    "pipeline2 = ModelsPipeline(\n",
    "    Classifier(estimator=LightGBMClassifier, dataset=stack_ds, use_cache=False),\n",
    "    Classifier(estimator=NuralNetClassifier, dataset=stack_ds, use_cache=False)\n",
    ")\n",
    "\n",
    "weights = pipeline2.find_weights(log_loss)\n",
    "predictions = pipeline2.weight(weights).execute()"
   ]
  },
  {
   "cell_type": "code",
   "execution_count": null,
   "metadata": {
    "id": "8CW9XJEzubJ3"
   },
   "outputs": [],
   "source": [
    "dataframe = pd.DataFrame({'id': pd.read_csv(\"./raw/test.tsv\", sep=\"\\t\")['id'], 'survived': np.round(y_pred).astype(int)})\n",
    "dataframe.to_csv('submission_heamy_multiple_stacking_model.csv', index=False)"
   ]
  },
  {
   "cell_type": "code",
   "execution_count": null,
   "metadata": {
    "id": "QUFKSsgVubMg"
   },
   "outputs": [],
   "source": []
  },
  {
   "cell_type": "code",
   "execution_count": null,
   "metadata": {
    "id": "FH3wmnH0ubO8"
   },
   "outputs": [],
   "source": [
    "from sklearn.ensemble import StackingClassifier\n",
    "from keras.wrappers.scikit_learn import KerasClassifier\n",
    "\n",
    "lgbm_params = {\n",
    "        'boosting': 'dart', \n",
    "        'application': 'binary',\n",
    "        'learning_rate': 0.05,\n",
    "        'min_data_in_leaf': 20,\n",
    "        'feature_fraction': 0.7,\n",
    "        'num_leaves': 41,\n",
    "        'metric': 'binary_logloss',\n",
    "        'drop_rate': 0.15\n",
    "}\n",
    "keras_params = {'epochs': 10, 'batch_size': 10}"
   ]
  },
  {
   "cell_type": "code",
   "execution_count": null,
   "metadata": {
    "id": "WxZE1mmg0aYX"
   },
   "outputs": [],
   "source": [
    "def build_fn():\n",
    "    clf = Sequential()\n",
    "    clf.add(Dense(12, input_dim=9, activation='relu'))\n",
    "    clf.add(Dense(6, activation='relu'))\n",
    "    clf.add(Dense(1, activation='sigmoid'))\n",
    "    clf.compile(loss='binary_crossentropy', optimizer='adam', metrics=['accuracy'])\n",
    "    return clf"
   ]
  },
  {
   "cell_type": "code",
   "execution_count": null,
   "metadata": {
    "id": "QC6BJ12M0ah8"
   },
   "outputs": [],
   "source": [
    "estimators = [\n",
    "    ('lgb', lgbm.LGBMClassifier(**lgbm_params)),\n",
    "    #('nn', KerasClassifier(build_fn=build_fn, **keras_params)),\n",
    "    ('rgf', RGFClassifier(**rgf_params)),\n",
    "    ('et', ExtraTreesClassifier(**et_params)),\n",
    "    ('rf', RandomForestClassifier(**rf_params)),\n",
    "    ('lr', LogisticRegression()),\n",
    "    ('knn', KNeighborsClassifier())\n",
    "]"
   ]
  },
  {
   "cell_type": "code",
   "execution_count": null,
   "metadata": {
    "id": "2NB3vR7z0ak0"
   },
   "outputs": [],
   "source": [
    "clf = StackingClassifier(estimators=estimators, final_estimator=LogisticRegression())\n",
    "clf.fit(df['X_train'], df['y_train'])\n",
    "predictions = clf.predict(df['X_test'])\n",
    "dataframe = pd.DataFrame({'id': pd.read_csv(\"./raw/test.tsv\", sep=\"\\t\")['id'], 'survived': np.round(y_pred).astype(int)})\n",
    "dataframe.to_csv('submission_sklearn_single_stacking_model.csv', index=False)"
   ]
  },
  {
   "cell_type": "code",
   "execution_count": null,
   "metadata": {
    "id": "MTgg45v40anq"
   },
   "outputs": [],
   "source": []
  },
  {
   "cell_type": "code",
   "execution_count": null,
   "metadata": {
    "id": "2k87riLE0aqa"
   },
   "outputs": [],
   "source": [
    "final_estimator = StackingClassifier(\n",
    "    estimators= [\n",
    "        ('lgb', lgbm.LGBMClassifier(**lgbm_params)),\n",
    "        ('lr', LogisticRegression())\n",
    "    ],\n",
    "    final_estimator=LogisticRegression()\n",
    ")"
   ]
  },
  {
   "cell_type": "code",
   "execution_count": null,
   "metadata": {
    "id": "e7ox73F_0asT"
   },
   "outputs": [],
   "source": [
    "clf = StackingClassifier(\n",
    "    estimators= [\n",
    "        ('lgb', lgbm.LGBMClassifier(**lgbm_params)),\n",
    "        #('nn', KerasClassifier(build_fn=build_fn, **keras_params)),\n",
    "        ('rgf', RGFClassifier(**rgf_params)),\n",
    "        ('et', ExtraTreesClassifier(**et_params)),\n",
    "        ('rf', RandomForestClassifier(**rf_params)),\n",
    "        ('lr', LogisticRegression()),\n",
    "        ('knn', KNeighborsClassifier())\n",
    "    ],\n",
    "    final_estimator=final_estimator\n",
    ")"
   ]
  },
  {
   "cell_type": "code",
   "execution_count": null,
   "metadata": {
    "id": "GAB5nfvo0au1"
   },
   "outputs": [],
   "source": [
    "clf.fit(df['X_train'], df['y_train'])\n",
    "predictions = clf.predict(df['X_test'])\n",
    "dataframe = pd.DataFrame({'id': pd.read_csv(\"./raw/test.tsv\", sep=\"\\t\")['id'], 'survived': np.round(y_pred).astype(int)})\n",
    "dataframe.to_csv('submission_sklearn_multiple_stacking_model.csv', index=False)"
   ]
  },
  {
   "cell_type": "code",
   "execution_count": null,
   "metadata": {
    "id": "iEggtUsvubRo"
   },
   "outputs": [],
   "source": []
  }
 ],
 "metadata": {
  "accelerator": "GPU",
  "colab": {
   "authorship_tag": "ABX9TyMG6SNhR5KFefRPJWL7sDGk",
   "collapsed_sections": [],
   "name": "004_mush_shap.ipynb",
   "provenance": []
  },
  "kernelspec": {
   "display_name": "Python 3",
   "language": "python",
   "name": "python3"
  },
  "language_info": {
   "codemirror_mode": {
    "name": "ipython",
    "version": 3
   },
   "file_extension": ".py",
   "mimetype": "text/x-python",
   "name": "python",
   "nbconvert_exporter": "python",
   "pygments_lexer": "ipython3",
   "version": "3.7.3"
  }
 },
 "nbformat": 4,
 "nbformat_minor": 2
}
