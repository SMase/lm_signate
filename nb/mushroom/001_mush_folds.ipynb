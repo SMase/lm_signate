{
 "cells": [
  {
   "cell_type": "markdown",
   "metadata": {
    "executionInfo": {
     "elapsed": 12,
     "status": "ok",
     "timestamp": 1638628315639,
     "user": {
      "displayName": "SHOGO MASE",
      "photoUrl": "https://lh3.googleusercontent.com/a/default-user=s64",
      "userId": "03778749233417098240"
     },
     "user_tz": -540
    },
    "id": "xuMgmGZpRJyV"
   },
   "source": [
    "[![Open In Colab](https://colab.research.google.com/assets/colab-badge.svg)](https://colab.research.google.com/github/SMase/lm_signate/blob/main/nb/mushroom/001_mush_folds.ipynb)"
   ]
  },
  {
   "cell_type": "code",
   "execution_count": null,
   "metadata": {},
   "outputs": [],
   "source": [
    "# !nvidia-smi"
   ]
  },
  {
   "cell_type": "code",
   "execution_count": 2,
   "metadata": {
    "colab": {
     "base_uri": "https://localhost:8080/"
    },
    "executionInfo": {
     "elapsed": 24984,
     "status": "ok",
     "timestamp": 1638628340612,
     "user": {
      "displayName": "SHOGO MASE",
      "photoUrl": "https://lh3.googleusercontent.com/a/default-user=s64",
      "userId": "03778749233417098240"
     },
     "user_tz": -540
    },
    "id": "y7xCpHrccoAy",
    "outputId": "c1ecdc27-f084-4058-90ee-eb63f00c9334"
   },
   "outputs": [
    {
     "name": "stdout",
     "output_type": "stream",
     "text": [
      "Mounted at /content/drive\n"
     ]
    }
   ],
   "source": [
    "from google.colab import drive\n",
    "drive.mount('/content/drive')"
   ]
  },
  {
   "cell_type": "code",
   "execution_count": 4,
   "metadata": {
    "executionInfo": {
     "elapsed": 3,
     "status": "ok",
     "timestamp": 1638628346276,
     "user": {
      "displayName": "SHOGO MASE",
      "photoUrl": "https://lh3.googleusercontent.com/a/default-user=s64",
      "userId": "03778749233417098240"
     },
     "user_tz": -540
    },
    "id": "KJu-brtfIv-H"
   },
   "outputs": [],
   "source": [
    "%cp -R /content/drive/My\\ Drive/Colab\\ Notebooks/signate/mushroom/data/* ."
   ]
  },
  {
   "cell_type": "code",
   "execution_count": 5,
   "metadata": {
    "colab": {
     "base_uri": "https://localhost:8080/"
    },
    "executionInfo": {
     "elapsed": 6260,
     "status": "ok",
     "timestamp": 1638628353535,
     "user": {
      "displayName": "SHOGO MASE",
      "photoUrl": "https://lh3.googleusercontent.com/a/default-user=s64",
      "userId": "03778749233417098240"
     },
     "user_tz": -540
    },
    "id": "C_J6QGZRYgih",
    "outputId": "1dec5283-97e0-4ee7-8258-22e20c74cd95"
   },
   "outputs": [
    {
     "name": "stdout",
     "output_type": "stream",
     "text": [
      "Collecting shap\n",
      "  Downloading shap-0.40.0-cp37-cp37m-manylinux2010_x86_64.whl (564 kB)\n",
      "\u001b[K     |████████████████████████████████| 564 kB 13.0 MB/s \n",
      "\u001b[?25hCollecting lime\n",
      "  Downloading lime-0.2.0.1.tar.gz (275 kB)\n",
      "\u001b[K     |████████████████████████████████| 275 kB 48.2 MB/s \n",
      "\u001b[?25hRequirement already satisfied: packaging>20.9 in /usr/local/lib/python3.7/dist-packages (from shap) (21.3)\n",
      "Requirement already satisfied: scikit-learn in /usr/local/lib/python3.7/dist-packages (from shap) (1.0.1)\n",
      "Requirement already satisfied: scipy in /usr/local/lib/python3.7/dist-packages (from shap) (1.4.1)\n",
      "Requirement already satisfied: tqdm>4.25.0 in /usr/local/lib/python3.7/dist-packages (from shap) (4.62.3)\n",
      "Requirement already satisfied: numpy in /usr/local/lib/python3.7/dist-packages (from shap) (1.19.5)\n",
      "Requirement already satisfied: cloudpickle in /usr/local/lib/python3.7/dist-packages (from shap) (1.3.0)\n",
      "Requirement already satisfied: numba in /usr/local/lib/python3.7/dist-packages (from shap) (0.51.2)\n",
      "Requirement already satisfied: pandas in /usr/local/lib/python3.7/dist-packages (from shap) (1.1.5)\n",
      "Collecting slicer==0.0.7\n",
      "  Downloading slicer-0.0.7-py3-none-any.whl (14 kB)\n",
      "Requirement already satisfied: pyparsing!=3.0.5,>=2.0.2 in /usr/local/lib/python3.7/dist-packages (from packaging>20.9->shap) (3.0.6)\n",
      "Requirement already satisfied: matplotlib in /usr/local/lib/python3.7/dist-packages (from lime) (3.2.2)\n",
      "Requirement already satisfied: scikit-image>=0.12 in /usr/local/lib/python3.7/dist-packages (from lime) (0.18.3)\n",
      "Requirement already satisfied: networkx>=2.0 in /usr/local/lib/python3.7/dist-packages (from scikit-image>=0.12->lime) (2.6.3)\n",
      "Requirement already satisfied: pillow!=7.1.0,!=7.1.1,>=4.3.0 in /usr/local/lib/python3.7/dist-packages (from scikit-image>=0.12->lime) (7.1.2)\n",
      "Requirement already satisfied: tifffile>=2019.7.26 in /usr/local/lib/python3.7/dist-packages (from scikit-image>=0.12->lime) (2021.11.2)\n",
      "Requirement already satisfied: PyWavelets>=1.1.1 in /usr/local/lib/python3.7/dist-packages (from scikit-image>=0.12->lime) (1.2.0)\n",
      "Requirement already satisfied: imageio>=2.3.0 in /usr/local/lib/python3.7/dist-packages (from scikit-image>=0.12->lime) (2.4.1)\n",
      "Requirement already satisfied: kiwisolver>=1.0.1 in /usr/local/lib/python3.7/dist-packages (from matplotlib->lime) (1.3.2)\n",
      "Requirement already satisfied: cycler>=0.10 in /usr/local/lib/python3.7/dist-packages (from matplotlib->lime) (0.11.0)\n",
      "Requirement already satisfied: python-dateutil>=2.1 in /usr/local/lib/python3.7/dist-packages (from matplotlib->lime) (2.8.2)\n",
      "Requirement already satisfied: six>=1.5 in /usr/local/lib/python3.7/dist-packages (from python-dateutil>=2.1->matplotlib->lime) (1.15.0)\n",
      "Requirement already satisfied: threadpoolctl>=2.0.0 in /usr/local/lib/python3.7/dist-packages (from scikit-learn->shap) (3.0.0)\n",
      "Requirement already satisfied: joblib>=0.11 in /usr/local/lib/python3.7/dist-packages (from scikit-learn->shap) (1.1.0)\n",
      "Requirement already satisfied: llvmlite<0.35,>=0.34.0.dev0 in /usr/local/lib/python3.7/dist-packages (from numba->shap) (0.34.0)\n",
      "Requirement already satisfied: setuptools in /usr/local/lib/python3.7/dist-packages (from numba->shap) (57.4.0)\n",
      "Requirement already satisfied: pytz>=2017.2 in /usr/local/lib/python3.7/dist-packages (from pandas->shap) (2018.9)\n",
      "Building wheels for collected packages: lime\n",
      "  Building wheel for lime (setup.py) ... \u001b[?25l\u001b[?25hdone\n",
      "  Created wheel for lime: filename=lime-0.2.0.1-py3-none-any.whl size=283857 sha256=806a930e64359671e2df5b0fce8756063104566d09ae45bdaa84aa33da79e00a\n",
      "  Stored in directory: /root/.cache/pip/wheels/ca/cb/e5/ac701e12d365a08917bf4c6171c0961bc880a8181359c66aa7\n",
      "Successfully built lime\n",
      "Installing collected packages: slicer, shap, lime\n",
      "Successfully installed lime-0.2.0.1 shap-0.40.0 slicer-0.0.7\n"
     ]
    }
   ],
   "source": [
    "!pip install shap lime"
   ]
  },
  {
   "cell_type": "code",
   "execution_count": 6,
   "metadata": {
    "executionInfo": {
     "elapsed": 2761,
     "status": "ok",
     "timestamp": 1638628356293,
     "user": {
      "displayName": "SHOGO MASE",
      "photoUrl": "https://lh3.googleusercontent.com/a/default-user=s64",
      "userId": "03778749233417098240"
     },
     "user_tz": -540
    },
    "id": "b62DmLUYIwHZ"
   },
   "outputs": [],
   "source": [
    "import shap\n",
    "import lime\n",
    "import lightgbm as lgb\n",
    "import matplotlib.pyplot as plt\n",
    "import sklearn\n",
    "from six import StringIO\n",
    "from sklearn import preprocessing, metrics, model_selection\n",
    "from sklearn.preprocessing import MinMaxScaler, StandardScaler, LabelEncoder, OneHotEncoder, LabelBinarizer \n",
    "from sklearn.metrics import roc_auc_score, roc_curve, accuracy_score, recall_score, precision_score, f1_score, precision_recall_curve\n",
    "from sklearn.model_selection import KFold, StratifiedKFold, GridSearchCV, train_test_split\n",
    "from sklearn import linear_model\n",
    "\n",
    "# machine learning\n",
    "from sklearn.linear_model import LogisticRegression\n",
    "from sklearn.svm import SVC, LinearSVC\n",
    "from sklearn.ensemble import RandomForestClassifier\n",
    "from sklearn.neighbors import KNeighborsClassifier\n",
    "from sklearn.naive_bayes import GaussianNB\n",
    "from sklearn.linear_model import Perceptron\n",
    "from sklearn.linear_model import SGDClassifier\n",
    "from sklearn.tree import DecisionTreeClassifier\n",
    "\n",
    "from datetime import datetime, date, timezone, timedelta\n",
    "import seaborn as sns\n",
    "import numpy as np # linear algebra\n",
    "import pandas as pd # data processing, CSV file I/O (e.g. pd.read_csv)\n",
    "import os, gc"
   ]
  },
  {
   "cell_type": "markdown",
   "metadata": {
    "id": "QbJ29-jGMS-c"
   },
   "source": [
    "## データ読み込み"
   ]
  },
  {
   "cell_type": "code",
   "execution_count": 7,
   "metadata": {
    "executionInfo": {
     "elapsed": 19,
     "status": "ok",
     "timestamp": 1638628356294,
     "user": {
      "displayName": "SHOGO MASE",
      "photoUrl": "https://lh3.googleusercontent.com/a/default-user=s64",
      "userId": "03778749233417098240"
     },
     "user_tz": -540
    },
    "id": "JuXOFOKvIwKE"
   },
   "outputs": [],
   "source": [
    "train_df = pd.read_csv(\"./raw/train.tsv\", sep=\"\\t\")\n",
    "test_df = pd.read_csv(\"./raw/test.tsv\", sep=\"\\t\")\n",
    "combine = [train_df, test_df]"
   ]
  },
  {
   "cell_type": "code",
   "execution_count": 8,
   "metadata": {
    "colab": {
     "base_uri": "https://localhost:8080/"
    },
    "executionInfo": {
     "elapsed": 18,
     "status": "ok",
     "timestamp": 1638628356295,
     "user": {
      "displayName": "SHOGO MASE",
      "photoUrl": "https://lh3.googleusercontent.com/a/default-user=s64",
      "userId": "03778749233417098240"
     },
     "user_tz": -540
    },
    "id": "BEssRbkQ5rMG",
    "outputId": "0bca76e6-6770-4931-d781-1d814e960abd"
   },
   "outputs": [
    {
     "name": "stdout",
     "output_type": "stream",
     "text": [
      "['id' 'Y' 'cap-shape' 'cap-surface' 'cap-color' 'bruises' 'odor'\n",
      " 'gill-attachment' 'gill-spacing' 'gill-size' 'gill-color' 'stalk-shape'\n",
      " 'stalk-root' 'stalk-surface-above-ring' 'stalk-surface-below-ring'\n",
      " 'stalk-color-above-ring' 'stalk-color-below-ring' 'veil-type'\n",
      " 'veil-color' 'ring-number' 'ring-type' 'spore-print-color' 'population'\n",
      " 'habitat']\n"
     ]
    }
   ],
   "source": [
    "# 学習データカテゴリ\n",
    "print(train_df.columns.values)\n",
    "\n",
    "# どのカテゴリデータ、数値データを利用するか"
   ]
  },
  {
   "cell_type": "code",
   "execution_count": 9,
   "metadata": {
    "colab": {
     "base_uri": "https://localhost:8080/",
     "height": 799
    },
    "executionInfo": {
     "elapsed": 16,
     "status": "ok",
     "timestamp": 1638628356295,
     "user": {
      "displayName": "SHOGO MASE",
      "photoUrl": "https://lh3.googleusercontent.com/a/default-user=s64",
      "userId": "03778749233417098240"
     },
     "user_tz": -540
    },
    "id": "7NduXI5PTT7N",
    "outputId": "7ac386cb-c0c0-4405-d2fe-9e8cf9a9f15d"
   },
   "outputs": [
    {
     "name": "stdout",
     "output_type": "stream",
     "text": [
      "<class 'pandas.core.frame.DataFrame'>\n",
      "RangeIndex: 4062 entries, 0 to 4061\n",
      "Data columns (total 24 columns):\n",
      " #   Column                    Non-Null Count  Dtype \n",
      "---  ------                    --------------  ----- \n",
      " 0   id                        4062 non-null   int64 \n",
      " 1   Y                         4062 non-null   object\n",
      " 2   cap-shape                 4062 non-null   object\n",
      " 3   cap-surface               4062 non-null   object\n",
      " 4   cap-color                 4062 non-null   object\n",
      " 5   bruises                   4062 non-null   object\n",
      " 6   odor                      4062 non-null   object\n",
      " 7   gill-attachment           4062 non-null   object\n",
      " 8   gill-spacing              4062 non-null   object\n",
      " 9   gill-size                 4062 non-null   object\n",
      " 10  gill-color                4062 non-null   object\n",
      " 11  stalk-shape               4062 non-null   object\n",
      " 12  stalk-root                4062 non-null   object\n",
      " 13  stalk-surface-above-ring  4062 non-null   object\n",
      " 14  stalk-surface-below-ring  4062 non-null   object\n",
      " 15  stalk-color-above-ring    4062 non-null   object\n",
      " 16  stalk-color-below-ring    4062 non-null   object\n",
      " 17  veil-type                 4062 non-null   object\n",
      " 18  veil-color                4062 non-null   object\n",
      " 19  ring-number               4062 non-null   object\n",
      " 20  ring-type                 4062 non-null   object\n",
      " 21  spore-print-color         4062 non-null   object\n",
      " 22  population                4062 non-null   object\n",
      " 23  habitat                   4062 non-null   object\n",
      "dtypes: int64(1), object(23)\n",
      "memory usage: 761.8+ KB\n"
     ]
    },
    {
     "data": {
      "text/plain": [
       "None"
      ]
     },
     "metadata": {},
     "output_type": "display_data"
    },
    {
     "data": {
      "text/html": [
       "<div>\n",
       "<style scoped>\n",
       "    .dataframe tbody tr th:only-of-type {\n",
       "        vertical-align: middle;\n",
       "    }\n",
       "\n",
       "    .dataframe tbody tr th {\n",
       "        vertical-align: top;\n",
       "    }\n",
       "\n",
       "    .dataframe thead th {\n",
       "        text-align: right;\n",
       "    }\n",
       "</style>\n",
       "<table border=\"1\" class=\"dataframe\">\n",
       "  <thead>\n",
       "    <tr style=\"text-align: right;\">\n",
       "      <th></th>\n",
       "      <th>id</th>\n",
       "      <th>Y</th>\n",
       "      <th>cap-shape</th>\n",
       "      <th>cap-surface</th>\n",
       "      <th>cap-color</th>\n",
       "      <th>bruises</th>\n",
       "      <th>odor</th>\n",
       "      <th>gill-attachment</th>\n",
       "      <th>gill-spacing</th>\n",
       "      <th>gill-size</th>\n",
       "      <th>gill-color</th>\n",
       "      <th>stalk-shape</th>\n",
       "      <th>stalk-root</th>\n",
       "      <th>stalk-surface-above-ring</th>\n",
       "      <th>stalk-surface-below-ring</th>\n",
       "      <th>stalk-color-above-ring</th>\n",
       "      <th>stalk-color-below-ring</th>\n",
       "      <th>veil-type</th>\n",
       "      <th>veil-color</th>\n",
       "      <th>ring-number</th>\n",
       "      <th>ring-type</th>\n",
       "      <th>spore-print-color</th>\n",
       "      <th>population</th>\n",
       "      <th>habitat</th>\n",
       "    </tr>\n",
       "  </thead>\n",
       "  <tbody>\n",
       "    <tr>\n",
       "      <th>0</th>\n",
       "      <td>0</td>\n",
       "      <td>p</td>\n",
       "      <td>f</td>\n",
       "      <td>y</td>\n",
       "      <td>n</td>\n",
       "      <td>f</td>\n",
       "      <td>f</td>\n",
       "      <td>f</td>\n",
       "      <td>c</td>\n",
       "      <td>n</td>\n",
       "      <td>b</td>\n",
       "      <td>t</td>\n",
       "      <td>?</td>\n",
       "      <td>s</td>\n",
       "      <td>k</td>\n",
       "      <td>w</td>\n",
       "      <td>w</td>\n",
       "      <td>p</td>\n",
       "      <td>w</td>\n",
       "      <td>o</td>\n",
       "      <td>e</td>\n",
       "      <td>w</td>\n",
       "      <td>v</td>\n",
       "      <td>d</td>\n",
       "    </tr>\n",
       "    <tr>\n",
       "      <th>1</th>\n",
       "      <td>2</td>\n",
       "      <td>p</td>\n",
       "      <td>f</td>\n",
       "      <td>y</td>\n",
       "      <td>y</td>\n",
       "      <td>f</td>\n",
       "      <td>f</td>\n",
       "      <td>f</td>\n",
       "      <td>c</td>\n",
       "      <td>b</td>\n",
       "      <td>p</td>\n",
       "      <td>e</td>\n",
       "      <td>b</td>\n",
       "      <td>k</td>\n",
       "      <td>k</td>\n",
       "      <td>b</td>\n",
       "      <td>p</td>\n",
       "      <td>p</td>\n",
       "      <td>w</td>\n",
       "      <td>o</td>\n",
       "      <td>l</td>\n",
       "      <td>h</td>\n",
       "      <td>y</td>\n",
       "      <td>g</td>\n",
       "    </tr>\n",
       "    <tr>\n",
       "      <th>2</th>\n",
       "      <td>3</td>\n",
       "      <td>e</td>\n",
       "      <td>b</td>\n",
       "      <td>y</td>\n",
       "      <td>w</td>\n",
       "      <td>t</td>\n",
       "      <td>l</td>\n",
       "      <td>f</td>\n",
       "      <td>c</td>\n",
       "      <td>b</td>\n",
       "      <td>k</td>\n",
       "      <td>e</td>\n",
       "      <td>c</td>\n",
       "      <td>s</td>\n",
       "      <td>s</td>\n",
       "      <td>w</td>\n",
       "      <td>w</td>\n",
       "      <td>p</td>\n",
       "      <td>w</td>\n",
       "      <td>o</td>\n",
       "      <td>p</td>\n",
       "      <td>k</td>\n",
       "      <td>n</td>\n",
       "      <td>m</td>\n",
       "    </tr>\n",
       "    <tr>\n",
       "      <th>3</th>\n",
       "      <td>5</td>\n",
       "      <td>p</td>\n",
       "      <td>x</td>\n",
       "      <td>s</td>\n",
       "      <td>b</td>\n",
       "      <td>t</td>\n",
       "      <td>f</td>\n",
       "      <td>f</td>\n",
       "      <td>c</td>\n",
       "      <td>b</td>\n",
       "      <td>h</td>\n",
       "      <td>t</td>\n",
       "      <td>b</td>\n",
       "      <td>s</td>\n",
       "      <td>s</td>\n",
       "      <td>w</td>\n",
       "      <td>w</td>\n",
       "      <td>p</td>\n",
       "      <td>w</td>\n",
       "      <td>o</td>\n",
       "      <td>p</td>\n",
       "      <td>h</td>\n",
       "      <td>v</td>\n",
       "      <td>u</td>\n",
       "    </tr>\n",
       "    <tr>\n",
       "      <th>4</th>\n",
       "      <td>7</td>\n",
       "      <td>p</td>\n",
       "      <td>x</td>\n",
       "      <td>s</td>\n",
       "      <td>w</td>\n",
       "      <td>t</td>\n",
       "      <td>f</td>\n",
       "      <td>f</td>\n",
       "      <td>c</td>\n",
       "      <td>b</td>\n",
       "      <td>w</td>\n",
       "      <td>t</td>\n",
       "      <td>b</td>\n",
       "      <td>s</td>\n",
       "      <td>f</td>\n",
       "      <td>w</td>\n",
       "      <td>w</td>\n",
       "      <td>p</td>\n",
       "      <td>w</td>\n",
       "      <td>o</td>\n",
       "      <td>p</td>\n",
       "      <td>h</td>\n",
       "      <td>v</td>\n",
       "      <td>g</td>\n",
       "    </tr>\n",
       "  </tbody>\n",
       "</table>\n",
       "</div>"
      ],
      "text/plain": [
       "   id  Y cap-shape cap-surface  ... ring-type spore-print-color population habitat\n",
       "0   0  p         f           y  ...         e                 w          v       d\n",
       "1   2  p         f           y  ...         l                 h          y       g\n",
       "2   3  e         b           y  ...         p                 k          n       m\n",
       "3   5  p         x           s  ...         p                 h          v       u\n",
       "4   7  p         x           s  ...         p                 h          v       g\n",
       "\n",
       "[5 rows x 24 columns]"
      ]
     },
     "metadata": {},
     "output_type": "display_data"
    }
   ],
   "source": [
    "display(train_df.info())\n",
    "display(train_df.head())"
   ]
  },
  {
   "cell_type": "code",
   "execution_count": 10,
   "metadata": {
    "colab": {
     "base_uri": "https://localhost:8080/",
     "height": 765
    },
    "executionInfo": {
     "elapsed": 14,
     "status": "ok",
     "timestamp": 1638628356296,
     "user": {
      "displayName": "SHOGO MASE",
      "photoUrl": "https://lh3.googleusercontent.com/a/default-user=s64",
      "userId": "03778749233417098240"
     },
     "user_tz": -540
    },
    "id": "vIGLyQrMQxaY",
    "outputId": "0e482251-d3d8-416a-fd18-7ef3053c7de6"
   },
   "outputs": [
    {
     "name": "stdout",
     "output_type": "stream",
     "text": [
      "<class 'pandas.core.frame.DataFrame'>\n",
      "RangeIndex: 4062 entries, 0 to 4061\n",
      "Data columns (total 23 columns):\n",
      " #   Column                    Non-Null Count  Dtype \n",
      "---  ------                    --------------  ----- \n",
      " 0   id                        4062 non-null   int64 \n",
      " 1   cap-shape                 4062 non-null   object\n",
      " 2   cap-surface               4062 non-null   object\n",
      " 3   cap-color                 4062 non-null   object\n",
      " 4   bruises                   4062 non-null   object\n",
      " 5   odor                      4062 non-null   object\n",
      " 6   gill-attachment           4062 non-null   object\n",
      " 7   gill-spacing              4062 non-null   object\n",
      " 8   gill-size                 4062 non-null   object\n",
      " 9   gill-color                4062 non-null   object\n",
      " 10  stalk-shape               4062 non-null   object\n",
      " 11  stalk-root                4062 non-null   object\n",
      " 12  stalk-surface-above-ring  4062 non-null   object\n",
      " 13  stalk-surface-below-ring  4062 non-null   object\n",
      " 14  stalk-color-above-ring    4062 non-null   object\n",
      " 15  stalk-color-below-ring    4062 non-null   object\n",
      " 16  veil-type                 4062 non-null   object\n",
      " 17  veil-color                4062 non-null   object\n",
      " 18  ring-number               4062 non-null   object\n",
      " 19  ring-type                 4062 non-null   object\n",
      " 20  spore-print-color         4062 non-null   object\n",
      " 21  population                4062 non-null   object\n",
      " 22  habitat                   4062 non-null   object\n",
      "dtypes: int64(1), object(22)\n",
      "memory usage: 730.0+ KB\n"
     ]
    },
    {
     "data": {
      "text/plain": [
       "None"
      ]
     },
     "metadata": {},
     "output_type": "display_data"
    },
    {
     "data": {
      "text/html": [
       "<div>\n",
       "<style scoped>\n",
       "    .dataframe tbody tr th:only-of-type {\n",
       "        vertical-align: middle;\n",
       "    }\n",
       "\n",
       "    .dataframe tbody tr th {\n",
       "        vertical-align: top;\n",
       "    }\n",
       "\n",
       "    .dataframe thead th {\n",
       "        text-align: right;\n",
       "    }\n",
       "</style>\n",
       "<table border=\"1\" class=\"dataframe\">\n",
       "  <thead>\n",
       "    <tr style=\"text-align: right;\">\n",
       "      <th></th>\n",
       "      <th>id</th>\n",
       "      <th>cap-shape</th>\n",
       "      <th>cap-surface</th>\n",
       "      <th>cap-color</th>\n",
       "      <th>bruises</th>\n",
       "      <th>odor</th>\n",
       "      <th>gill-attachment</th>\n",
       "      <th>gill-spacing</th>\n",
       "      <th>gill-size</th>\n",
       "      <th>gill-color</th>\n",
       "      <th>stalk-shape</th>\n",
       "      <th>stalk-root</th>\n",
       "      <th>stalk-surface-above-ring</th>\n",
       "      <th>stalk-surface-below-ring</th>\n",
       "      <th>stalk-color-above-ring</th>\n",
       "      <th>stalk-color-below-ring</th>\n",
       "      <th>veil-type</th>\n",
       "      <th>veil-color</th>\n",
       "      <th>ring-number</th>\n",
       "      <th>ring-type</th>\n",
       "      <th>spore-print-color</th>\n",
       "      <th>population</th>\n",
       "      <th>habitat</th>\n",
       "    </tr>\n",
       "  </thead>\n",
       "  <tbody>\n",
       "    <tr>\n",
       "      <th>0</th>\n",
       "      <td>1</td>\n",
       "      <td>x</td>\n",
       "      <td>s</td>\n",
       "      <td>w</td>\n",
       "      <td>t</td>\n",
       "      <td>f</td>\n",
       "      <td>f</td>\n",
       "      <td>c</td>\n",
       "      <td>b</td>\n",
       "      <td>p</td>\n",
       "      <td>t</td>\n",
       "      <td>b</td>\n",
       "      <td>f</td>\n",
       "      <td>f</td>\n",
       "      <td>w</td>\n",
       "      <td>w</td>\n",
       "      <td>p</td>\n",
       "      <td>w</td>\n",
       "      <td>o</td>\n",
       "      <td>p</td>\n",
       "      <td>h</td>\n",
       "      <td>v</td>\n",
       "      <td>g</td>\n",
       "    </tr>\n",
       "    <tr>\n",
       "      <th>1</th>\n",
       "      <td>4</td>\n",
       "      <td>f</td>\n",
       "      <td>y</td>\n",
       "      <td>g</td>\n",
       "      <td>t</td>\n",
       "      <td>n</td>\n",
       "      <td>f</td>\n",
       "      <td>c</td>\n",
       "      <td>b</td>\n",
       "      <td>n</td>\n",
       "      <td>t</td>\n",
       "      <td>b</td>\n",
       "      <td>s</td>\n",
       "      <td>s</td>\n",
       "      <td>p</td>\n",
       "      <td>g</td>\n",
       "      <td>p</td>\n",
       "      <td>w</td>\n",
       "      <td>o</td>\n",
       "      <td>p</td>\n",
       "      <td>n</td>\n",
       "      <td>y</td>\n",
       "      <td>d</td>\n",
       "    </tr>\n",
       "    <tr>\n",
       "      <th>2</th>\n",
       "      <td>6</td>\n",
       "      <td>x</td>\n",
       "      <td>y</td>\n",
       "      <td>e</td>\n",
       "      <td>t</td>\n",
       "      <td>n</td>\n",
       "      <td>f</td>\n",
       "      <td>c</td>\n",
       "      <td>b</td>\n",
       "      <td>w</td>\n",
       "      <td>t</td>\n",
       "      <td>b</td>\n",
       "      <td>s</td>\n",
       "      <td>s</td>\n",
       "      <td>w</td>\n",
       "      <td>p</td>\n",
       "      <td>p</td>\n",
       "      <td>w</td>\n",
       "      <td>o</td>\n",
       "      <td>p</td>\n",
       "      <td>n</td>\n",
       "      <td>y</td>\n",
       "      <td>d</td>\n",
       "    </tr>\n",
       "    <tr>\n",
       "      <th>3</th>\n",
       "      <td>8</td>\n",
       "      <td>f</td>\n",
       "      <td>s</td>\n",
       "      <td>g</td>\n",
       "      <td>t</td>\n",
       "      <td>f</td>\n",
       "      <td>f</td>\n",
       "      <td>c</td>\n",
       "      <td>b</td>\n",
       "      <td>p</td>\n",
       "      <td>t</td>\n",
       "      <td>b</td>\n",
       "      <td>f</td>\n",
       "      <td>s</td>\n",
       "      <td>w</td>\n",
       "      <td>w</td>\n",
       "      <td>p</td>\n",
       "      <td>w</td>\n",
       "      <td>o</td>\n",
       "      <td>p</td>\n",
       "      <td>h</td>\n",
       "      <td>v</td>\n",
       "      <td>g</td>\n",
       "    </tr>\n",
       "    <tr>\n",
       "      <th>4</th>\n",
       "      <td>9</td>\n",
       "      <td>x</td>\n",
       "      <td>s</td>\n",
       "      <td>e</td>\n",
       "      <td>f</td>\n",
       "      <td>y</td>\n",
       "      <td>f</td>\n",
       "      <td>c</td>\n",
       "      <td>n</td>\n",
       "      <td>b</td>\n",
       "      <td>t</td>\n",
       "      <td>?</td>\n",
       "      <td>k</td>\n",
       "      <td>s</td>\n",
       "      <td>w</td>\n",
       "      <td>w</td>\n",
       "      <td>p</td>\n",
       "      <td>w</td>\n",
       "      <td>o</td>\n",
       "      <td>e</td>\n",
       "      <td>w</td>\n",
       "      <td>v</td>\n",
       "      <td>l</td>\n",
       "    </tr>\n",
       "  </tbody>\n",
       "</table>\n",
       "</div>"
      ],
      "text/plain": [
       "   id cap-shape cap-surface  ... spore-print-color population habitat\n",
       "0   1         x           s  ...                 h          v       g\n",
       "1   4         f           y  ...                 n          y       d\n",
       "2   6         x           y  ...                 n          y       d\n",
       "3   8         f           s  ...                 h          v       g\n",
       "4   9         x           s  ...                 w          v       l\n",
       "\n",
       "[5 rows x 23 columns]"
      ]
     },
     "metadata": {},
     "output_type": "display_data"
    }
   ],
   "source": [
    "display(test_df.info())\n",
    "display(test_df.head())"
   ]
  },
  {
   "cell_type": "markdown",
   "metadata": {
    "id": "OjT9bDXU3yIl"
   },
   "source": [
    "## データ理解\n",
    "\n",
    "- cap-shape: 傘形状（ベル型=b, 円錐型=c, 饅頭型=x, 扁平型=f, コブ型=k, 凹んだ扁平型=s） => 名義変数\n",
    "- cap-surface: 傘表面（繊維=f, 溝=g, 鱗片=y, 滑らか=s） => 名義変数\n",
    "- cap-color: 傘の色（ブラウン=n, バフ=b, シナモン=c, グレー=g, グリーン=r, ピンク=p, パープル=u, レッド=e, ホワイト=w, イエロー=y） => 名義変数\n",
    "- bruises: 斑点（斑点あり=t, 斑点なし=f） => 名義変数\n",
    "- odor: 臭気（アーモンド=a, アニス=l, クレオソート=c, フィッシュ=y, ファウル=f, ミューズイ=m, なし=n, 辛味=p, スパイシー=s） => 名義変数\n",
    "- gill-attachment: ひだの付き方（直生=a, 垂生=d, 離生=f, 凹生=n） => 名義変数\n",
    "- gill-spacing: ひだの間隔（近い=c, 過密=w, 長い=d） => 名義変数\n",
    "- gill-size: ひだのサイズ（広い=b, 狭い=n） => 名義変数\n",
    "- gill-color: ひだの色（ブラック=k, ブラウン=n, バフ=b, チョコレート=h, グレー=g, グリーン=r, オレンジ=o, ピンク=p, パープル=u, レッド=e, ホワイト=w, イエロー=y） => 名義変数\n",
    "- stalk-shape: 柄の形状（広がり=e, 先細り=t） => 名義変数\n",
    "- stalk-root: 柄の根（球根=b, クラブ=c, カップ=u, 等しい=e 根茎形態=z, 根=r, 無し=？） => 名義変数\n",
    "- stalk-surface-above-ring: 柄表面-上記リング（繊維状=f, 鱗片状=y, 絹毛=k, 滑らか=s） => 名義変数\n",
    "- stalk-surface-below-ring: 柄-表面下のリング（繊維状=f, 鱗片状=y, 絹毛=k, 滑らか=s） => 名義変数\n",
    "- stalk-color-above-ring: 柄の色-上記リング（ブラウン=n, バフ=b, シナモン=c, グレー=g, オレンジ=o, ピンク=p, 赤=e, 白=w, 黄色=y） => 名義変数\n",
    "- stalk-color-below-ring: 柄-カラーリング下（ブラウン=n, バフ=b, シナモン=c, グレー=g, オレンジ=o, ピンク=p, 赤=e, 白=w, 黄色=y） => 名義変数\n",
    "- veil-type: つぼの種類（内皮膜=p, 外皮膜=u） => 名義変数\n",
    "- veil-color: つぼの色（ブラウン=n, オレンジ=o, ホワイト=w, イエロー=y） => 名義変数\n",
    "- ring-number: つばの数（none=n, one=o, two=t） => 順序変数\n",
    "- ring-type: つばの種類（クモの巣状=c, 消失性=e, 炎のような=f, 大きな=l, 無し=n, 垂れた=p, 鞘=s, 環帯=z） => 名義変数\n",
    "- spore-print-color: 胞子の色（ブラック=k, ブラウン=n, バフ=b, チョコレート=h, グリーン=r, オレンジ=o, パープル=u, ホワイト=w, イエロー=y） => 名義変数\n",
    "- population: 集団形成方法（大多数=a, 群れを成して=c, 多数=n, 分散=s, 数個=v, 孤立=y） => 名義変数\n",
    "- habitat: 生息地（牧草=g, 葉=1, 牧草地=m, 小道=p, 都市=u, 廃棄物=w, 森=d） => 名義変数\n",
    "\n",
    "\n"
   ]
  },
  {
   "cell_type": "code",
   "execution_count": 11,
   "metadata": {
    "colab": {
     "base_uri": "https://localhost:8080/"
    },
    "executionInfo": {
     "elapsed": 482,
     "status": "ok",
     "timestamp": 1638628461367,
     "user": {
      "displayName": "SHOGO MASE",
      "photoUrl": "https://lh3.googleusercontent.com/a/default-user=s64",
      "userId": "03778749233417098240"
     },
     "user_tz": -540
    },
    "id": "G7rEisSZ3vfu",
    "outputId": "85488908-116c-45fb-b350-cdc5c85417f1"
   },
   "outputs": [
    {
     "data": {
      "text/plain": [
       "e    2103\n",
       "p    1959\n",
       "Name: Y, dtype: int64"
      ]
     },
     "execution_count": 11,
     "metadata": {},
     "output_type": "execute_result"
    }
   ],
   "source": [
    "train_df[\"Y\"].value_counts(dropna=True)"
   ]
  },
  {
   "cell_type": "code",
   "execution_count": 16,
   "metadata": {
    "executionInfo": {
     "elapsed": 500,
     "status": "ok",
     "timestamp": 1638629091607,
     "user": {
      "displayName": "SHOGO MASE",
      "photoUrl": "https://lh3.googleusercontent.com/a/default-user=s64",
      "userId": "03778749233417098240"
     },
     "user_tz": -540
    },
    "id": "X6BddTKy3kGg"
   },
   "outputs": [],
   "source": [
    "train_df[\"kfold\"] = -1\n",
    "\n",
    "# sampleシャッフル\n",
    "train_df = train_df.sample(frac=1).reset_index(drop=True)\n",
    "\n",
    "# 目的変数取り出し\n",
    "y = train_df.Y.values\n",
    "\n",
    "kf = model_selection.StratifiedKFold(n_splits=5)\n",
    "for f, (t_, v_) in enumerate(kf.split(X=train_df, y=y)):\n",
    "  train_df.loc[v_, \"kfold\"] = f\n",
    "\n"
   ]
  },
  {
   "cell_type": "code",
   "execution_count": 18,
   "metadata": {
    "executionInfo": {
     "elapsed": 331,
     "status": "ok",
     "timestamp": 1638629164609,
     "user": {
      "displayName": "SHOGO MASE",
      "photoUrl": "https://lh3.googleusercontent.com/a/default-user=s64",
      "userId": "03778749233417098240"
     },
     "user_tz": -540
    },
    "id": "5Do1U3vo55q-"
   },
   "outputs": [],
   "source": [
    "save_dpath = \"/content/drive/My Drive/Colab Notebooks/signate/mushroom/data/001\"\n",
    "os.makedirs(save_dpath, exist_ok=True)\n",
    "train_df.to_csv(f\"{save_dpath}/train_folds.tsv\", sep=\"\\t\", index=False)"
   ]
  },
  {
   "cell_type": "code",
   "execution_count": 14,
   "metadata": {
    "colab": {
     "base_uri": "https://localhost:8080/"
    },
    "executionInfo": {
     "elapsed": 519,
     "status": "ok",
     "timestamp": 1638628915477,
     "user": {
      "displayName": "SHOGO MASE",
      "photoUrl": "https://lh3.googleusercontent.com/a/default-user=s64",
      "userId": "03778749233417098240"
     },
     "user_tz": -540
    },
    "id": "8_dibtSZ5N7P",
    "outputId": "95abf28f-d3fc-40cc-d481-83c904a14912"
   },
   "outputs": [
    {
     "name": "stdout",
     "output_type": "stream",
     "text": [
      "raw\n"
     ]
    }
   ],
   "source": [
    "!ls /content/drive/My\\ Drive/Colab\\ Notebooks/signate/mushroom/data"
   ]
  },
  {
   "cell_type": "code",
   "execution_count": 13,
   "metadata": {
    "colab": {
     "base_uri": "https://localhost:8080/",
     "height": 255
    },
    "executionInfo": {
     "elapsed": 395,
     "status": "ok",
     "timestamp": 1638628837137,
     "user": {
      "displayName": "SHOGO MASE",
      "photoUrl": "https://lh3.googleusercontent.com/a/default-user=s64",
      "userId": "03778749233417098240"
     },
     "user_tz": -540
    },
    "id": "EtDpUtGO3kRl",
    "outputId": "6c9a0645-3b5f-4be6-8fdc-217ed93c5f8a"
   },
   "outputs": [
    {
     "data": {
      "text/html": [
       "<div>\n",
       "<style scoped>\n",
       "    .dataframe tbody tr th:only-of-type {\n",
       "        vertical-align: middle;\n",
       "    }\n",
       "\n",
       "    .dataframe tbody tr th {\n",
       "        vertical-align: top;\n",
       "    }\n",
       "\n",
       "    .dataframe thead th {\n",
       "        text-align: right;\n",
       "    }\n",
       "</style>\n",
       "<table border=\"1\" class=\"dataframe\">\n",
       "  <thead>\n",
       "    <tr style=\"text-align: right;\">\n",
       "      <th></th>\n",
       "      <th>id</th>\n",
       "      <th>Y</th>\n",
       "      <th>cap-shape</th>\n",
       "      <th>cap-surface</th>\n",
       "      <th>cap-color</th>\n",
       "      <th>bruises</th>\n",
       "      <th>odor</th>\n",
       "      <th>gill-attachment</th>\n",
       "      <th>gill-spacing</th>\n",
       "      <th>gill-size</th>\n",
       "      <th>gill-color</th>\n",
       "      <th>stalk-shape</th>\n",
       "      <th>stalk-root</th>\n",
       "      <th>stalk-surface-above-ring</th>\n",
       "      <th>stalk-surface-below-ring</th>\n",
       "      <th>stalk-color-above-ring</th>\n",
       "      <th>stalk-color-below-ring</th>\n",
       "      <th>veil-type</th>\n",
       "      <th>veil-color</th>\n",
       "      <th>ring-number</th>\n",
       "      <th>ring-type</th>\n",
       "      <th>spore-print-color</th>\n",
       "      <th>population</th>\n",
       "      <th>habitat</th>\n",
       "      <th>kfold</th>\n",
       "    </tr>\n",
       "  </thead>\n",
       "  <tbody>\n",
       "    <tr>\n",
       "      <th>4057</th>\n",
       "      <td>7862</td>\n",
       "      <td>p</td>\n",
       "      <td>f</td>\n",
       "      <td>y</td>\n",
       "      <td>n</td>\n",
       "      <td>f</td>\n",
       "      <td>m</td>\n",
       "      <td>a</td>\n",
       "      <td>c</td>\n",
       "      <td>b</td>\n",
       "      <td>y</td>\n",
       "      <td>e</td>\n",
       "      <td>c</td>\n",
       "      <td>k</td>\n",
       "      <td>y</td>\n",
       "      <td>c</td>\n",
       "      <td>c</td>\n",
       "      <td>p</td>\n",
       "      <td>w</td>\n",
       "      <td>n</td>\n",
       "      <td>n</td>\n",
       "      <td>w</td>\n",
       "      <td>c</td>\n",
       "      <td>d</td>\n",
       "      <td>4</td>\n",
       "    </tr>\n",
       "    <tr>\n",
       "      <th>4058</th>\n",
       "      <td>485</td>\n",
       "      <td>p</td>\n",
       "      <td>x</td>\n",
       "      <td>s</td>\n",
       "      <td>n</td>\n",
       "      <td>f</td>\n",
       "      <td>f</td>\n",
       "      <td>f</td>\n",
       "      <td>c</td>\n",
       "      <td>n</td>\n",
       "      <td>b</td>\n",
       "      <td>t</td>\n",
       "      <td>?</td>\n",
       "      <td>s</td>\n",
       "      <td>k</td>\n",
       "      <td>p</td>\n",
       "      <td>p</td>\n",
       "      <td>p</td>\n",
       "      <td>w</td>\n",
       "      <td>o</td>\n",
       "      <td>e</td>\n",
       "      <td>w</td>\n",
       "      <td>v</td>\n",
       "      <td>d</td>\n",
       "      <td>4</td>\n",
       "    </tr>\n",
       "    <tr>\n",
       "      <th>4059</th>\n",
       "      <td>5548</td>\n",
       "      <td>e</td>\n",
       "      <td>x</td>\n",
       "      <td>s</td>\n",
       "      <td>g</td>\n",
       "      <td>f</td>\n",
       "      <td>n</td>\n",
       "      <td>f</td>\n",
       "      <td>w</td>\n",
       "      <td>b</td>\n",
       "      <td>h</td>\n",
       "      <td>t</td>\n",
       "      <td>e</td>\n",
       "      <td>f</td>\n",
       "      <td>s</td>\n",
       "      <td>w</td>\n",
       "      <td>w</td>\n",
       "      <td>p</td>\n",
       "      <td>w</td>\n",
       "      <td>o</td>\n",
       "      <td>e</td>\n",
       "      <td>n</td>\n",
       "      <td>a</td>\n",
       "      <td>g</td>\n",
       "      <td>4</td>\n",
       "    </tr>\n",
       "    <tr>\n",
       "      <th>4060</th>\n",
       "      <td>2973</td>\n",
       "      <td>e</td>\n",
       "      <td>x</td>\n",
       "      <td>s</td>\n",
       "      <td>w</td>\n",
       "      <td>t</td>\n",
       "      <td>a</td>\n",
       "      <td>f</td>\n",
       "      <td>c</td>\n",
       "      <td>b</td>\n",
       "      <td>w</td>\n",
       "      <td>e</td>\n",
       "      <td>c</td>\n",
       "      <td>s</td>\n",
       "      <td>s</td>\n",
       "      <td>w</td>\n",
       "      <td>w</td>\n",
       "      <td>p</td>\n",
       "      <td>w</td>\n",
       "      <td>o</td>\n",
       "      <td>p</td>\n",
       "      <td>n</td>\n",
       "      <td>s</td>\n",
       "      <td>m</td>\n",
       "      <td>4</td>\n",
       "    </tr>\n",
       "    <tr>\n",
       "      <th>4061</th>\n",
       "      <td>7837</td>\n",
       "      <td>e</td>\n",
       "      <td>x</td>\n",
       "      <td>f</td>\n",
       "      <td>e</td>\n",
       "      <td>t</td>\n",
       "      <td>n</td>\n",
       "      <td>f</td>\n",
       "      <td>c</td>\n",
       "      <td>b</td>\n",
       "      <td>n</td>\n",
       "      <td>t</td>\n",
       "      <td>b</td>\n",
       "      <td>s</td>\n",
       "      <td>s</td>\n",
       "      <td>w</td>\n",
       "      <td>p</td>\n",
       "      <td>p</td>\n",
       "      <td>w</td>\n",
       "      <td>o</td>\n",
       "      <td>p</td>\n",
       "      <td>k</td>\n",
       "      <td>v</td>\n",
       "      <td>d</td>\n",
       "      <td>4</td>\n",
       "    </tr>\n",
       "  </tbody>\n",
       "</table>\n",
       "</div>"
      ],
      "text/plain": [
       "        id  Y cap-shape cap-surface  ... spore-print-color population habitat kfold\n",
       "4057  7862  p         f           y  ...                 w          c       d     4\n",
       "4058   485  p         x           s  ...                 w          v       d     4\n",
       "4059  5548  e         x           s  ...                 n          a       g     4\n",
       "4060  2973  e         x           s  ...                 n          s       m     4\n",
       "4061  7837  e         x           f  ...                 k          v       d     4\n",
       "\n",
       "[5 rows x 25 columns]"
      ]
     },
     "execution_count": 13,
     "metadata": {},
     "output_type": "execute_result"
    }
   ],
   "source": [
    "train_df.tail()"
   ]
  },
  {
   "cell_type": "code",
   "execution_count": null,
   "metadata": {
    "id": "g-na4V8D3kT_"
   },
   "outputs": [],
   "source": []
  },
  {
   "cell_type": "markdown",
   "metadata": {
    "id": "7mauckKd7Vk4"
   },
   "source": [
    "## 学習データ"
   ]
  },
  {
   "cell_type": "code",
   "execution_count": null,
   "metadata": {
    "colab": {
     "base_uri": "https://localhost:8080/",
     "height": 297
    },
    "executionInfo": {
     "elapsed": 228,
     "status": "ok",
     "timestamp": 1637807246533,
     "user": {
      "displayName": "SHOGO MASE",
      "photoUrl": "https://lh3.googleusercontent.com/a/default-user=s64",
      "userId": "03778749233417098240"
     },
     "user_tz": -540
    },
    "id": "29HOrppl6zy1",
    "outputId": "398d1f29-7e97-4d57-d3a0-351d80b08d61"
   },
   "outputs": [
    {
     "data": {
      "text/html": [
       "<div>\n",
       "<style scoped>\n",
       "    .dataframe tbody tr th:only-of-type {\n",
       "        vertical-align: middle;\n",
       "    }\n",
       "\n",
       "    .dataframe tbody tr th {\n",
       "        vertical-align: top;\n",
       "    }\n",
       "\n",
       "    .dataframe thead th {\n",
       "        text-align: right;\n",
       "    }\n",
       "</style>\n",
       "<table border=\"1\" class=\"dataframe\">\n",
       "  <thead>\n",
       "    <tr style=\"text-align: right;\">\n",
       "      <th></th>\n",
       "      <th>id</th>\n",
       "      <th>survived</th>\n",
       "      <th>pclass</th>\n",
       "      <th>age</th>\n",
       "      <th>sibsp</th>\n",
       "      <th>parch</th>\n",
       "      <th>fare</th>\n",
       "    </tr>\n",
       "  </thead>\n",
       "  <tbody>\n",
       "    <tr>\n",
       "      <th>count</th>\n",
       "      <td>445.000000</td>\n",
       "      <td>445.000000</td>\n",
       "      <td>445.000000</td>\n",
       "      <td>360.000000</td>\n",
       "      <td>445.000000</td>\n",
       "      <td>445.000000</td>\n",
       "      <td>445.000000</td>\n",
       "    </tr>\n",
       "    <tr>\n",
       "      <th>mean</th>\n",
       "      <td>456.002247</td>\n",
       "      <td>0.402247</td>\n",
       "      <td>2.296629</td>\n",
       "      <td>29.211583</td>\n",
       "      <td>0.546067</td>\n",
       "      <td>0.431461</td>\n",
       "      <td>33.959971</td>\n",
       "    </tr>\n",
       "    <tr>\n",
       "      <th>std</th>\n",
       "      <td>256.703351</td>\n",
       "      <td>0.490903</td>\n",
       "      <td>0.834024</td>\n",
       "      <td>14.154300</td>\n",
       "      <td>1.195247</td>\n",
       "      <td>0.850489</td>\n",
       "      <td>52.079492</td>\n",
       "    </tr>\n",
       "    <tr>\n",
       "      <th>min</th>\n",
       "      <td>3.000000</td>\n",
       "      <td>0.000000</td>\n",
       "      <td>1.000000</td>\n",
       "      <td>0.670000</td>\n",
       "      <td>0.000000</td>\n",
       "      <td>0.000000</td>\n",
       "      <td>0.000000</td>\n",
       "    </tr>\n",
       "    <tr>\n",
       "      <th>25%</th>\n",
       "      <td>227.000000</td>\n",
       "      <td>0.000000</td>\n",
       "      <td>2.000000</td>\n",
       "      <td>20.000000</td>\n",
       "      <td>0.000000</td>\n",
       "      <td>0.000000</td>\n",
       "      <td>7.925000</td>\n",
       "    </tr>\n",
       "    <tr>\n",
       "      <th>50%</th>\n",
       "      <td>463.000000</td>\n",
       "      <td>0.000000</td>\n",
       "      <td>3.000000</td>\n",
       "      <td>28.000000</td>\n",
       "      <td>0.000000</td>\n",
       "      <td>0.000000</td>\n",
       "      <td>15.000000</td>\n",
       "    </tr>\n",
       "    <tr>\n",
       "      <th>75%</th>\n",
       "      <td>679.000000</td>\n",
       "      <td>1.000000</td>\n",
       "      <td>3.000000</td>\n",
       "      <td>37.250000</td>\n",
       "      <td>1.000000</td>\n",
       "      <td>1.000000</td>\n",
       "      <td>31.387500</td>\n",
       "    </tr>\n",
       "    <tr>\n",
       "      <th>max</th>\n",
       "      <td>888.000000</td>\n",
       "      <td>1.000000</td>\n",
       "      <td>3.000000</td>\n",
       "      <td>80.000000</td>\n",
       "      <td>8.000000</td>\n",
       "      <td>5.000000</td>\n",
       "      <td>512.329200</td>\n",
       "    </tr>\n",
       "  </tbody>\n",
       "</table>\n",
       "</div>"
      ],
      "text/plain": [
       "               id    survived      pclass  ...       sibsp       parch        fare\n",
       "count  445.000000  445.000000  445.000000  ...  445.000000  445.000000  445.000000\n",
       "mean   456.002247    0.402247    2.296629  ...    0.546067    0.431461   33.959971\n",
       "std    256.703351    0.490903    0.834024  ...    1.195247    0.850489   52.079492\n",
       "min      3.000000    0.000000    1.000000  ...    0.000000    0.000000    0.000000\n",
       "25%    227.000000    0.000000    2.000000  ...    0.000000    0.000000    7.925000\n",
       "50%    463.000000    0.000000    3.000000  ...    0.000000    0.000000   15.000000\n",
       "75%    679.000000    1.000000    3.000000  ...    1.000000    1.000000   31.387500\n",
       "max    888.000000    1.000000    3.000000  ...    8.000000    5.000000  512.329200\n",
       "\n",
       "[8 rows x 7 columns]"
      ]
     },
     "execution_count": 9,
     "metadata": {},
     "output_type": "execute_result"
    }
   ],
   "source": [
    "train_df.describe()"
   ]
  },
  {
   "cell_type": "code",
   "execution_count": null,
   "metadata": {
    "colab": {
     "base_uri": "https://localhost:8080/",
     "height": 142
    },
    "executionInfo": {
     "elapsed": 230,
     "status": "ok",
     "timestamp": 1637807399086,
     "user": {
      "displayName": "SHOGO MASE",
      "photoUrl": "https://lh3.googleusercontent.com/a/default-user=s64",
      "userId": "03778749233417098240"
     },
     "user_tz": -540
    },
    "id": "SrwPcYyE6z1c",
    "outputId": "2e84f812-29d4-4a0c-b2b9-39f943b09e8b"
   },
   "outputs": [
    {
     "data": {
      "text/html": [
       "<div>\n",
       "<style scoped>\n",
       "    .dataframe tbody tr th:only-of-type {\n",
       "        vertical-align: middle;\n",
       "    }\n",
       "\n",
       "    .dataframe tbody tr th {\n",
       "        vertical-align: top;\n",
       "    }\n",
       "\n",
       "    .dataframe thead th {\n",
       "        text-align: right;\n",
       "    }\n",
       "</style>\n",
       "<table border=\"1\" class=\"dataframe\">\n",
       "  <thead>\n",
       "    <tr style=\"text-align: right;\">\n",
       "      <th></th>\n",
       "      <th>pclass</th>\n",
       "      <th>survived</th>\n",
       "    </tr>\n",
       "  </thead>\n",
       "  <tbody>\n",
       "    <tr>\n",
       "      <th>0</th>\n",
       "      <td>1</td>\n",
       "      <td>0.685185</td>\n",
       "    </tr>\n",
       "    <tr>\n",
       "      <th>1</th>\n",
       "      <td>2</td>\n",
       "      <td>0.443299</td>\n",
       "    </tr>\n",
       "    <tr>\n",
       "      <th>2</th>\n",
       "      <td>3</td>\n",
       "      <td>0.258333</td>\n",
       "    </tr>\n",
       "  </tbody>\n",
       "</table>\n",
       "</div>"
      ],
      "text/plain": [
       "   pclass  survived\n",
       "0       1  0.685185\n",
       "1       2  0.443299\n",
       "2       3  0.258333"
      ]
     },
     "execution_count": 11,
     "metadata": {},
     "output_type": "execute_result"
    }
   ],
   "source": [
    "train_df[['pclass', 'survived']].groupby(['pclass'], as_index=False).mean().sort_values(by='survived', ascending=False)"
   ]
  },
  {
   "cell_type": "code",
   "execution_count": null,
   "metadata": {
    "colab": {
     "base_uri": "https://localhost:8080/",
     "height": 111
    },
    "executionInfo": {
     "elapsed": 210,
     "status": "ok",
     "timestamp": 1637807514876,
     "user": {
      "displayName": "SHOGO MASE",
      "photoUrl": "https://lh3.googleusercontent.com/a/default-user=s64",
      "userId": "03778749233417098240"
     },
     "user_tz": -540
    },
    "id": "AB5vyq4q6z4g",
    "outputId": "34440b4a-d2ac-4ad7-cea5-004a6e445e15"
   },
   "outputs": [
    {
     "data": {
      "text/html": [
       "<div>\n",
       "<style scoped>\n",
       "    .dataframe tbody tr th:only-of-type {\n",
       "        vertical-align: middle;\n",
       "    }\n",
       "\n",
       "    .dataframe tbody tr th {\n",
       "        vertical-align: top;\n",
       "    }\n",
       "\n",
       "    .dataframe thead th {\n",
       "        text-align: right;\n",
       "    }\n",
       "</style>\n",
       "<table border=\"1\" class=\"dataframe\">\n",
       "  <thead>\n",
       "    <tr style=\"text-align: right;\">\n",
       "      <th></th>\n",
       "      <th>sex</th>\n",
       "      <th>survived</th>\n",
       "    </tr>\n",
       "  </thead>\n",
       "  <tbody>\n",
       "    <tr>\n",
       "      <th>0</th>\n",
       "      <td>female</td>\n",
       "      <td>0.775641</td>\n",
       "    </tr>\n",
       "    <tr>\n",
       "      <th>1</th>\n",
       "      <td>male</td>\n",
       "      <td>0.200692</td>\n",
       "    </tr>\n",
       "  </tbody>\n",
       "</table>\n",
       "</div>"
      ],
      "text/plain": [
       "      sex  survived\n",
       "0  female  0.775641\n",
       "1    male  0.200692"
      ]
     },
     "execution_count": 13,
     "metadata": {},
     "output_type": "execute_result"
    }
   ],
   "source": [
    "train_df[['sex', 'survived']].groupby(['sex'], as_index=False).mean().sort_values(by='survived', ascending=False)"
   ]
  },
  {
   "cell_type": "code",
   "execution_count": null,
   "metadata": {
    "colab": {
     "base_uri": "https://localhost:8080/",
     "height": 266
    },
    "executionInfo": {
     "elapsed": 218,
     "status": "ok",
     "timestamp": 1637807544996,
     "user": {
      "displayName": "SHOGO MASE",
      "photoUrl": "https://lh3.googleusercontent.com/a/default-user=s64",
      "userId": "03778749233417098240"
     },
     "user_tz": -540
    },
    "id": "us5vE8wq6z66",
    "outputId": "3730e827-7797-4ccd-fb5d-dd10f5914b63"
   },
   "outputs": [
    {
     "data": {
      "text/html": [
       "<div>\n",
       "<style scoped>\n",
       "    .dataframe tbody tr th:only-of-type {\n",
       "        vertical-align: middle;\n",
       "    }\n",
       "\n",
       "    .dataframe tbody tr th {\n",
       "        vertical-align: top;\n",
       "    }\n",
       "\n",
       "    .dataframe thead th {\n",
       "        text-align: right;\n",
       "    }\n",
       "</style>\n",
       "<table border=\"1\" class=\"dataframe\">\n",
       "  <thead>\n",
       "    <tr style=\"text-align: right;\">\n",
       "      <th></th>\n",
       "      <th>sibsp</th>\n",
       "      <th>survived</th>\n",
       "    </tr>\n",
       "  </thead>\n",
       "  <tbody>\n",
       "    <tr>\n",
       "      <th>1</th>\n",
       "      <td>1</td>\n",
       "      <td>0.576577</td>\n",
       "    </tr>\n",
       "    <tr>\n",
       "      <th>2</th>\n",
       "      <td>2</td>\n",
       "      <td>0.571429</td>\n",
       "    </tr>\n",
       "    <tr>\n",
       "      <th>0</th>\n",
       "      <td>0</td>\n",
       "      <td>0.351171</td>\n",
       "    </tr>\n",
       "    <tr>\n",
       "      <th>3</th>\n",
       "      <td>3</td>\n",
       "      <td>0.333333</td>\n",
       "    </tr>\n",
       "    <tr>\n",
       "      <th>4</th>\n",
       "      <td>4</td>\n",
       "      <td>0.000000</td>\n",
       "    </tr>\n",
       "    <tr>\n",
       "      <th>5</th>\n",
       "      <td>5</td>\n",
       "      <td>0.000000</td>\n",
       "    </tr>\n",
       "    <tr>\n",
       "      <th>6</th>\n",
       "      <td>8</td>\n",
       "      <td>0.000000</td>\n",
       "    </tr>\n",
       "  </tbody>\n",
       "</table>\n",
       "</div>"
      ],
      "text/plain": [
       "   sibsp  survived\n",
       "1      1  0.576577\n",
       "2      2  0.571429\n",
       "0      0  0.351171\n",
       "3      3  0.333333\n",
       "4      4  0.000000\n",
       "5      5  0.000000\n",
       "6      8  0.000000"
      ]
     },
     "execution_count": 14,
     "metadata": {},
     "output_type": "execute_result"
    }
   ],
   "source": [
    "train_df[['sibsp', 'survived']].groupby(['sibsp'], as_index=False).mean().sort_values(by='survived', ascending=False)"
   ]
  },
  {
   "cell_type": "code",
   "execution_count": null,
   "metadata": {
    "colab": {
     "base_uri": "https://localhost:8080/",
     "height": 235
    },
    "executionInfo": {
     "elapsed": 249,
     "status": "ok",
     "timestamp": 1637807976768,
     "user": {
      "displayName": "SHOGO MASE",
      "photoUrl": "https://lh3.googleusercontent.com/a/default-user=s64",
      "userId": "03778749233417098240"
     },
     "user_tz": -540
    },
    "id": "zCH9ATtp77Oh",
    "outputId": "8d1ef337-bafa-41bd-b343-a12576386c06"
   },
   "outputs": [
    {
     "data": {
      "text/html": [
       "<div>\n",
       "<style scoped>\n",
       "    .dataframe tbody tr th:only-of-type {\n",
       "        vertical-align: middle;\n",
       "    }\n",
       "\n",
       "    .dataframe tbody tr th {\n",
       "        vertical-align: top;\n",
       "    }\n",
       "\n",
       "    .dataframe thead th {\n",
       "        text-align: right;\n",
       "    }\n",
       "</style>\n",
       "<table border=\"1\" class=\"dataframe\">\n",
       "  <thead>\n",
       "    <tr style=\"text-align: right;\">\n",
       "      <th></th>\n",
       "      <th>parch</th>\n",
       "      <th>survived</th>\n",
       "    </tr>\n",
       "  </thead>\n",
       "  <tbody>\n",
       "    <tr>\n",
       "      <th>1</th>\n",
       "      <td>1</td>\n",
       "      <td>0.642857</td>\n",
       "    </tr>\n",
       "    <tr>\n",
       "      <th>3</th>\n",
       "      <td>3</td>\n",
       "      <td>0.600000</td>\n",
       "    </tr>\n",
       "    <tr>\n",
       "      <th>2</th>\n",
       "      <td>2</td>\n",
       "      <td>0.428571</td>\n",
       "    </tr>\n",
       "    <tr>\n",
       "      <th>0</th>\n",
       "      <td>0</td>\n",
       "      <td>0.357576</td>\n",
       "    </tr>\n",
       "    <tr>\n",
       "      <th>5</th>\n",
       "      <td>5</td>\n",
       "      <td>0.333333</td>\n",
       "    </tr>\n",
       "    <tr>\n",
       "      <th>4</th>\n",
       "      <td>4</td>\n",
       "      <td>0.000000</td>\n",
       "    </tr>\n",
       "  </tbody>\n",
       "</table>\n",
       "</div>"
      ],
      "text/plain": [
       "   parch  survived\n",
       "1      1  0.642857\n",
       "3      3  0.600000\n",
       "2      2  0.428571\n",
       "0      0  0.357576\n",
       "5      5  0.333333\n",
       "4      4  0.000000"
      ]
     },
     "execution_count": 16,
     "metadata": {},
     "output_type": "execute_result"
    }
   ],
   "source": [
    "train_df[['parch', 'survived']].groupby(['parch'], as_index=False).mean().sort_values(by='survived', ascending=False)"
   ]
  },
  {
   "cell_type": "code",
   "execution_count": null,
   "metadata": {
    "colab": {
     "base_uri": "https://localhost:8080/",
     "height": 225
    },
    "executionInfo": {
     "elapsed": 1014,
     "status": "ok",
     "timestamp": 1637808093674,
     "user": {
      "displayName": "SHOGO MASE",
      "photoUrl": "https://lh3.googleusercontent.com/a/default-user=s64",
      "userId": "03778749233417098240"
     },
     "user_tz": -540
    },
    "id": "fWJqSvVG77RC",
    "outputId": "fcb0911d-f967-42a6-9adb-33a0dddbd05b"
   },
   "outputs": [
    {
     "data": {
      "image/png": "[encoded data removed]",
      "text/plain": [
       "<Figure size 432x216 with 2 Axes>"
      ]
     },
     "metadata": {
      "needs_background": "light"
     },
     "output_type": "display_data"
    }
   ],
   "source": [
    "g = sns.FacetGrid(train_df, col='survived')\n",
    "g.map(plt.hist, 'age', bins=30);"
   ]
  },
  {
   "cell_type": "code",
   "execution_count": null,
   "metadata": {
    "colab": {
     "base_uri": "https://localhost:8080/",
     "height": 502
    },
    "executionInfo": {
     "elapsed": 3629,
     "status": "ok",
     "timestamp": 1637808185705,
     "user": {
      "displayName": "SHOGO MASE",
      "photoUrl": "https://lh3.googleusercontent.com/a/default-user=s64",
      "userId": "03778749233417098240"
     },
     "user_tz": -540
    },
    "id": "GhsM67zZ77U-",
    "outputId": "c6a088fd-0401-46fe-e704-acdbcbf03b1a"
   },
   "outputs": [
    {
     "name": "stderr",
     "output_type": "stream",
     "text": [
      "The `size` parameter has been renamed to `height`; please update your code.\n"
     ]
    },
    {
     "data": {
      "image/png": "[encoded data removed]",
      "text/plain": [
       "<Figure size 514.88x475.2 with 6 Axes>"
      ]
     },
     "metadata": {
      "needs_background": "light"
     },
     "output_type": "display_data"
    }
   ],
   "source": [
    "# 高級クラスで20-30歳でなくなっている人多し\n",
    "grid = sns.FacetGrid(train_df, col='survived', row='pclass', size=2.2, aspect=1.6)\n",
    "grid.map(plt.hist, 'age', alpha=.5, bins=20)\n",
    "grid.add_legend();"
   ]
  },
  {
   "cell_type": "code",
   "execution_count": null,
   "metadata": {
    "colab": {
     "base_uri": "https://localhost:8080/",
     "height": 492
    },
    "executionInfo": {
     "elapsed": 3695,
     "status": "ok",
     "timestamp": 1637810411680,
     "user": {
      "displayName": "SHOGO MASE",
      "photoUrl": "https://lh3.googleusercontent.com/a/default-user=s64",
      "userId": "03778749233417098240"
     },
     "user_tz": -540
    },
    "id": "S_zWfndIE7K1",
    "outputId": "90cf6762-31c4-4133-fb6f-3c0aa59ece07"
   },
   "outputs": [
    {
     "name": "stderr",
     "output_type": "stream",
     "text": [
      "The `size` parameter has been renamed to `height`; please update your code.\n",
      "Using the barplot function without specifying `order` is likely to produce an incorrect plot.\n"
     ]
    },
    {
     "data": {
      "text/plain": [
       "<seaborn.axisgrid.FacetGrid at 0x7fabe8567310>"
      ]
     },
     "execution_count": 46,
     "metadata": {},
     "output_type": "execute_result"
    },
    {
     "data": {
      "image/png": "[encoded data removed]",
      "text/plain": [
       "<Figure size 699.2x432 with 9 Axes>"
      ]
     },
     "metadata": {
      "needs_background": "light"
     },
     "output_type": "display_data"
    }
   ],
   "source": [
    "grid = sns.FacetGrid(train_df, row='embarked', col='pclass', size=2, aspect=1.6)\n",
    "grid.map(sns.barplot, 'sex',   'survived', palette='deep')\n",
    "grid.add_legend()"
   ]
  },
  {
   "cell_type": "code",
   "execution_count": null,
   "metadata": {
    "colab": {
     "base_uri": "https://localhost:8080/",
     "height": 394
    },
    "executionInfo": {
     "elapsed": 1519,
     "status": "ok",
     "timestamp": 1637810819378,
     "user": {
      "displayName": "SHOGO MASE",
      "photoUrl": "https://lh3.googleusercontent.com/a/default-user=s64",
      "userId": "03778749233417098240"
     },
     "user_tz": -540
    },
    "id": "vb9M70Td-3fA",
    "outputId": "b75a5ed0-74ac-4637-8951-ee734f3b94dd"
   },
   "outputs": [
    {
     "name": "stderr",
     "output_type": "stream",
     "text": [
      "The `size` parameter has been renamed to `height`; please update your code.\n",
      "Using the pointplot function without specifying `order` is likely to produce an incorrect plot.\n",
      "Using the pointplot function without specifying `hue_order` is likely to produce an incorrect plot.\n"
     ]
    },
    {
     "data": {
      "text/plain": [
       "<seaborn.axisgrid.FacetGrid at 0x7fabe6de8a10>"
      ]
     },
     "execution_count": 60,
     "metadata": {},
     "output_type": "execute_result"
    },
    {
     "data": {
      "image/png": "[encoded data removed]",
      "text/plain": [
       "<Figure size 323.94x316.8 with 2 Axes>"
      ]
     },
     "metadata": {
      "needs_background": "light"
     },
     "output_type": "display_data"
    }
   ],
   "source": [
    "# 高級クラスで20-30歳でなくなっている人多し\n",
    "\n",
    "# sns.pointplot(data=train_df, x='pclass', y='age', hue='sex')\n",
    "grid = sns.FacetGrid(train_df, row='survived',  size=2.2, aspect=1.6)\n",
    "grid.map(sns.pointplot, 'pclass', 'age', 'sex', palette='deep')\n",
    "grid.add_legend()"
   ]
  },
  {
   "cell_type": "code",
   "execution_count": null,
   "metadata": {
    "colab": {
     "base_uri": "https://localhost:8080/"
    },
    "executionInfo": {
     "elapsed": 197,
     "status": "ok",
     "timestamp": 1637811110738,
     "user": {
      "displayName": "SHOGO MASE",
      "photoUrl": "https://lh3.googleusercontent.com/a/default-user=s64",
      "userId": "03778749233417098240"
     },
     "user_tz": -540
    },
    "id": "f41DeiOKIgnj",
    "outputId": "4becc7e7-1d2e-4d45-ac79-b69d77a4ae96"
   },
   "outputs": [
    {
     "name": "stdout",
     "output_type": "stream",
     "text": [
      "S      68\n",
      "C      38\n",
      "NaN     2\n",
      "Name: embarked, dtype: int64\n",
      "S    87\n",
      "C     9\n",
      "Q     1\n",
      "Name: embarked, dtype: int64\n",
      "S    170\n",
      "Q     38\n",
      "C     32\n",
      "Name: embarked, dtype: int64\n"
     ]
    }
   ],
   "source": [
    "print(train_df[train_df['pclass'] == 1][\"embarked\"].value_counts(dropna=False))\n",
    "print(train_df[train_df['pclass'] == 2][\"embarked\"].value_counts(dropna=False))\n",
    "print(train_df[train_df['pclass'] == 3][\"embarked\"].value_counts(dropna=False))"
   ]
  },
  {
   "cell_type": "code",
   "execution_count": null,
   "metadata": {
    "colab": {
     "base_uri": "https://localhost:8080/",
     "height": 536
    },
    "executionInfo": {
     "elapsed": 2173,
     "status": "ok",
     "timestamp": 1637808636380,
     "user": {
      "displayName": "SHOGO MASE",
      "photoUrl": "https://lh3.googleusercontent.com/a/default-user=s64",
      "userId": "03778749233417098240"
     },
     "user_tz": -540
    },
    "id": "9MC5obwG-9gB",
    "outputId": "8fb03c7b-9ec5-484c-c4fd-d42f63b66090"
   },
   "outputs": [
    {
     "name": "stderr",
     "output_type": "stream",
     "text": [
      "The `size` parameter has been renamed to `height`; please update your code.\n",
      "Using the barplot function without specifying `order` is likely to produce an incorrect plot.\n"
     ]
    },
    {
     "data": {
      "text/plain": [
       "<seaborn.axisgrid.FacetGrid at 0x7fabeb682c10>"
      ]
     },
     "execution_count": 24,
     "metadata": {},
     "output_type": "execute_result"
    },
    {
     "data": {
      "image/png": "[encoded data removed]",
      "text/plain": [
       "<Figure size 514.88x475.2 with 6 Axes>"
      ]
     },
     "metadata": {
      "needs_background": "light"
     },
     "output_type": "display_data"
    }
   ],
   "source": [
    "grid = sns.FacetGrid(train_df, row='embarked', col='survived', size=2.2, aspect=1.6)\n",
    "grid.map(sns.barplot, 'sex', 'fare', alpha=.5, ci=None)\n",
    "grid.add_legend()"
   ]
  },
  {
   "cell_type": "code",
   "execution_count": null,
   "metadata": {
    "colab": {
     "base_uri": "https://localhost:8080/",
     "height": 519
    },
    "executionInfo": {
     "elapsed": 3705,
     "status": "ok",
     "timestamp": 1637808742640,
     "user": {
      "displayName": "SHOGO MASE",
      "photoUrl": "https://lh3.googleusercontent.com/a/default-user=s64",
      "userId": "03778749233417098240"
     },
     "user_tz": -540
    },
    "id": "K8ausC8h-9iu",
    "outputId": "21c4494b-be7b-462f-b84d-016f8f902c71"
   },
   "outputs": [
    {
     "name": "stderr",
     "output_type": "stream",
     "text": [
      "The `size` parameter has been renamed to `height`; please update your code.\n"
     ]
    },
    {
     "data": {
      "text/plain": [
       "<seaborn.axisgrid.FacetGrid at 0x7fabeb48a390>"
      ]
     },
     "execution_count": 25,
     "metadata": {},
     "output_type": "execute_result"
    },
    {
     "data": {
      "image/png": "[encoded data removed]",
      "text/plain": [
       "<Figure size 514.88x475.2 with 6 Axes>"
      ]
     },
     "metadata": {
      "needs_background": "light"
     },
     "output_type": "display_data"
    }
   ],
   "source": [
    "grid = sns.FacetGrid(train_df, row='pclass', col='sex', size=2.2, aspect=1.6)\n",
    "grid.map(plt.hist, 'age', alpha=.5, bins=20)\n",
    "grid.add_legend()"
   ]
  },
  {
   "cell_type": "code",
   "execution_count": null,
   "metadata": {
    "id": "PYeRS31ScTAY"
   },
   "outputs": [],
   "source": []
  }
 ],
 "metadata": {
  "accelerator": "GPU",
  "colab": {
   "authorship_tag": "ABX9TyOpyHUWS4RFtQBcxKTYcpkM",
   "collapsed_sections": [],
   "name": "001_mush_folds.ipynb",
   "provenance": []
  },
  "kernelspec": {
   "display_name": "Python 3",
   "language": "python",
   "name": "python3"
  },
  "language_info": {
   "codemirror_mode": {
    "name": "ipython",
    "version": 3
   },
   "file_extension": ".py",
   "mimetype": "text/x-python",
   "name": "python",
   "nbconvert_exporter": "python",
   "pygments_lexer": "ipython3",
   "version": "3.7.3"
  }
 },
 "nbformat": 4,
 "nbformat_minor": 2
}
